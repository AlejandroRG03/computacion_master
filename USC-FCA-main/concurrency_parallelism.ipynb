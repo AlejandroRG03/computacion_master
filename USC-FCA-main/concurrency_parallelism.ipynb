{
  "cells": [
    {
      "cell_type": "markdown",
      "id": "62dddef1",
      "metadata": {
        "tags": [],
        "id": "62dddef1"
      },
      "source": [
        "# Advanced Computational Physics\n",
        "\n",
        "\n",
        "## More about Python: Functions, Classes and Symbolic computing\n",
        "### Subprocesses, concurrency and parallelism in Python\n",
        "\n",
        "\n",
        "#### *X. Cid Vidal*\n",
        "####  USC, October 2024\n"
      ]
    },
    {
      "cell_type": "code",
      "execution_count": null,
      "id": "058ac9d1-1953-45a1-8596-9634fae5bc0f",
      "metadata": {
        "id": "058ac9d1-1953-45a1-8596-9634fae5bc0f",
        "outputId": "67311298-1b9c-49ef-e080-80d6d0e99062"
      },
      "outputs": [
        {
          "name": "stdout",
          "output_type": "stream",
          "text": [
            " Last revision  Tue Nov  5 13:19:31 2024\n"
          ]
        }
      ],
      "source": [
        "import time\n",
        "print(' Last revision ', time.asctime())"
      ]
    },
    {
      "cell_type": "markdown",
      "id": "7f22572a-7d12-447d-8c51-c25350c6e537",
      "metadata": {
        "id": "7f22572a-7d12-447d-8c51-c25350c6e537"
      },
      "source": [
        "## 1. Working with Subprocesses in Python\n",
        "The `subprocess` module in Python allows you to spawn new processes, connect to their input/output pipes, and retrieve their results. It's a powerful tool for running shell commands or integrating Python with external programs.\n",
        "\n",
        "You can use `subprocess.run()`, `subprocess.Popen()`, and other functions depending on the level of control you need. Here are some common uses of `subprocess`:\n",
        "- Running shell commands\n",
        "- Communicating with a process (passing input and receiving output)\n",
        "- Handling errors raised by subprocesses\n",
        "- Running background tasks"
      ]
    },
    {
      "cell_type": "code",
      "execution_count": null,
      "id": "f346c610",
      "metadata": {
        "id": "f346c610",
        "outputId": "caafce87-1182-40ab-d688-a235b0bf6575"
      },
      "outputs": [
        {
          "name": "stdout",
          "output_type": "stream",
          "text": [
            "Hello from subprocess\n",
            "\n"
          ]
        }
      ],
      "source": [
        "import subprocess\n",
        "\n",
        "# Example of running a shell command with subprocess\n",
        "result = subprocess.run(['echo', 'Hello from subprocess'], stdout=subprocess.PIPE, text=True)\n",
        "\n",
        "# Print the output\n",
        "print(result.stdout)"
      ]
    },
    {
      "cell_type": "markdown",
      "id": "5b7cd71a-d801-4d9b-a58b-c0630c1abf0b",
      "metadata": {
        "id": "5b7cd71a-d801-4d9b-a58b-c0630c1abf0b"
      },
      "source": [
        "### Explanation: `subprocess.run`\n",
        "- The `subprocess.run()` function runs a command, waits for it to finish, and returns a `CompletedProcess` object.\n",
        "- `stdout=subprocess.PIPE` captures the output of the command.\n",
        "- `text=True` ensures the output is in string format rather than bytes.\n"
      ]
    },
    {
      "cell_type": "markdown",
      "id": "b16567b8-2732-430b-ba9b-e74880bb4980",
      "metadata": {
        "id": "b16567b8-2732-430b-ba9b-e74880bb4980"
      },
      "source": [
        "### Example: Run a Shell Command Using Subprocess\n",
        "Write a Python script that uses the `subprocess` module to list all files and directories in the current directory using the shell command `ls` (or `dir` on Windows). Capture and print the output in Python."
      ]
    },
    {
      "cell_type": "code",
      "execution_count": null,
      "id": "b703b62c",
      "metadata": {
        "id": "b703b62c",
        "outputId": "e20578c7-923d-4d25-8968-8e21ceb6ac74"
      },
      "outputs": [
        {
          "name": "stdout",
          "output_type": "stream",
          "text": [
            "README.md\n",
            "about_functions.ipynb\n",
            "about_list_expressions.ipynb\n",
            "about_testing.ipynb\n",
            "classes.ipynb\n",
            "classes_intro.ipynb\n",
            "concurrency_parallelism.ipynb\n",
            "concurrency_parallelism_sol.ipynb\n",
            "cookbook_numpy.ipynb\n",
            "cookbook_pandas.ipynb\n",
            "environment.yml\n",
            "img\n",
            "index.ipynb\n",
            "output.txt\n",
            "python_intro.ipynb\n",
            "setup.ipynb\n",
            "shortcut_matplotlib1.ipynb\n",
            "shortcut_matplotlib2.ipynb\n",
            "sympy.ipynb\n",
            "test_subprocess_dir\n",
            "vector.py\n",
            "\n"
          ]
        }
      ],
      "source": [
        "# Use subprocess to list all files and directories\n",
        "result = subprocess.run(['ls'], stdout=subprocess.PIPE, text=True)\n",
        "\n",
        "# Print the output\n",
        "print(result.stdout)"
      ]
    },
    {
      "cell_type": "markdown",
      "id": "8caaaa02-4697-490b-b0b9-d83f573974af",
      "metadata": {
        "id": "8caaaa02-4697-490b-b0b9-d83f573974af"
      },
      "source": [
        "### 1.1 Running a Subprocess with Input\n",
        "You can also pass input to a subprocess. In the following example, we'll run the `bc` command (basic calculator) and pass input to it to perform a mathematical operation."
      ]
    },
    {
      "cell_type": "code",
      "execution_count": null,
      "id": "60b85414",
      "metadata": {
        "id": "60b85414",
        "outputId": "bc0115f3-dcf3-42ec-d2e8-abfa2c4788a6"
      },
      "outputs": [
        {
          "name": "stdout",
          "output_type": "stream",
          "text": [
            "Result from bc calculator: 15\n",
            "\n"
          ]
        }
      ],
      "source": [
        "# Example of subprocess with input\n",
        "result = subprocess.run(['bc'], input='5 + 10', stdout=subprocess.PIPE, text=True)\n",
        "\n",
        "# Print the output\n",
        "print('Result from bc calculator:', result.stdout)"
      ]
    },
    {
      "cell_type": "markdown",
      "id": "7bbeb000-2749-4855-a448-1553fe73c69b",
      "metadata": {
        "id": "7bbeb000-2749-4855-a448-1553fe73c69b"
      },
      "source": [
        "### Example: Subprocess with Input\n",
        "Use the `subprocess` module to call a calculator program (like `bc` on Unix-like systems) and pass multiple calculations to it. Capture and print the result of each calculation."
      ]
    },
    {
      "cell_type": "code",
      "execution_count": null,
      "id": "923f7895",
      "metadata": {
        "id": "923f7895",
        "outputId": "90d5505e-5271-405f-9ba4-8832276eb3f5"
      },
      "outputs": [
        {
          "name": "stdout",
          "output_type": "stream",
          "text": [
            "Results from bc calculator 0 :\n",
            "1025\n",
            "\n",
            "Results from bc calculator 1 :\n",
            "6\n",
            "\n"
          ]
        }
      ],
      "source": [
        "# Using subprocess to pass multiple inputs to bc calculator\n",
        "calculations = ['5 + 510 * 2','3+3']\n",
        "results = [subprocess.run(['bc'], input=calculation, stdout=subprocess.PIPE, text=True) for calculation in calculations]\n",
        "\n",
        "# Print the result of each calculation\n",
        "for i,result in enumerate(results):\n",
        "    print('Results from bc calculator',i,\":\")\n",
        "    print(result.stdout)"
      ]
    },
    {
      "cell_type": "markdown",
      "id": "44a55ccc-cc6a-4be1-b584-5595168af463",
      "metadata": {
        "id": "44a55ccc-cc6a-4be1-b584-5595168af463"
      },
      "source": [
        "### 1.2 Running a Subprocess with Error Handling and Timeout\n",
        "Here’s an example of using `subprocess.run()` with error handling. This command will attempt to ping different addresses, and we’ll handle the error using `subprocess.CalledProcessError` and set a timeout in case the process hangs."
      ]
    },
    {
      "cell_type": "code",
      "execution_count": null,
      "id": "36fca598-a2be-46e3-b203-5d51cc653764",
      "metadata": {
        "id": "36fca598-a2be-46e3-b203-5d51cc653764",
        "outputId": "2b706725-e741-4fc5-d91c-78dd8bfd78ee"
      },
      "outputs": [
        {
          "name": "stdout",
          "output_type": "stream",
          "text": [
            "PING 8.8.8.8 (8.8.8.8): 56 data bytes\n",
            "64 bytes from 8.8.8.8: icmp_seq=0 ttl=115 time=37.424 ms\n",
            "64 bytes from 8.8.8.8: icmp_seq=1 ttl=115 time=31.267 ms\n",
            "64 bytes from 8.8.8.8: icmp_seq=2 ttl=115 time=37.087 ms\n",
            "64 bytes from 8.8.8.8: icmp_seq=3 ttl=115 time=34.604 ms\n",
            "\n",
            "--- 8.8.8.8 ping statistics ---\n",
            "4 packets transmitted, 4 packets received, 0.0% packet loss\n",
            "round-trip min/avg/max/stddev = 31.267/35.096/37.424/2.464 ms\n",
            "\n",
            "Error occurred: ping: cannot resolve 256.256.256.256: Unknown host\n",
            "\n"
          ]
        }
      ],
      "source": [
        "import subprocess\n",
        "\n",
        "for ip in ['8.8.8.8','256.256.256.256']:\n",
        "    try:\n",
        "        # Run the command with timeout and check for errors\n",
        "        result = subprocess.run(['ping', '-c', '4', ip],\n",
        "                                stdout=subprocess.PIPE, stderr=subprocess.PIPE,\n",
        "                                text=True, timeout=5, check=True)\n",
        "    except subprocess.CalledProcessError as e:\n",
        "        print(f\"Error occurred: {e.stderr}\")\n",
        "    except subprocess.TimeoutExpired:\n",
        "        print(\"The subprocess timed out!\")\n",
        "    else:\n",
        "        print(result.stdout)"
      ]
    },
    {
      "cell_type": "markdown",
      "id": "55b1a5fd-9823-41e0-ab74-7da29ef9b91d",
      "metadata": {
        "id": "55b1a5fd-9823-41e0-ab74-7da29ef9b91d"
      },
      "source": [
        "### 1.3 Using `subprocess.Popen` for Advanced Control\n",
        "`subprocess.Popen` gives you more flexibility than `subprocess.run` as it allows you to interact with the process while it's running. You can send input and read output in real-time, making it useful for more complex tasks."
      ]
    },
    {
      "cell_type": "code",
      "execution_count": null,
      "id": "8fc7d9aa-a107-4a9d-b94e-4f8407588880",
      "metadata": {
        "id": "8fc7d9aa-a107-4a9d-b94e-4f8407588880",
        "outputId": "51a57b1e-c5a8-411b-cc36-b9b0fb3cb7d8"
      },
      "outputs": [
        {
          "name": "stdout",
          "output_type": "stream",
          "text": [
            "Output from bc: 25\n",
            "\n"
          ]
        }
      ],
      "source": [
        "import subprocess\n",
        "\n",
        "# Start a process with Popen and communicate with it\n",
        "process = subprocess.Popen(['bc'], stdin=subprocess.PIPE, stdout=subprocess.PIPE, stderr=subprocess.PIPE, text=True)\n",
        "\n",
        "# Send input to the process\n",
        "output, error = process.communicate(input='5 * 5')\n",
        "\n",
        "print('Output from bc:', output)"
      ]
    },
    {
      "cell_type": "markdown",
      "id": "153c496a-bed9-45b7-a95b-fb07e413d2a9",
      "metadata": {
        "id": "153c496a-bed9-45b7-a95b-fb07e413d2a9"
      },
      "source": [
        "## 2. Concurrency and parallelism\n",
        "We will now explore **concurrency** and **parallelism** in Python. These are powerful techniques for improving the performance of Python programs by allowing multiple operations to happen simultaneously or concurrently.\n",
        "\n",
        "We'll cover:\n",
        "- Multi-threading with the `threading` module\n",
        "- Multi-processing with the `multiprocessing` module\n",
        "- Asynchronous programming with `asyncio`"
      ]
    },
    {
      "cell_type": "markdown",
      "id": "323f0c9c",
      "metadata": {
        "id": "323f0c9c"
      },
      "source": [
        "### What is Concurrency and Parallelism?\n",
        "- **Concurrency**: Multiple tasks can start, run, and complete in overlapping time periods.\n",
        "- **Parallelism**: Multiple tasks are executed at the same time on multiple processors or cores.\n",
        "Python’s **GIL** (Global Interpreter Lock) affects how parallel threads are executed, but it can be bypassed using multi-processing or asynchronous programming.\n",
        "\n",
        "<center><img src=\"https://miro.medium.com/v2/resize:fit:4800/format:webp/0*zp67gXLSUUlcGeg4.png\" width=\"700\"></center>\n"
      ]
    },
    {
      "cell_type": "markdown",
      "id": "6b3f8576",
      "metadata": {
        "id": "6b3f8576"
      },
      "source": [
        "## 2.1 Multi-threading with the `threading` Module\n",
        "Multi-threading is useful for I/O-bound tasks like reading/writing files or handling network requests. Threads share the same memory space and can be used to handle tasks that do not require much CPU power."
      ]
    },
    {
      "cell_type": "code",
      "execution_count": null,
      "id": "ad03fb80",
      "metadata": {
        "id": "ad03fb80",
        "outputId": "090d68c7-c205-48d3-8a5b-a1a9a7c33077"
      },
      "outputs": [
        {
          "name": "stdout",
          "output_type": "stream",
          "text": [
            "start\n",
            "0\n",
            "0\n",
            "join\n",
            "\n",
            "1\n",
            "1\n",
            "2\n",
            "2\n",
            "3\n",
            "3\n",
            "44\n",
            "\n"
          ]
        }
      ],
      "source": [
        "import threading\n",
        "import time\n",
        "\n",
        "# Example of multi-threading\n",
        "def print_numbers():\n",
        "    for i in range(5):\n",
        "        print(i)\n",
        "        time.sleep(1)  # Simulate I/O-bound task with delay\n",
        "\n",
        "# Create two threads\n",
        "thread1 = threading.Thread(target=print_numbers)\n",
        "thread2 = threading.Thread(target=print_numbers)\n",
        "\n",
        "print(\"start\")\n",
        "# Start the threads\n",
        "thread1.start()\n",
        "thread2.start()\n",
        "\n",
        "print(\"\\njoin\")\n",
        "# Wait for threads to complete\n",
        "thread1.join()\n",
        "thread2.join()"
      ]
    },
    {
      "cell_type": "markdown",
      "id": "02342797",
      "metadata": {
        "id": "02342797"
      },
      "source": [
        "### Multi-threading example\n",
        "Create two threads, one that prints numbers from 1 to 5 with a delay of 1 second, and another that prints letters from 'A' to 'E' with a delay of 1.5 seconds. Both should run concurrently."
      ]
    },
    {
      "cell_type": "code",
      "execution_count": null,
      "id": "5ed3c996",
      "metadata": {
        "id": "5ed3c996",
        "outputId": "209fd3f7-1f39-4d64-c5f0-7f0480cfca16"
      },
      "outputs": [
        {
          "name": "stdout",
          "output_type": "stream",
          "text": [
            "start\n",
            "1\n",
            "A\n",
            "join\n",
            "2\n",
            "B\n",
            "3\n",
            "C\n",
            "4\n",
            "5\n",
            "D\n",
            "E\n"
          ]
        }
      ],
      "source": [
        "def print_numbers():\n",
        "    for i in range(1, 6):\n",
        "        print(i)\n",
        "        time.sleep(1)\n",
        "\n",
        "def print_letters():\n",
        "    for letter in 'ABCDE':\n",
        "        print(letter)\n",
        "        time.sleep(1.5)\n",
        "\n",
        "# Create threads\n",
        "thread1 = threading.Thread(target=print_numbers)\n",
        "thread2 = threading.Thread(target=print_letters)\n",
        "\n",
        "print(\"start\")\n",
        "# Start threads\n",
        "thread1.start()\n",
        "thread2.start()\n",
        "\n",
        "print(\"join\")\n",
        "# Wait for threads to finish\n",
        "thread1.join()\n",
        "thread2.join()"
      ]
    },
    {
      "cell_type": "code",
      "execution_count": null,
      "id": "7944d708",
      "metadata": {
        "id": "7944d708",
        "outputId": "a9e9b670-b9d9-4d87-917b-3a0d81a5a47a"
      },
      "outputs": [
        {
          "name": "stdout",
          "output_type": "stream",
          "text": [
            "FIRST\n",
            "1\n",
            "2\n",
            "3\n",
            "4\n",
            "5\n",
            "SECOND\n",
            "A\n",
            "B\n",
            "C\n",
            "D\n",
            "E\n"
          ]
        }
      ],
      "source": [
        "# Create threads\n",
        "thread1 = threading.Thread(target=print_numbers)\n",
        "thread2 = threading.Thread(target=print_letters)\n",
        "\n",
        "## COMPARE TO\n",
        "print(\"FIRST\")\n",
        "# Start first thread\n",
        "thread1.start()\n",
        "thread1.join()\n",
        "\n",
        "print(\"SECOND\")\n",
        "# don't start second till first finishes\n",
        "thread2.start()\n",
        "thread2.join()"
      ]
    },
    {
      "cell_type": "code",
      "execution_count": null,
      "id": "4ff981d3",
      "metadata": {
        "id": "4ff981d3",
        "outputId": "d7df9024-ff53-432a-d6c9-b4cb4d3aee38"
      },
      "outputs": [
        {
          "name": "stdout",
          "output_type": "stream",
          "text": [
            "FIRST\n",
            "1\n",
            "SECOND\n",
            "A\n",
            "2\n",
            "B\n",
            "3\n",
            "C4\n",
            "\n",
            "5\n",
            "D\n",
            "E\n"
          ]
        }
      ],
      "source": [
        "# Create threads\n",
        "thread1 = threading.Thread(target=print_numbers)\n",
        "thread2 = threading.Thread(target=print_letters)\n",
        "\n",
        "## OR\n",
        "print(\"FIRST\")\n",
        "# Start first thread\n",
        "thread1.start()\n",
        "\n",
        "print(\"SECOND\")\n",
        "# don't start second till first finishes\n",
        "thread2.start()"
      ]
    },
    {
      "cell_type": "markdown",
      "id": "4cf6ca14",
      "metadata": {
        "id": "4cf6ca14"
      },
      "source": [
        "## 2.2 Multi-processing with the `multiprocessing` Module\n",
        "Multi-processing allows you to bypass Python's GIL by running processes in separate memory spaces. This is ideal for CPU-bound tasks that need to run in parallel across multiple cores.\n",
        "Note multiprocessing **just won't work in Windows** and jupyter-notebooks. For those of you using Windows, just take the code as independent python files and run them, or move to another unix machine.\n",
        "Also, you'll need the idiom ``if __name__ == \"__main__\":`` in your main code to avoid infinite loops!"
      ]
    },
    {
      "cell_type": "code",
      "execution_count": null,
      "id": "7546b351",
      "metadata": {
        "id": "7546b351",
        "outputId": "dbbc50e2-bdcd-47a1-c147-2db52233430c"
      },
      "outputs": [
        {
          "name": "stdout",
          "output_type": "stream",
          "text": [
            "Square of 1 is 1\n",
            "Square of 2 is 4\n",
            "Square of 3 is 9\n",
            "Square of 4 is 16\n",
            "Square of 5 is 25\n"
          ]
        }
      ],
      "source": [
        "#import multiprocessing as mp\n",
        "import multiprocess as mp ## in ipython, use multiprocess instead (mostly the same)\n",
        "\n",
        "# Example of multi-processing\n",
        "def square_numbers(numbers):\n",
        "    for number in numbers:\n",
        "        print(f\"Square of {number} is {number ** 2}\")\n",
        "\n",
        "numbers = [1, 2, 3, 4, 5]\n",
        "\n",
        "\n",
        "# Create a process\n",
        "process = mp.Process(target=square_numbers, args=(numbers,))\n",
        "\n",
        "# Start and join the process\n",
        "process.start()\n",
        "process.join()"
      ]
    },
    {
      "cell_type": "markdown",
      "id": "733fe2f1",
      "metadata": {
        "id": "733fe2f1"
      },
      "source": [
        "### Multi-processing example\n",
        "Write a function that calculates the cube of numbers in a list. Use the `multiprocessing` module to run two processes simultaneously: one for squaring numbers and the other for cubing them."
      ]
    },
    {
      "cell_type": "code",
      "execution_count": null,
      "id": "26dcfdcc",
      "metadata": {
        "id": "26dcfdcc",
        "outputId": "33b5875b-07d5-4a13-d8ac-ce3e94d74c16"
      },
      "outputs": [
        {
          "name": "stdout",
          "output_type": "stream",
          "text": [
            "Square of 1 is 1\n",
            "Square of 2 is 4\n",
            "Square of 3 is 9\n",
            "Square of 4 is 16Cube of 1 is 1\n",
            "\n",
            "Square of 5 is 25\n",
            "Cube of 2 is 8\n",
            "Cube of 3 is 27\n",
            "Cube of 4 is 64\n",
            "Cube of 5 is 125\n"
          ]
        }
      ],
      "source": [
        "def cube_numbers(numbers):\n",
        "    for number in numbers:\n",
        "        print(f\"Cube of {number} is {number ** 3}\")\n",
        "\n",
        "# Create processes\n",
        "process1 = mp.Process(target=square_numbers, args=(numbers,))\n",
        "process2 = mp.Process(target=cube_numbers, args=(numbers,))\n",
        "\n",
        "# Start processes\n",
        "process1.start()\n",
        "process2.start()\n",
        "\n",
        "# Join processes\n",
        "process1.join()\n",
        "process2.join()"
      ]
    },
    {
      "cell_type": "code",
      "execution_count": null,
      "id": "aba7dc9f",
      "metadata": {
        "id": "aba7dc9f",
        "outputId": "70ffcea3-02b5-4514-b808-e648af6fc7d5"
      },
      "outputs": [
        {
          "name": "stdout",
          "output_type": "stream",
          "text": [
            "process 0 killed\n",
            "process 1 killed\n",
            "process 2 killed\n",
            "process 3 killed\n",
            "process 4 killed\n",
            "process 5 killed\n",
            "process 6 killed\n"
          ]
        }
      ],
      "source": [
        "## this is to be combined with the process monitor in a mac\n",
        "def infinite_loop():\n",
        "    while 1: continue\n",
        "\n",
        "# Create processes\n",
        "processes = [mp.Process(target=infinite_loop) for i in range(7)]\n",
        "\n",
        "# Start processes\n",
        "for process in processes: process.start()\n",
        "## kill processes after 10 s\n",
        "for i,process in enumerate(processes):\n",
        "    time.sleep(10)\n",
        "    process.kill()\n",
        "    print(\"process\",i,\"killed\")"
      ]
    },
    {
      "cell_type": "markdown",
      "id": "786f65f2",
      "metadata": {
        "id": "786f65f2"
      },
      "source": [
        "## 2.3 Asynchronous example with `asyncio`\n",
        "The `asyncio` module allows for concurrent code execution without using multiple threads or processes. It is best suited for I/O-bound tasks, such as network operations or reading large files asynchronously."
      ]
    },
    {
      "cell_type": "code",
      "execution_count": null,
      "id": "9284f509",
      "metadata": {
        "id": "9284f509",
        "outputId": "aa43ec85-0d91-4e1a-c3a0-5c321f35b968"
      },
      "outputs": [
        {
          "name": "stdout",
          "output_type": "stream",
          "text": [
            "1\n",
            "A\n",
            "2\n",
            "B\n",
            "3\n",
            "C\n",
            "4\n",
            "5\n",
            "D\n",
            "E\n"
          ]
        }
      ],
      "source": [
        "import asyncio\n",
        "\n",
        "# Example of asyncio for concurrent tasks\n",
        "async def print_numbers_async():\n",
        "    for i in range(1, 6):\n",
        "        print(i)\n",
        "        await asyncio.sleep(1)\n",
        "\n",
        "async def print_letters_async():\n",
        "    for letter in 'ABCDE':\n",
        "        print(letter)\n",
        "        await asyncio.sleep(1.5)\n",
        "\n",
        "# Run asyncio tasks concurrently\n",
        "async def main():\n",
        "    await asyncio.gather(print_numbers_async(), print_letters_async())\n",
        "\n",
        "# Run the asyncio program\n",
        "await main()"
      ]
    },
    {
      "cell_type": "markdown",
      "id": "a9da38ad",
      "metadata": {
        "id": "a9da38ad"
      },
      "source": [
        "### Async example\n",
        "Imagine we have several tasks that represent downloading data from different URLs. Using `asyncio`, we can handle all these downloads simultaneously rather than one after anothe"
      ]
    },
    {
      "cell_type": "code",
      "execution_count": null,
      "id": "fd535299",
      "metadata": {
        "id": "fd535299",
        "outputId": "08e3aa25-e80a-453b-e448-2900e9eae487"
      },
      "outputs": [
        {
          "name": "stdout",
          "output_type": "stream",
          "text": [
            "Task 1 started downloading...\n",
            "Task 2 started downloading...\n",
            "Task 3 started downloading...\n",
            "Task 2 finished downloading!\n",
            "Task 3 finished downloading!\n",
            "Task 1 finished downloading!\n",
            "\n",
            "All tasks completed!\n",
            "Data from Task 1\n",
            "Data from Task 2\n",
            "Data from Task 3\n"
          ]
        }
      ],
      "source": [
        "import asyncio\n",
        "import random\n",
        "\n",
        "async def download_data(task_name, delay):\n",
        "    print(f\"{task_name} started downloading...\")\n",
        "    # Simulate a network delay\n",
        "    await asyncio.sleep(delay)\n",
        "    print(f\"{task_name} finished downloading!\")\n",
        "    return f\"Data from {task_name}\"\n",
        "\n",
        "async def main():\n",
        "    # Create multiple download tasks with varying delays\n",
        "    tasks = [\n",
        "        download_data(\"Task 1\", random.randint(1, 5)),\n",
        "        download_data(\"Task 2\", random.randint(1, 5)),\n",
        "        download_data(\"Task 3\", random.randint(1, 5)),\n",
        "    ]\n",
        "\n",
        "    # Run the tasks concurrently and gather results\n",
        "    results = await asyncio.gather(*tasks)\n",
        "\n",
        "    print(\"\\nAll tasks completed!\")\n",
        "    for result in results:\n",
        "        print(result)\n",
        "\n",
        "# Run the main function\n",
        "await main()\n",
        "\n",
        "## won't work interactively\n",
        "## asyncio.run(main())"
      ]
    },
    {
      "cell_type": "markdown",
      "id": "453b50d0",
      "metadata": {
        "id": "453b50d0"
      },
      "source": [
        "## 2.4 Best Practices for Concurrency and Parallelism\n",
        "- **Use multi-threading** for I/O-bound tasks (e.g., file I/O, network requests).\n",
        "- **Use multi-processing** for CPU-bound tasks that require significant computational power.\n",
        "- **Use `asyncio`** for lightweight I/O-bound tasks, such as web scraping or reading files.\n",
        "- Avoid shared state between threads or processes to prevent race conditions and deadlocks."
      ]
    },
    {
      "cell_type": "markdown",
      "id": "1e103112",
      "metadata": {
        "id": "1e103112"
      },
      "source": [
        "### Exercises\n",
        "1. Write a script using subprocess.Popen to run a shell command that lists files in a directory, then filters the results to only display files that contain a specific string (e.g., '.txt'). Capture and print the filtered output."
      ]
    },
    {
      "cell_type": "code",
      "source": [
        "!ls"
      ],
      "metadata": {
        "colab": {
          "base_uri": "https://localhost:8080/"
        },
        "id": "Qgh28SllmMgo",
        "outputId": "fef24c1a-67de-41db-80fa-e10c9935e41c"
      },
      "id": "Qgh28SllmMgo",
      "execution_count": 7,
      "outputs": [
        {
          "output_type": "stream",
          "name": "stdout",
          "text": [
            "sample_data\n"
          ]
        }
      ]
    },
    {
      "cell_type": "code",
      "source": [
        "import subprocess\n",
        "\n",
        "process = subprocess.Popen(['ls'], stdout=subprocess.PIPE, text=True)\n",
        "\n",
        "\n",
        "print('Filtered files:\\n')\n",
        "\n",
        "\n",
        "for line in process.stdout: #process.stout gives the lines of the shell output\n",
        "    if '.txt' in line:\n",
        "        print(line.strip()) # strip removes blank spaces and character such as \\n \\t etc."
      ],
      "metadata": {
        "colab": {
          "base_uri": "https://localhost:8080/"
        },
        "id": "Q4kb9aPfkwT9",
        "outputId": "7d5835ab-3939-4130-b5eb-f09ba401650d"
      },
      "id": "Q4kb9aPfkwT9",
      "execution_count": 17,
      "outputs": [
        {
          "output_type": "stream",
          "name": "stdout",
          "text": [
            "Filtered files:\n",
            "\n",
            "hola.txt\n",
            "prueba.txt\n"
          ]
        }
      ]
    },
    {
      "cell_type": "markdown",
      "source": [
        "2. Write a script that uses the subprocess module to:\n",
        "   - Create a directory called test_subprocess_dir if it doesn't already exist.\n",
        "   - Inside that directory, create three empty text files named file1.txt, file2.txt, and file3.txt.\n",
        "   - Use the ls (or dir for Windows) command to list the contents of the directory and print the results.\n"
      ],
      "metadata": {
        "id": "QbU2saM1klpU"
      },
      "id": "QbU2saM1klpU"
    },
    {
      "cell_type": "code",
      "source": [
        "import subprocess\n",
        "\n",
        "process1 = subprocess.Popen(['ls'], stdout=subprocess.PIPE, text=True)\n",
        "\n",
        "# Print the output\n",
        "docs = process1.stdout.read()\n",
        "if 'test_subprocess_dir' not in docs:\n",
        "    process2 = subprocess.Popen(['mkdir', 'test_subprocess_dir'], stdout=subprocess.PIPE, text=True)\n",
        "\n",
        "for i in range(1,4):\n",
        "\n",
        "  with open(f'test_subprocess_dir/file{i}.txt', 'w') as f:\n",
        "      f.write('')\n",
        "\n",
        "process3 = subprocess.Popen(['ls', 'test_subprocess_dir'], stdout=subprocess.PIPE, text=True)\n",
        "\n",
        "print(process3.stdout.read())\n"
      ],
      "metadata": {
        "colab": {
          "base_uri": "https://localhost:8080/"
        },
        "id": "1JiJ5Scbqsax",
        "outputId": "3212e7e1-a53b-442a-826f-8fc97f8c5bcd"
      },
      "id": "1JiJ5Scbqsax",
      "execution_count": 30,
      "outputs": [
        {
          "output_type": "stream",
          "name": "stdout",
          "text": [
            "file1.txt\n",
            "file2.txt\n",
            "file3.txt\n",
            "\n"
          ]
        }
      ]
    },
    {
      "cell_type": "markdown",
      "source": [
        "3. Create a script that uses multiple threads to perform both I/O-bound and CPU-bound tasks concurrently. One thread should write to a file while the other calculates the factorial of a number."
      ],
      "metadata": {
        "id": "4h0_xhCJkq8x"
      },
      "id": "4h0_xhCJkq8x"
    },
    {
      "cell_type": "code",
      "source": [
        "import threading\n",
        "\n",
        "def factorial(n):\n",
        "  if n == 0:\n",
        "    return 1\n",
        "  else:\n",
        "    return n * factorial(n-1)\n",
        "\n",
        "def print_factorial(n):\n",
        "  print(f'{n}! = {factorial(n)}')\n",
        "\n",
        "def write_to_file(filename, text):\n",
        "  with open(filename, 'w') as f:\n",
        "    f.write(text)\n",
        "  print(f'File {filename} has been written succesfully')\n",
        "\n",
        "text = 'Example'\n",
        "\n",
        "thread1 = threading.Thread(target=write_to_file, args=('test.txt', text))\n",
        "thread2 = threading.Thread(target=print_factorial, args=(20,))\n",
        "\n",
        "thread1.start()\n",
        "thread2.start()\n",
        "\n",
        "thread1.join()\n",
        "thread2.join()\n"
      ],
      "metadata": {
        "colab": {
          "base_uri": "https://localhost:8080/"
        },
        "id": "sUONcdkNsTCB",
        "outputId": "0061baed-9341-4c3f-f51c-9347d9a623b5"
      },
      "id": "sUONcdkNsTCB",
      "execution_count": 55,
      "outputs": [
        {
          "output_type": "stream",
          "name": "stdout",
          "text": [
            "20! = 2432902008176640000\n",
            "File test.txt has been written succesfully\n"
          ]
        }
      ]
    },
    {
      "cell_type": "markdown",
      "source": [
        "4. Write a script that uses multi-processing to perform two CPU-intensive tasks: calculating the factorial of a number and generating Fibonacci numbers. Run both tasks in parallel using the `multiprocessing` module."
      ],
      "metadata": {
        "id": "SGUXD1MTksv6"
      },
      "id": "SGUXD1MTksv6"
    },
    {
      "cell_type": "code",
      "source": [
        "import multiprocess as mp\n",
        "\n",
        "def factorial(n):\n",
        "  if n == 0:\n",
        "    return 1\n",
        "  else:\n",
        "    return n * factorial(n-1)\n",
        "\n",
        "def print_factorial(n):\n",
        "  print(f'{n}! = {factorial(n)}')\n",
        "\n",
        "def fibonacci(n):\n",
        "  \"\"\" Return Fibonacci terms a_n = a_(n-1) + a_(n+2) with a_0 = 0 and a_1 = 1\"\"\"\n",
        "  if n <= 1:\n",
        "    return n\n",
        "  else:\n",
        "    return fibonacci(n-1) + fibonacci(n-2)\n",
        "\n",
        "def print_fibonacci(n):\n",
        "  print(f'Fibonacci({n}) = {fibonacci(n)}')\n",
        "\n",
        "process1 = mp.Process(target=print_factorial, args=(20,))\n",
        "process2 = mp.Process(target=print_fibonacci, args=(20,))\n",
        "\n",
        "process1.start()\n",
        "process2.start()\n",
        "\n",
        "process1.join()\n",
        "process2.join()"
      ],
      "metadata": {
        "colab": {
          "base_uri": "https://localhost:8080/"
        },
        "id": "_3HbRbweuRfM",
        "outputId": "2041de23-d0ff-467e-a48a-ff5749b64763"
      },
      "id": "_3HbRbweuRfM",
      "execution_count": 57,
      "outputs": [
        {
          "output_type": "stream",
          "name": "stdout",
          "text": [
            "20! = 2432902008176640000\n",
            "Fibonacci(20) = 6765\n"
          ]
        }
      ]
    },
    {
      "cell_type": "markdown",
      "id": "aedf4ebd-184d-4111-b09d-d69ae911568d",
      "metadata": {
        "id": "aedf4ebd-184d-4111-b09d-d69ae911568d"
      },
      "source": [
        "### ++ Exercise\n",
        "Write a Python script that:\n",
        "- Uses `multiprocessing` to spawn three parallel processes\n",
        "- Each process will use `subprocess` to perform a task (e.g., pinging a website, checking a directory for files, or calling a shell command)\n",
        "- Combine the results and print the output from each process."
      ]
    },
    {
      "cell_type": "code",
      "source": [
        "import multiprocess as mp\n",
        "import subprocess\n",
        "\n",
        "\n",
        "def working_directory():\n",
        "    process = subprocess.Popen(['pwd'], stdout=subprocess.PIPE, text=True)\n",
        "    print(f'The working directory is: {process.stdout.read()}')\n",
        "\n",
        "def check_directory():\n",
        "    process = subprocess.Popen(['ls'], stdout=subprocess.PIPE, text=True)\n",
        "    number_of_txt = 0\n",
        "    for line in process.stdout: #process.stout gives the lines of the shell output\n",
        "        if '.txt' in line:\n",
        "            print(line.strip()) # strip removes blank spaces and character such as \\n \\t etc.\n",
        "            number_of_txt += 1\n",
        "    print()\n",
        "    print('-----------------------------------------------------')\n",
        "    print()\n",
        "    print(f'Number of .txt files in the directory: {number_of_txt}')\n",
        "\n",
        "def ping_website():\n",
        "\n",
        "  result = subprocess.Popen(['ping', '-c', '4', '8.8.8.8'],stdout=subprocess.PIPE, stderr=subprocess.PIPE, text=True, timeout=5, check=True)\n",
        "  print(result.stdout)\n",
        "\n",
        "process1 = mp.Process(target=working_directory)\n",
        "process2 = mp.Process(target=check_directory)\n",
        "process3 = mp.Process(target=ping_website)\n",
        "\n",
        "process1.start()\n",
        "process2.start()\n",
        "process3.start()\n",
        "\n",
        "process1.join()\n",
        "process2.join()\n",
        "process3.join()"
      ],
      "metadata": {
        "id": "LOEOrCaEwXei",
        "outputId": "0e914ae8-581b-4423-acfa-2c01a0046c71",
        "colab": {
          "base_uri": "https://localhost:8080/"
        }
      },
      "id": "LOEOrCaEwXei",
      "execution_count": 63,
      "outputs": [
        {
          "output_type": "stream",
          "name": "stdout",
          "text": [
            "The working directory is: /content\n",
            "\n",
            "hola.txt\n"
          ]
        },
        {
          "output_type": "stream",
          "name": "stderr",
          "text": [
            "Process Process-24:\n"
          ]
        },
        {
          "output_type": "stream",
          "name": "stdout",
          "text": [
            "prueba.txt\n"
          ]
        },
        {
          "output_type": "stream",
          "name": "stderr",
          "text": [
            "Traceback (most recent call last):\n"
          ]
        },
        {
          "output_type": "stream",
          "name": "stdout",
          "text": [
            "test.txt\n"
          ]
        },
        {
          "output_type": "stream",
          "name": "stderr",
          "text": [
            "  File \"/usr/local/lib/python3.12/dist-packages/multiprocess/process.py\", line 314, in _bootstrap\n",
            "    self.run()\n"
          ]
        },
        {
          "output_type": "stream",
          "name": "stdout",
          "text": [
            "\n"
          ]
        },
        {
          "output_type": "stream",
          "name": "stderr",
          "text": [
            "  File \"/usr/local/lib/python3.12/dist-packages/multiprocess/process.py\", line 108, in run\n",
            "    self._target(*self._args, **self._kwargs)\n",
            "  File \"/tmp/ipython-input-1849322155.py\", line 23, in ping_website\n",
            "    result = subprocess.Popen(['ping', '-c', '4', '8.8.8.8'],stdout=subprocess.PIPE, stderr=subprocess.PIPE, text=True, timeout=5, check=True)\n",
            "             ^^^^^^^^^^^^^^^^^^^^^^^^^^^^^^^^^^^^^^^^^^^^^^^^^^^^^^^^^^^^^^^^^^^^^^^^^^^^^^^^^^^^^^^^^^^^^^^^^^^^^^^^^^^^^^^^^^^^^^^^^^^^^^^^^\n"
          ]
        },
        {
          "output_type": "stream",
          "name": "stdout",
          "text": [
            "-----------------------------------------------------"
          ]
        },
        {
          "output_type": "stream",
          "name": "stderr",
          "text": [
            "TypeError: Popen.__init__() got an unexpected keyword argument 'timeout'\n"
          ]
        },
        {
          "output_type": "stream",
          "name": "stdout",
          "text": [
            "\n",
            "\n",
            "Number of .txt files in the directory: 3\n"
          ]
        }
      ]
    }
  ],
  "metadata": {
    "celltoolbar": "Slideshow",
    "kernelspec": {
      "display_name": "Python 3",
      "language": "python",
      "name": "python3"
    },
    "language_info": {
      "codemirror_mode": {
        "name": "ipython",
        "version": 3
      },
      "file_extension": ".py",
      "mimetype": "text/x-python",
      "name": "python",
      "nbconvert_exporter": "python",
      "pygments_lexer": "ipython3",
      "version": "3.7.16"
    },
    "colab": {
      "provenance": []
    }
  },
  "nbformat": 4,
  "nbformat_minor": 5
}