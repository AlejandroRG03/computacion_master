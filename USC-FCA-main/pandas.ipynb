{
  "cells": [
    {
      "cell_type": "markdown",
      "id": "8d4185a5",
      "metadata": {
        "id": "8d4185a5",
        "tags": []
      },
      "source": [
        "# Advanced Computational Physics\n",
        "\n",
        "\n",
        "## More about Python: Functions, Classes and Symbolic computing\n",
        "### Introduction to Pandas\n",
        "\n",
        "\n",
        "#### *X. Cid Vidal*\n",
        "####  USC, October 2025"
      ]
    },
    {
      "cell_type": "code",
      "execution_count": null,
      "id": "265a7f9b",
      "metadata": {
        "id": "265a7f9b",
        "outputId": "80748a20-0629-4320-9131-f05ef12c3098",
        "tags": []
      },
      "outputs": [
        {
          "name": "stdout",
          "output_type": "stream",
          "text": [
            "pandas 1.2.3\n",
            "numpy 1.21.6\n"
          ]
        }
      ],
      "source": [
        "## Setup and imports\n",
        "import pandas as pd\n",
        "import numpy as np\n",
        "import matplotlib.pyplot as plt\n",
        "from pathlib import Path\n",
        "pd.set_option('display.max_columns', 40)\n",
        "pd.set_option('display.max_rows', 100)\n",
        "np.random.seed(42)\n",
        "print('pandas', pd.__version__)\n",
        "print('numpy', np.__version__)\n",
        "import matplotlib.pyplot as plt"
      ]
    },
    {
      "cell_type": "markdown",
      "id": "7ed80e35",
      "metadata": {
        "id": "7ed80e35",
        "tags": []
      },
      "source": [
        "### Introduction to pandas\n",
        "\n",
        "`pandas` is one of the core libraries of the Python scientific ecosystem.  \n",
        "It provides powerful, flexible, and efficient tools for data manipulation, exploration, and analysis — all built on top of **NumPy**.\n",
        "\n",
        "At its heart, pandas offers two fundamental data structures:\n",
        "\n",
        "- **`Series`** — a one-dimensional labeled array that can hold any data type (integers, floats, strings, Python objects, etc.).\n",
        "- **`DataFrame`** — a two-dimensional labeled table with potentially heterogeneous columns, similar to a spreadsheet or SQL table."
      ]
    },
    {
      "cell_type": "markdown",
      "id": "5fbaa6f8",
      "metadata": {
        "id": "5fbaa6f8"
      },
      "source": [
        "<img src=\"https://geo-python.github.io/site/_images/pandas-structures-annotated.png\" alt=\"Pandas Structures Annotated\" width=\"600px\"/>"
      ]
    },
    {
      "cell_type": "markdown",
      "id": "2fe9119c",
      "metadata": {
        "id": "2fe9119c"
      },
      "source": [
        "## Why pandas?\n",
        "\n",
        "In scientific computing and data analysis, we often need to:\n",
        "- Read structured data from files (CSV, JSON, ROOT, etc.),\n",
        "- Clean and transform it,\n",
        "- Compute derived quantities,\n",
        "- Merge datasets from different sources,\n",
        "- Perform grouping, aggregation, and statistical analysis,\n",
        "- Visualize results efficiently.\n",
        "\n",
        "pandas makes these tasks *concise*, *readable*, and *fast*, leveraging vectorized operations under the hood."
      ]
    },
    {
      "cell_type": "markdown",
      "id": "ec02bc92",
      "metadata": {
        "id": "ec02bc92",
        "tags": []
      },
      "source": [
        "### pandas in Physics and Data Science\n",
        "\n",
        "In experimental and computational physics, pandas is particularly useful for:\n",
        "- Inspecting and cleaning detector or simulation data,\n",
        "- Managing event-based datasets (e.g. one row per collision event),\n",
        "- Computing derived variables (transverse momentum, invariant mass, etc.),\n",
        "- Cross-checking reconstruction vs. truth quantities,\n",
        "- Interfacing with HDF5, ROOT, or Parquet files.\n",
        "\n",
        "Even though high-energy physics frameworks such as **ROOT** or **awkward-array** dominate in large-scale analysis, pandas remains an invaluable tool for **prototyping**, **exploration**, and **data wrangling**."
      ]
    },
    {
      "cell_type": "markdown",
      "id": "08178bb9-cbc6-487d-bc49-967af881714f",
      "metadata": {
        "id": "08178bb9-cbc6-487d-bc49-967af881714f",
        "tags": []
      },
      "source": [
        "## Further reading & related tools\n",
        "\n",
        "- pandas docs: https://pandas.pydata.org\n",
        "- Polars (fast DataFrame alternative)\n",
        "- Dask for distributed processing\n",
        "- Uproot for ROOT files\n",
        "- PyArrow / Parquet for fast IO\n"
      ]
    },
    {
      "cell_type": "markdown",
      "id": "e371cabd",
      "metadata": {
        "id": "e371cabd"
      },
      "source": [
        "## Series vs ndarray\n",
        "\n",
        "Why pandas Series exist, index semantics, alignment behavior and metadata attached to Series."
      ]
    },
    {
      "cell_type": "code",
      "execution_count": null,
      "id": "56b35feb",
      "metadata": {
        "id": "56b35feb",
        "outputId": "a72255aa-62fa-46d7-8714-5cb7ac65d173"
      },
      "outputs": [
        {
          "data": {
            "text/plain": [
              "(array([10, 20, 30]),\n",
              " a    10\n",
              " b    20\n",
              " c    30\n",
              " Name: values, dtype: int64,\n",
              " Index(['a', 'b', 'c'], dtype='object'),\n",
              " 'values')"
            ]
          },
          "execution_count": 2,
          "metadata": {},
          "output_type": "execute_result"
        }
      ],
      "source": [
        "arr = np.array([10,20,30])\n",
        "ser = pd.Series([10,20,30], index=['a','b','c'], name='values')\n",
        "arr, ser, ser.index, ser.name"
      ]
    },
    {
      "cell_type": "markdown",
      "id": "363d60a5",
      "metadata": {
        "id": "363d60a5"
      },
      "source": [
        "### Series creation"
      ]
    },
    {
      "cell_type": "code",
      "execution_count": null,
      "id": "929be192",
      "metadata": {
        "id": "929be192",
        "outputId": "e2b3e6b4-261c-4b61-ada0-df3d5155083f",
        "tags": []
      },
      "outputs": [
        {
          "data": {
            "text/plain": [
              "0    1\n",
              "1    2\n",
              "2    3\n",
              "dtype: int64"
            ]
          },
          "metadata": {},
          "output_type": "display_data"
        },
        {
          "data": {
            "text/plain": [
              "2025-01-01    0.496714\n",
              "2025-01-02   -0.138264\n",
              "2025-01-03    0.647689\n",
              "2025-01-04    1.523030\n",
              "Freq: D, dtype: float64"
            ]
          },
          "metadata": {},
          "output_type": "display_data"
        },
        {
          "data": {
            "text/plain": [
              "x    10\n",
              "y    20\n",
              "dtype: int64"
            ]
          },
          "metadata": {},
          "output_type": "display_data"
        }
      ],
      "source": [
        "s1 = pd.Series([1,2,3])\n",
        "s2 = pd.Series(np.random.randn(4), index=pd.date_range('2025-01-01', periods=4))\n",
        "s3 = pd.Series({'x': 10, 'y': 20})\n",
        "display(s1)\n",
        "display(s2)\n",
        "display(s3)"
      ]
    },
    {
      "cell_type": "markdown",
      "id": "a9778555",
      "metadata": {
        "id": "a9778555",
        "tags": []
      },
      "source": [
        "## DataFrame creation\n",
        "\n",
        "Create DataFrames from dicts, lists of dicts, ndarrays, structured arrays, and from Series (alignment)."
      ]
    },
    {
      "cell_type": "code",
      "execution_count": null,
      "id": "0327ef07",
      "metadata": {
        "id": "0327ef07",
        "outputId": "6c9569ef-9609-4ee1-91d6-20233307d1e4",
        "tags": []
      },
      "outputs": [
        {
          "data": {
            "text/html": [
              "<div>\n",
              "<style scoped>\n",
              "    .dataframe tbody tr th:only-of-type {\n",
              "        vertical-align: middle;\n",
              "    }\n",
              "\n",
              "    .dataframe tbody tr th {\n",
              "        vertical-align: top;\n",
              "    }\n",
              "\n",
              "    .dataframe thead th {\n",
              "        text-align: right;\n",
              "    }\n",
              "</style>\n",
              "<table border=\"1\" class=\"dataframe\">\n",
              "  <thead>\n",
              "    <tr style=\"text-align: right;\">\n",
              "      <th></th>\n",
              "      <th>A</th>\n",
              "      <th>B</th>\n",
              "    </tr>\n",
              "  </thead>\n",
              "  <tbody>\n",
              "    <tr>\n",
              "      <th>0</th>\n",
              "      <td>1</td>\n",
              "      <td>x</td>\n",
              "    </tr>\n",
              "    <tr>\n",
              "      <th>1</th>\n",
              "      <td>2</td>\n",
              "      <td>y</td>\n",
              "    </tr>\n",
              "    <tr>\n",
              "      <th>2</th>\n",
              "      <td>3</td>\n",
              "      <td>z</td>\n",
              "    </tr>\n",
              "  </tbody>\n",
              "</table>\n",
              "</div>"
            ],
            "text/plain": [
              "   A  B\n",
              "0  1  x\n",
              "1  2  y\n",
              "2  3  z"
            ]
          },
          "metadata": {},
          "output_type": "display_data"
        },
        {
          "data": {
            "text/html": [
              "<div>\n",
              "<style scoped>\n",
              "    .dataframe tbody tr th:only-of-type {\n",
              "        vertical-align: middle;\n",
              "    }\n",
              "\n",
              "    .dataframe tbody tr th {\n",
              "        vertical-align: top;\n",
              "    }\n",
              "\n",
              "    .dataframe thead th {\n",
              "        text-align: right;\n",
              "    }\n",
              "</style>\n",
              "<table border=\"1\" class=\"dataframe\">\n",
              "  <thead>\n",
              "    <tr style=\"text-align: right;\">\n",
              "      <th></th>\n",
              "      <th>W</th>\n",
              "      <th>X</th>\n",
              "      <th>Y</th>\n",
              "      <th>Z</th>\n",
              "    </tr>\n",
              "  </thead>\n",
              "  <tbody>\n",
              "    <tr>\n",
              "      <th>0</th>\n",
              "      <td>-0.234153</td>\n",
              "      <td>-0.234137</td>\n",
              "      <td>1.579213</td>\n",
              "      <td>0.767435</td>\n",
              "    </tr>\n",
              "    <tr>\n",
              "      <th>1</th>\n",
              "      <td>-0.469474</td>\n",
              "      <td>0.542560</td>\n",
              "      <td>-0.463418</td>\n",
              "      <td>-0.465730</td>\n",
              "    </tr>\n",
              "    <tr>\n",
              "      <th>2</th>\n",
              "      <td>0.241962</td>\n",
              "      <td>-1.913280</td>\n",
              "      <td>-1.724918</td>\n",
              "      <td>-0.562288</td>\n",
              "    </tr>\n",
              "  </tbody>\n",
              "</table>\n",
              "</div>"
            ],
            "text/plain": [
              "          W         X         Y         Z\n",
              "0 -0.234153 -0.234137  1.579213  0.767435\n",
              "1 -0.469474  0.542560 -0.463418 -0.465730\n",
              "2  0.241962 -1.913280 -1.724918 -0.562288"
            ]
          },
          "metadata": {},
          "output_type": "display_data"
        }
      ],
      "source": [
        "df_from_dict = pd.DataFrame({'A': [1,2,3], 'B': ['x','y','z']})\n",
        "rows = [{'A':1,'B':'x'},{'A':2,'B':'y'}]\n",
        "df_from_rows = pd.DataFrame(rows)\n",
        "arr = np.random.randn(3,4)\n",
        "df_from_array = pd.DataFrame(arr, columns=list('WXYZ'))\n",
        "display(df_from_dict)\n",
        "display(df_from_array.head())"
      ]
    },
    {
      "cell_type": "markdown",
      "id": "1b0a6895",
      "metadata": {
        "id": "1b0a6895",
        "tags": []
      },
      "source": [
        "### Index types and MultiIndex\n",
        "\n",
        "Demonstrate RangeIndex, DatetimeIndex, CategoricalIndex, and MultiIndex creation & usage.\n",
        "\n",
        "| Index Type           | Description                        | Common Use Case                     |\n",
        "| -------------------- | ---------------------------------- | ----------------------------------- |\n",
        "| **RangeIndex**       | Sequential integer index (default) | Simple tables                       |\n",
        "| **DatetimeIndex**    | Time-aware index                   | Time series, e.g detector logs          |\n",
        "| **CategoricalIndex** | Discrete label index               | Detector types, e.g particle categories |\n",
        "| **MultiIndex**       | Hierarchical index                 | Grouped data, e.g. run × detector       |\n"
      ]
    },
    {
      "cell_type": "code",
      "execution_count": null,
      "id": "a9dc5d64",
      "metadata": {
        "id": "a9dc5d64",
        "outputId": "e756a30e-380e-49d4-b82a-5ee3d45be575",
        "tags": []
      },
      "outputs": [
        {
          "name": "stdout",
          "output_type": "stream",
          "text": [
            "RangeIndex RangeIndex(start=0, stop=5, step=1)\n",
            "DatetimeIndex DatetimeIndex(['2025-01-01', '2025-01-02', '2025-01-03', '2025-01-04',\n",
            "               '2025-01-05'],\n",
            "              dtype='datetime64[ns]', freq='D')\n",
            "CategoricalIndex CategoricalIndex(['a', 'a', 'b', 'c', 'c'], categories=['a', 'b', 'c'], ordered=False, dtype='category')\n",
            "MultiIndex MultiIndex([('US', 2019),\n",
            "            ('US', 2020),\n",
            "            ('EU', 2019),\n",
            "            ('EU', 2020)],\n",
            "           names=['region', 'year'])\n"
          ]
        }
      ],
      "source": [
        "ri = pd.RangeIndex(0,5)\n",
        "di = pd.date_range('2025-01-01', periods=5)\n",
        "ci = pd.CategoricalIndex(list('aabcc'))\n",
        "mi = pd.MultiIndex.from_product([['US','EU'], [2019,2020]], names=['region','year'])\n",
        "print('RangeIndex', ri)\n",
        "print('DatetimeIndex', di)\n",
        "print('CategoricalIndex', ci)\n",
        "print('MultiIndex', mi)"
      ]
    },
    {
      "cell_type": "markdown",
      "id": "7cbf1c1b",
      "metadata": {
        "id": "7cbf1c1b"
      },
      "source": [
        "### DataFrame with MultiIndex (columns and rows)"
      ]
    },
    {
      "cell_type": "code",
      "execution_count": null,
      "id": "70b0d3ba",
      "metadata": {
        "id": "70b0d3ba",
        "outputId": "7e03d895-7c5a-4c74-f964-cdb019ad0114",
        "tags": []
      },
      "outputs": [
        {
          "data": {
            "text/html": [
              "<div>\n",
              "<style scoped>\n",
              "    .dataframe tbody tr th:only-of-type {\n",
              "        vertical-align: middle;\n",
              "    }\n",
              "\n",
              "    .dataframe tbody tr th {\n",
              "        vertical-align: top;\n",
              "    }\n",
              "\n",
              "    .dataframe thead tr th {\n",
              "        text-align: left;\n",
              "    }\n",
              "</style>\n",
              "<table border=\"1\" class=\"dataframe\">\n",
              "  <thead>\n",
              "    <tr>\n",
              "      <th>metric</th>\n",
              "      <th colspan=\"2\" halign=\"left\">sales</th>\n",
              "      <th>costs</th>\n",
              "    </tr>\n",
              "    <tr>\n",
              "      <th>quarter</th>\n",
              "      <th>Q1</th>\n",
              "      <th>Q2</th>\n",
              "      <th>Q1</th>\n",
              "    </tr>\n",
              "  </thead>\n",
              "  <tbody>\n",
              "    <tr>\n",
              "      <th>A</th>\n",
              "      <td>-1.012831</td>\n",
              "      <td>0.314247</td>\n",
              "      <td>-0.908024</td>\n",
              "    </tr>\n",
              "    <tr>\n",
              "      <th>B</th>\n",
              "      <td>-1.412304</td>\n",
              "      <td>1.465649</td>\n",
              "      <td>-0.225776</td>\n",
              "    </tr>\n",
              "    <tr>\n",
              "      <th>C</th>\n",
              "      <td>0.067528</td>\n",
              "      <td>-1.424748</td>\n",
              "      <td>-0.544383</td>\n",
              "    </tr>\n",
              "  </tbody>\n",
              "</table>\n",
              "</div>"
            ],
            "text/plain": [
              "metric      sales               costs\n",
              "quarter        Q1        Q2        Q1\n",
              "A       -1.012831  0.314247 -0.908024\n",
              "B       -1.412304  1.465649 -0.225776\n",
              "C        0.067528 -1.424748 -0.544383"
            ]
          },
          "execution_count": 6,
          "metadata": {},
          "output_type": "execute_result"
        }
      ],
      "source": [
        "arrays = [['sales','sales','costs'], ['Q1','Q2','Q1']]\n",
        "cols = pd.MultiIndex.from_arrays(arrays, names=['metric','quarter'])\n",
        "df_mi = pd.DataFrame(np.random.randn(3,3), columns=cols, index=list('ABC'))\n",
        "df_mi"
      ]
    },
    {
      "cell_type": "markdown",
      "id": "6e9ba336",
      "metadata": {
        "id": "6e9ba336",
        "tags": []
      },
      "source": [
        "## Indexing, selection, slicing\n",
        "\n",
        "Label-based vs position based indexing: `.loc`, `.iloc`, boolean masks, `at`, `iat`, and `xs` for cross-section in MultiIndex."
      ]
    },
    {
      "cell_type": "code",
      "execution_count": null,
      "id": "c036b9fa",
      "metadata": {
        "id": "c036b9fa",
        "outputId": "9b8fc2c8-d2fc-42f4-f1b2-9aa2722ddb61",
        "tags": []
      },
      "outputs": [
        {
          "name": "stdout",
          "output_type": "stream",
          "text": [
            "   A   B\n",
            "a  0   0\n",
            "b  1   2\n",
            "c  2   4\n",
            "d  3   6\n",
            "e  4   8\n",
            "f  5  10\n",
            "\n",
            "loc single row:\n",
            " A    2\n",
            "B    4\n",
            "Name: c, dtype: int64\n",
            "\n",
            "iloc slice:\n",
            "    A  B\n",
            "b  1  2\n",
            "c  2  4\n",
            "d  3  6\n",
            "\n",
            "boolean mask:\n",
            "    A  B\n",
            "a  0  0\n",
            "c  2  4\n",
            "e  4  8\n",
            "\n",
            "at and iat:\n",
            " 1 4\n"
          ]
        }
      ],
      "source": [
        "df = pd.DataFrame({'A': range(6), 'B': np.arange(6)*2}, index=list('abcdef'))\n",
        "print(df)\n",
        "print('\\nloc single row:\\n', df.loc['c'])\n",
        "print('\\niloc slice:\\n', df.iloc[1:4])\n",
        "print('\\nboolean mask:\\n', df[df['A']%2==0])\n",
        "print('\\nat and iat:\\n', df.at['b','A'], df.iat[2,1])"
      ]
    },
    {
      "cell_type": "markdown",
      "id": "3cede66e",
      "metadata": {
        "id": "3cede66e",
        "tags": []
      },
      "source": [
        "### Setting values and avoiding chained-assignment pitfalls\n",
        "\n",
        "Use `.loc` for assignment to avoid SettingWithCopyWarning."
      ]
    },
    {
      "cell_type": "code",
      "execution_count": null,
      "id": "cc44371e",
      "metadata": {
        "id": "cc44371e",
        "outputId": "0d2c79f8-ecb6-4c6d-bb7a-b3b8fc30d134",
        "tags": []
      },
      "outputs": [
        {
          "data": {
            "text/html": [
              "<div>\n",
              "<style scoped>\n",
              "    .dataframe tbody tr th:only-of-type {\n",
              "        vertical-align: middle;\n",
              "    }\n",
              "\n",
              "    .dataframe tbody tr th {\n",
              "        vertical-align: top;\n",
              "    }\n",
              "\n",
              "    .dataframe thead th {\n",
              "        text-align: right;\n",
              "    }\n",
              "</style>\n",
              "<table border=\"1\" class=\"dataframe\">\n",
              "  <thead>\n",
              "    <tr style=\"text-align: right;\">\n",
              "      <th></th>\n",
              "      <th>A</th>\n",
              "      <th>B</th>\n",
              "    </tr>\n",
              "  </thead>\n",
              "  <tbody>\n",
              "    <tr>\n",
              "      <th>a</th>\n",
              "      <td>100</td>\n",
              "      <td>0</td>\n",
              "    </tr>\n",
              "    <tr>\n",
              "      <th>b</th>\n",
              "      <td>1</td>\n",
              "      <td>2</td>\n",
              "    </tr>\n",
              "    <tr>\n",
              "      <th>c</th>\n",
              "      <td>2</td>\n",
              "      <td>4</td>\n",
              "    </tr>\n",
              "    <tr>\n",
              "      <th>d</th>\n",
              "      <td>3</td>\n",
              "      <td>6</td>\n",
              "    </tr>\n",
              "    <tr>\n",
              "      <th>e</th>\n",
              "      <td>4</td>\n",
              "      <td>8</td>\n",
              "    </tr>\n",
              "    <tr>\n",
              "      <th>f</th>\n",
              "      <td>5</td>\n",
              "      <td>10</td>\n",
              "    </tr>\n",
              "  </tbody>\n",
              "</table>\n",
              "</div>"
            ],
            "text/plain": [
              "     A   B\n",
              "a  100   0\n",
              "b    1   2\n",
              "c    2   4\n",
              "d    3   6\n",
              "e    4   8\n",
              "f    5  10"
            ]
          },
          "metadata": {},
          "output_type": "display_data"
        }
      ],
      "source": [
        "df2 = df.copy()\n",
        "df2.loc['a','A'] = 100\n",
        "# risky chained assignment example\n",
        "slice_view = df2[df2['A']>0]\n",
        "# slice_view['B'] = 999  # would raise a chained-assignment warning if uncommented\n",
        "display(df2)"
      ]
    },
    {
      "cell_type": "markdown",
      "id": "ba046c0a",
      "metadata": {
        "id": "ba046c0a",
        "tags": []
      },
      "source": [
        "### Advanced selection: `.query()`, `.eval()`, and callable selection\n",
        "\n",
        "For fast and expressive filtering or computation, pandas provides two powerful methods:\n",
        "\n",
        "- **`DataFrame.query()`** — allows you to select rows using a logical expression written as a string.\n",
        "- **`DataFrame.eval()`** — lets you compute new columns or expressions efficiently, also using string-based syntax.\n",
        "\n",
        "Both methods make your code more readable and can internally optimize performance, especially on large datasets.\n"
      ]
    },
    {
      "cell_type": "code",
      "execution_count": null,
      "id": "540270b8",
      "metadata": {
        "id": "540270b8",
        "outputId": "5bf4b258-c367-49bf-eb21-29a497156619",
        "tags": []
      },
      "outputs": [
        {
          "data": {
            "text/html": [
              "<div>\n",
              "<style scoped>\n",
              "    .dataframe tbody tr th:only-of-type {\n",
              "        vertical-align: middle;\n",
              "    }\n",
              "\n",
              "    .dataframe tbody tr th {\n",
              "        vertical-align: top;\n",
              "    }\n",
              "\n",
              "    .dataframe thead th {\n",
              "        text-align: right;\n",
              "    }\n",
              "</style>\n",
              "<table border=\"1\" class=\"dataframe\">\n",
              "  <thead>\n",
              "    <tr style=\"text-align: right;\">\n",
              "      <th></th>\n",
              "      <th>x</th>\n",
              "      <th>y</th>\n",
              "    </tr>\n",
              "  </thead>\n",
              "  <tbody>\n",
              "    <tr>\n",
              "      <th>6</th>\n",
              "      <td>1.852278</td>\n",
              "      <td>-1.668584</td>\n",
              "    </tr>\n",
              "    <tr>\n",
              "      <th>9</th>\n",
              "      <td>0.822545</td>\n",
              "      <td>-0.483186</td>\n",
              "    </tr>\n",
              "    <tr>\n",
              "      <th>11</th>\n",
              "      <td>0.208864</td>\n",
              "      <td>-1.225766</td>\n",
              "    </tr>\n",
              "    <tr>\n",
              "      <th>16</th>\n",
              "      <td>0.171368</td>\n",
              "      <td>-0.458884</td>\n",
              "    </tr>\n",
              "    <tr>\n",
              "      <th>22</th>\n",
              "      <td>1.057122</td>\n",
              "      <td>-1.576392</td>\n",
              "    </tr>\n",
              "  </tbody>\n",
              "</table>\n",
              "</div>"
            ],
            "text/plain": [
              "           x         y\n",
              "6   1.852278 -1.668584\n",
              "9   0.822545 -0.483186\n",
              "11  0.208864 -1.225766\n",
              "16  0.171368 -0.458884\n",
              "22  1.057122 -1.576392"
            ]
          },
          "execution_count": 9,
          "metadata": {},
          "output_type": "execute_result"
        }
      ],
      "source": [
        "df_big = pd.DataFrame({'x': np.random.randn(1000), 'y': np.random.randn(1000)})\n",
        "res = df_big.query('x > 0 and y < 0')\n",
        "res.head()"
      ]
    },
    {
      "cell_type": "code",
      "execution_count": null,
      "id": "d3ba8530",
      "metadata": {
        "id": "d3ba8530",
        "outputId": "10f20f68-8cd5-47a4-e5b0-dfdf124c80fb",
        "tags": []
      },
      "outputs": [
        {
          "name": "stdout",
          "output_type": "stream",
          "text": [
            "\n",
            "DataFrame with new computed column r = x**2 + y**2:\n"
          ]
        },
        {
          "data": {
            "text/html": [
              "<div>\n",
              "<style scoped>\n",
              "    .dataframe tbody tr th:only-of-type {\n",
              "        vertical-align: middle;\n",
              "    }\n",
              "\n",
              "    .dataframe tbody tr th {\n",
              "        vertical-align: top;\n",
              "    }\n",
              "\n",
              "    .dataframe thead th {\n",
              "        text-align: right;\n",
              "    }\n",
              "</style>\n",
              "<table border=\"1\" class=\"dataframe\">\n",
              "  <thead>\n",
              "    <tr style=\"text-align: right;\">\n",
              "      <th></th>\n",
              "      <th>x</th>\n",
              "      <th>y</th>\n",
              "      <th>r</th>\n",
              "    </tr>\n",
              "  </thead>\n",
              "  <tbody>\n",
              "    <tr>\n",
              "      <th>0</th>\n",
              "      <td>0.110923</td>\n",
              "      <td>0.436324</td>\n",
              "      <td>0.202682</td>\n",
              "    </tr>\n",
              "    <tr>\n",
              "      <th>1</th>\n",
              "      <td>-1.150994</td>\n",
              "      <td>0.038003</td>\n",
              "      <td>1.326230</td>\n",
              "    </tr>\n",
              "    <tr>\n",
              "      <th>2</th>\n",
              "      <td>0.375698</td>\n",
              "      <td>0.120031</td>\n",
              "      <td>0.155557</td>\n",
              "    </tr>\n",
              "    <tr>\n",
              "      <th>3</th>\n",
              "      <td>-0.600639</td>\n",
              "      <td>0.613518</td>\n",
              "      <td>0.737171</td>\n",
              "    </tr>\n",
              "    <tr>\n",
              "      <th>4</th>\n",
              "      <td>-0.291694</td>\n",
              "      <td>-1.022793</td>\n",
              "      <td>1.131190</td>\n",
              "    </tr>\n",
              "  </tbody>\n",
              "</table>\n",
              "</div>"
            ],
            "text/plain": [
              "          x         y         r\n",
              "0  0.110923  0.436324  0.202682\n",
              "1 -1.150994  0.038003  1.326230\n",
              "2  0.375698  0.120031  0.155557\n",
              "3 -0.600639  0.613518  0.737171\n",
              "4 -0.291694 -1.022793  1.131190"
            ]
          },
          "metadata": {},
          "output_type": "display_data"
        },
        {
          "name": "stdout",
          "output_type": "stream",
          "text": [
            "\n",
            "Rows where r < 1:\n"
          ]
        },
        {
          "data": {
            "text/html": [
              "<div>\n",
              "<style scoped>\n",
              "    .dataframe tbody tr th:only-of-type {\n",
              "        vertical-align: middle;\n",
              "    }\n",
              "\n",
              "    .dataframe tbody tr th {\n",
              "        vertical-align: top;\n",
              "    }\n",
              "\n",
              "    .dataframe thead th {\n",
              "        text-align: right;\n",
              "    }\n",
              "</style>\n",
              "<table border=\"1\" class=\"dataframe\">\n",
              "  <thead>\n",
              "    <tr style=\"text-align: right;\">\n",
              "      <th></th>\n",
              "      <th>x</th>\n",
              "      <th>y</th>\n",
              "      <th>r</th>\n",
              "    </tr>\n",
              "  </thead>\n",
              "  <tbody>\n",
              "    <tr>\n",
              "      <th>0</th>\n",
              "      <td>0.110923</td>\n",
              "      <td>0.436324</td>\n",
              "      <td>0.202682</td>\n",
              "    </tr>\n",
              "    <tr>\n",
              "      <th>2</th>\n",
              "      <td>0.375698</td>\n",
              "      <td>0.120031</td>\n",
              "      <td>0.155557</td>\n",
              "    </tr>\n",
              "    <tr>\n",
              "      <th>3</th>\n",
              "      <td>-0.600639</td>\n",
              "      <td>0.613518</td>\n",
              "      <td>0.737171</td>\n",
              "    </tr>\n",
              "    <tr>\n",
              "      <th>5</th>\n",
              "      <td>-0.601707</td>\n",
              "      <td>-0.257377</td>\n",
              "      <td>0.428294</td>\n",
              "    </tr>\n",
              "    <tr>\n",
              "      <th>7</th>\n",
              "      <td>-0.013497</td>\n",
              "      <td>0.399223</td>\n",
              "      <td>0.159561</td>\n",
              "    </tr>\n",
              "  </tbody>\n",
              "</table>\n",
              "</div>"
            ],
            "text/plain": [
              "          x         y         r\n",
              "0  0.110923  0.436324  0.202682\n",
              "2  0.375698  0.120031  0.155557\n",
              "3 -0.600639  0.613518  0.737171\n",
              "5 -0.601707 -0.257377  0.428294\n",
              "7 -0.013497  0.399223  0.159561"
            ]
          },
          "execution_count": 10,
          "metadata": {},
          "output_type": "execute_result"
        }
      ],
      "source": [
        "df_eval = df_big.eval('r = x**2 + y**2')  # Compute radial distance squared\n",
        "print(\"\\nDataFrame with new computed column r = x**2 + y**2:\")\n",
        "display(df_eval.head())\n",
        "\n",
        "# You can also combine eval() with query() for expressive operations\n",
        "filtered = df_big.eval('r = x**2 + y**2').query('r < 1')\n",
        "print(\"\\nRows where r < 1:\")\n",
        "filtered.head()"
      ]
    },
    {
      "cell_type": "markdown",
      "id": "43a8dc6a",
      "metadata": {
        "id": "43a8dc6a",
        "tags": []
      },
      "source": [
        "## Operations and broadcasting\n",
        "\n",
        "Elementwise, reduction, alignment across indexes, add/align with fill_value."
      ]
    },
    {
      "cell_type": "code",
      "execution_count": null,
      "id": "673a61bd",
      "metadata": {
        "id": "673a61bd",
        "outputId": "11401f2e-d598-4ac2-d0f6-8f9e998447c5",
        "tags": []
      },
      "outputs": [
        {
          "name": "stdout",
          "output_type": "stream",
          "text": [
            "A+B (alignment):\n",
            " a     NaN\n",
            "b    12.0\n",
            "c    23.0\n",
            "dtype: float64\n",
            "\n",
            "A.add(B, fill_value=0):\n",
            " a     1.0\n",
            "b    12.0\n",
            "c    23.0\n",
            "dtype: float64\n",
            "\n",
            "Broadcast column-wise (subtract mean):\n",
            "      A    B    C    D\n",
            "0 -4.0 -4.0 -4.0 -4.0\n",
            "1  0.0  0.0  0.0  0.0\n",
            "2  4.0  4.0  4.0  4.0\n"
          ]
        }
      ],
      "source": [
        "A = pd.Series([1,2,3], index=['a','b','c'])\n",
        "B = pd.Series([10,20], index=['b','c'])\n",
        "print('A+B (alignment):\\n', A+B)\n",
        "print('\\nA.add(B, fill_value=0):\\n', A.add(B, fill_value=0))\n",
        "\n",
        "DF = pd.DataFrame(np.arange(12).reshape(3,4), columns=list('ABCD'))\n",
        "print('\\nBroadcast column-wise (subtract mean):\\n', DF - DF.mean())"
      ]
    },
    {
      "cell_type": "markdown",
      "id": "ca6e42ff",
      "metadata": {
        "id": "ca6e42ff",
        "tags": []
      },
      "source": [
        "### Missing data\n",
        "\n",
        "Detecting, counting, imputing, forward/backfill, interpolation, and dropping. Consider data types (nullable integer arrays)."
      ]
    },
    {
      "cell_type": "code",
      "execution_count": null,
      "id": "2b1158ae",
      "metadata": {
        "id": "2b1158ae",
        "outputId": "5bd73a34-fe90-4542-c8eb-faa3114a4883",
        "tags": []
      },
      "outputs": [
        {
          "name": "stdout",
          "output_type": "stream",
          "text": [
            "     A    B\n",
            "0  1.0  NaN\n",
            "1  NaN  2.0\n",
            "2  3.0  3.0\n",
            "\n",
            "df.isna():\n",
            "        A      B\n",
            "0  False   True\n",
            "1   True  False\n",
            "2  False  False\n",
            "\n",
            "fillna with median:\n",
            "      A    B\n",
            "0  1.0  2.5\n",
            "1  2.0  2.0\n",
            "2  3.0  3.0\n",
            "\n",
            "interpolate:\n",
            "      A    B\n",
            "0  1.0  NaN\n",
            "1  2.0  2.0\n",
            "2  3.0  3.0\n"
          ]
        }
      ],
      "source": [
        "df = pd.DataFrame({'A':[1,np.nan,3], 'B':[np.nan, 2, 3]})\n",
        "print(df)\n",
        "print('\\ndf.isna():\\n', df.isna())\n",
        "print('\\nfillna with median:\\n', df.fillna(df.median()))\n",
        "print('\\ninterpolate:\\n', df.interpolate())"
      ]
    },
    {
      "cell_type": "markdown",
      "id": "99be6167",
      "metadata": {
        "id": "99be6167",
        "tags": []
      },
      "source": [
        "### Grouping and aggregation\n",
        "Grouping is one of the most powerful and expressive features in pandas. It allows you to **split** data into groups, **apply** functions independently to each group, and then **combine** the results — the classic *split–apply–combine* strategy.\n",
        "\n",
        "#### GroupBy mechanics\n",
        "When you call `df.groupby('key')`, pandas creates a `GroupBy` object that knows which rows belong to each group but does **not** yet perform any computation. Computation happens only when you call an operation such as `.mean()`, `.sum()`, `.apply()`, or `.agg()`.\n",
        "\n",
        "#### Named aggregation\n",
        "The `.agg()` method allows **named aggregations**, giving fine control over the resulting column names:\n",
        "```python\n",
        "df.groupby('key').agg(mean_val=('col', 'mean'), max_val=('col', 'max'))"
      ]
    },
    {
      "cell_type": "code",
      "execution_count": null,
      "id": "26343bc6",
      "metadata": {
        "id": "26343bc6",
        "outputId": "a82cba96-e398-410f-bd64-1f7b84c97f45",
        "tags": []
      },
      "outputs": [
        {
          "data": {
            "text/html": [
              "<div>\n",
              "<style scoped>\n",
              "    .dataframe tbody tr th:only-of-type {\n",
              "        vertical-align: middle;\n",
              "    }\n",
              "\n",
              "    .dataframe tbody tr th {\n",
              "        vertical-align: top;\n",
              "    }\n",
              "\n",
              "    .dataframe thead th {\n",
              "        text-align: right;\n",
              "    }\n",
              "</style>\n",
              "<table border=\"1\" class=\"dataframe\">\n",
              "  <thead>\n",
              "    <tr style=\"text-align: right;\">\n",
              "      <th></th>\n",
              "      <th>key</th>\n",
              "      <th>val</th>\n",
              "      <th>w</th>\n",
              "    </tr>\n",
              "  </thead>\n",
              "  <tbody>\n",
              "    <tr>\n",
              "      <th>0</th>\n",
              "      <td>a</td>\n",
              "      <td>1</td>\n",
              "      <td>1</td>\n",
              "    </tr>\n",
              "    <tr>\n",
              "      <th>1</th>\n",
              "      <td>a</td>\n",
              "      <td>2</td>\n",
              "      <td>2</td>\n",
              "    </tr>\n",
              "    <tr>\n",
              "      <th>2</th>\n",
              "      <td>a</td>\n",
              "      <td>3</td>\n",
              "      <td>1</td>\n",
              "    </tr>\n",
              "    <tr>\n",
              "      <th>3</th>\n",
              "      <td>b</td>\n",
              "      <td>4</td>\n",
              "      <td>1</td>\n",
              "    </tr>\n",
              "    <tr>\n",
              "      <th>4</th>\n",
              "      <td>b</td>\n",
              "      <td>5</td>\n",
              "      <td>2</td>\n",
              "    </tr>\n",
              "    <tr>\n",
              "      <th>5</th>\n",
              "      <td>b</td>\n",
              "      <td>6</td>\n",
              "      <td>1</td>\n",
              "    </tr>\n",
              "  </tbody>\n",
              "</table>\n",
              "</div>"
            ],
            "text/plain": [
              "  key  val  w\n",
              "0   a    1  1\n",
              "1   a    2  2\n",
              "2   a    3  1\n",
              "3   b    4  1\n",
              "4   b    5  2\n",
              "5   b    6  1"
            ]
          },
          "metadata": {},
          "output_type": "display_data"
        },
        {
          "data": {
            "text/html": [
              "<div>\n",
              "<style scoped>\n",
              "    .dataframe tbody tr th:only-of-type {\n",
              "        vertical-align: middle;\n",
              "    }\n",
              "\n",
              "    .dataframe tbody tr th {\n",
              "        vertical-align: top;\n",
              "    }\n",
              "\n",
              "    .dataframe thead th {\n",
              "        text-align: right;\n",
              "    }\n",
              "</style>\n",
              "<table border=\"1\" class=\"dataframe\">\n",
              "  <thead>\n",
              "    <tr style=\"text-align: right;\">\n",
              "      <th></th>\n",
              "      <th>count</th>\n",
              "      <th>sum</th>\n",
              "      <th>wmean</th>\n",
              "    </tr>\n",
              "    <tr>\n",
              "      <th>key</th>\n",
              "      <th></th>\n",
              "      <th></th>\n",
              "      <th></th>\n",
              "    </tr>\n",
              "  </thead>\n",
              "  <tbody>\n",
              "    <tr>\n",
              "      <th>a</th>\n",
              "      <td>3</td>\n",
              "      <td>6</td>\n",
              "      <td>2</td>\n",
              "    </tr>\n",
              "    <tr>\n",
              "      <th>b</th>\n",
              "      <td>3</td>\n",
              "      <td>15</td>\n",
              "      <td>5</td>\n",
              "    </tr>\n",
              "  </tbody>\n",
              "</table>\n",
              "</div>"
            ],
            "text/plain": [
              "     count  sum  wmean\n",
              "key                   \n",
              "a        3    6      2\n",
              "b        3   15      5"
            ]
          },
          "metadata": {},
          "output_type": "display_data"
        }
      ],
      "source": [
        "df = pd.DataFrame({'key': list('aaabbb'), 'val': [1,2,3,4,5,6], 'w':[1,2,1,1,2,1]})\n",
        "display(df)\n",
        "display(df.groupby('key').agg(count=('val','size'), sum=('val','sum'), wmean=('val', lambda x: np.average(x, weights=df.loc[x.index,'w']))))"
      ]
    },
    {
      "cell_type": "markdown",
      "id": "cee3ec8a-3df7-4511-b6bd-bcccf829fc64",
      "metadata": {
        "id": "cee3ec8a-3df7-4511-b6bd-bcccf829fc64",
        "tags": []
      },
      "source": [
        "### apply/map/transform/agg\n",
        "\n",
        "`apply` is flexible but often slower than vectorized ops. Show `transform`, `map`, and `pipe` usage.\n",
        "\n",
        "| Method | Typical Use | Returns | Speed | Notes |\n",
        "|--------|--------------|----------|--------|-------|\n",
        "| **`map`** | Element-wise mapping of a Series | Series | Fast | Great for categorical remapping |\n",
        "| **`apply`** | Row/column-wise custom function | Series or DataFrame | Slow | Most flexible, least efficient |\n",
        "| **`transform`** | Element-wise, preserves shape | Series or DataFrame | Medium | Ideal for group-wise normalization |\n",
        "| **`pipe`** | Functional composition | Any | Fast | Enhances readability |\n"
      ]
    },
    {
      "cell_type": "code",
      "execution_count": null,
      "id": "41cb18bd",
      "metadata": {
        "id": "41cb18bd",
        "outputId": "adf6c171-0088-48c4-8924-83f775048edf",
        "tags": []
      },
      "outputs": [
        {
          "name": "stdout",
          "output_type": "stream",
          "text": [
            "After map():\n"
          ]
        },
        {
          "data": {
            "text/html": [
              "<div>\n",
              "<style scoped>\n",
              "    .dataframe tbody tr th:only-of-type {\n",
              "        vertical-align: middle;\n",
              "    }\n",
              "\n",
              "    .dataframe tbody tr th {\n",
              "        vertical-align: top;\n",
              "    }\n",
              "\n",
              "    .dataframe thead th {\n",
              "        text-align: right;\n",
              "    }\n",
              "</style>\n",
              "<table border=\"1\" class=\"dataframe\">\n",
              "  <thead>\n",
              "    <tr style=\"text-align: right;\">\n",
              "      <th></th>\n",
              "      <th>g</th>\n",
              "      <th>v</th>\n",
              "      <th>g_long</th>\n",
              "    </tr>\n",
              "  </thead>\n",
              "  <tbody>\n",
              "    <tr>\n",
              "      <th>0</th>\n",
              "      <td>a</td>\n",
              "      <td>1</td>\n",
              "      <td>alpha</td>\n",
              "    </tr>\n",
              "    <tr>\n",
              "      <th>1</th>\n",
              "      <td>a</td>\n",
              "      <td>2</td>\n",
              "      <td>alpha</td>\n",
              "    </tr>\n",
              "    <tr>\n",
              "      <th>2</th>\n",
              "      <td>b</td>\n",
              "      <td>3</td>\n",
              "      <td>beta</td>\n",
              "    </tr>\n",
              "    <tr>\n",
              "      <th>3</th>\n",
              "      <td>b</td>\n",
              "      <td>4</td>\n",
              "      <td>beta</td>\n",
              "    </tr>\n",
              "  </tbody>\n",
              "</table>\n",
              "</div>"
            ],
            "text/plain": [
              "   g  v g_long\n",
              "0  a  1  alpha\n",
              "1  a  2  alpha\n",
              "2  b  3   beta\n",
              "3  b  4   beta"
            ]
          },
          "metadata": {},
          "output_type": "display_data"
        },
        {
          "name": "stdout",
          "output_type": "stream",
          "text": [
            "After apply():\n"
          ]
        },
        {
          "data": {
            "text/html": [
              "<div>\n",
              "<style scoped>\n",
              "    .dataframe tbody tr th:only-of-type {\n",
              "        vertical-align: middle;\n",
              "    }\n",
              "\n",
              "    .dataframe tbody tr th {\n",
              "        vertical-align: top;\n",
              "    }\n",
              "\n",
              "    .dataframe thead th {\n",
              "        text-align: right;\n",
              "    }\n",
              "</style>\n",
              "<table border=\"1\" class=\"dataframe\">\n",
              "  <thead>\n",
              "    <tr style=\"text-align: right;\">\n",
              "      <th></th>\n",
              "      <th>g</th>\n",
              "      <th>v</th>\n",
              "      <th>g_long</th>\n",
              "      <th>v_squared</th>\n",
              "    </tr>\n",
              "  </thead>\n",
              "  <tbody>\n",
              "    <tr>\n",
              "      <th>0</th>\n",
              "      <td>a</td>\n",
              "      <td>1</td>\n",
              "      <td>alpha</td>\n",
              "      <td>1</td>\n",
              "    </tr>\n",
              "    <tr>\n",
              "      <th>1</th>\n",
              "      <td>a</td>\n",
              "      <td>2</td>\n",
              "      <td>alpha</td>\n",
              "      <td>4</td>\n",
              "    </tr>\n",
              "    <tr>\n",
              "      <th>2</th>\n",
              "      <td>b</td>\n",
              "      <td>3</td>\n",
              "      <td>beta</td>\n",
              "      <td>9</td>\n",
              "    </tr>\n",
              "    <tr>\n",
              "      <th>3</th>\n",
              "      <td>b</td>\n",
              "      <td>4</td>\n",
              "      <td>beta</td>\n",
              "      <td>16</td>\n",
              "    </tr>\n",
              "  </tbody>\n",
              "</table>\n",
              "</div>"
            ],
            "text/plain": [
              "   g  v g_long  v_squared\n",
              "0  a  1  alpha          1\n",
              "1  a  2  alpha          4\n",
              "2  b  3   beta          9\n",
              "3  b  4   beta         16"
            ]
          },
          "metadata": {},
          "output_type": "display_data"
        },
        {
          "name": "stdout",
          "output_type": "stream",
          "text": [
            "After transform(): each value normalized by group mean\n"
          ]
        },
        {
          "data": {
            "text/html": [
              "<div>\n",
              "<style scoped>\n",
              "    .dataframe tbody tr th:only-of-type {\n",
              "        vertical-align: middle;\n",
              "    }\n",
              "\n",
              "    .dataframe tbody tr th {\n",
              "        vertical-align: top;\n",
              "    }\n",
              "\n",
              "    .dataframe thead th {\n",
              "        text-align: right;\n",
              "    }\n",
              "</style>\n",
              "<table border=\"1\" class=\"dataframe\">\n",
              "  <thead>\n",
              "    <tr style=\"text-align: right;\">\n",
              "      <th></th>\n",
              "      <th>g</th>\n",
              "      <th>v</th>\n",
              "      <th>g_long</th>\n",
              "      <th>v_squared</th>\n",
              "      <th>v_norm</th>\n",
              "    </tr>\n",
              "  </thead>\n",
              "  <tbody>\n",
              "    <tr>\n",
              "      <th>0</th>\n",
              "      <td>a</td>\n",
              "      <td>1</td>\n",
              "      <td>alpha</td>\n",
              "      <td>1</td>\n",
              "      <td>0.666667</td>\n",
              "    </tr>\n",
              "    <tr>\n",
              "      <th>1</th>\n",
              "      <td>a</td>\n",
              "      <td>2</td>\n",
              "      <td>alpha</td>\n",
              "      <td>4</td>\n",
              "      <td>1.333333</td>\n",
              "    </tr>\n",
              "    <tr>\n",
              "      <th>2</th>\n",
              "      <td>b</td>\n",
              "      <td>3</td>\n",
              "      <td>beta</td>\n",
              "      <td>9</td>\n",
              "      <td>0.857143</td>\n",
              "    </tr>\n",
              "    <tr>\n",
              "      <th>3</th>\n",
              "      <td>b</td>\n",
              "      <td>4</td>\n",
              "      <td>beta</td>\n",
              "      <td>16</td>\n",
              "      <td>1.142857</td>\n",
              "    </tr>\n",
              "  </tbody>\n",
              "</table>\n",
              "</div>"
            ],
            "text/plain": [
              "   g  v g_long  v_squared    v_norm\n",
              "0  a  1  alpha          1  0.666667\n",
              "1  a  2  alpha          4  1.333333\n",
              "2  b  3   beta          9  0.857143\n",
              "3  b  4   beta         16  1.142857"
            ]
          },
          "metadata": {},
          "output_type": "display_data"
        },
        {
          "name": "stdout",
          "output_type": "stream",
          "text": [
            "After pipe():\n"
          ]
        },
        {
          "data": {
            "text/html": [
              "<div>\n",
              "<style scoped>\n",
              "    .dataframe tbody tr th:only-of-type {\n",
              "        vertical-align: middle;\n",
              "    }\n",
              "\n",
              "    .dataframe tbody tr th {\n",
              "        vertical-align: top;\n",
              "    }\n",
              "\n",
              "    .dataframe thead th {\n",
              "        text-align: right;\n",
              "    }\n",
              "</style>\n",
              "<table border=\"1\" class=\"dataframe\">\n",
              "  <thead>\n",
              "    <tr style=\"text-align: right;\">\n",
              "      <th></th>\n",
              "      <th>g</th>\n",
              "      <th>v</th>\n",
              "      <th>g_long</th>\n",
              "      <th>v_squared</th>\n",
              "      <th>v_norm</th>\n",
              "      <th>v_centered</th>\n",
              "    </tr>\n",
              "  </thead>\n",
              "  <tbody>\n",
              "    <tr>\n",
              "      <th>0</th>\n",
              "      <td>a</td>\n",
              "      <td>1</td>\n",
              "      <td>alpha</td>\n",
              "      <td>1</td>\n",
              "      <td>0.666667</td>\n",
              "      <td>-1.5</td>\n",
              "    </tr>\n",
              "    <tr>\n",
              "      <th>1</th>\n",
              "      <td>a</td>\n",
              "      <td>2</td>\n",
              "      <td>alpha</td>\n",
              "      <td>4</td>\n",
              "      <td>1.333333</td>\n",
              "      <td>-0.5</td>\n",
              "    </tr>\n",
              "    <tr>\n",
              "      <th>2</th>\n",
              "      <td>b</td>\n",
              "      <td>3</td>\n",
              "      <td>beta</td>\n",
              "      <td>9</td>\n",
              "      <td>0.857143</td>\n",
              "      <td>0.5</td>\n",
              "    </tr>\n",
              "    <tr>\n",
              "      <th>3</th>\n",
              "      <td>b</td>\n",
              "      <td>4</td>\n",
              "      <td>beta</td>\n",
              "      <td>16</td>\n",
              "      <td>1.142857</td>\n",
              "      <td>1.5</td>\n",
              "    </tr>\n",
              "  </tbody>\n",
              "</table>\n",
              "</div>"
            ],
            "text/plain": [
              "   g  v g_long  v_squared    v_norm  v_centered\n",
              "0  a  1  alpha          1  0.666667        -1.5\n",
              "1  a  2  alpha          4  1.333333        -0.5\n",
              "2  b  3   beta          9  0.857143         0.5\n",
              "3  b  4   beta         16  1.142857         1.5"
            ]
          },
          "metadata": {},
          "output_type": "display_data"
        }
      ],
      "source": [
        "df = pd.DataFrame({'g': ['a','a','b','b'], 'v': [1,2,3,4]})\n",
        "\n",
        "# Here, we map letters to descriptive names\n",
        "df['g_long'] = df['g'].map({'a': 'alpha', 'b': 'beta'})\n",
        "print(\"After map():\")\n",
        "display(df)\n",
        "\n",
        "# Apply a lambda function to the numeric column\n",
        "df['v_squared'] = df['v'].apply(lambda x: x**2)\n",
        "print(\"After apply():\")\n",
        "display(df)\n",
        "\n",
        "# Compute deviation from group mean\n",
        "df['v_norm'] = df.groupby('g')['v'].transform(lambda x: x / x.mean())\n",
        "print(\"After transform(): each value normalized by group mean\")\n",
        "display(df)\n",
        "\n",
        "# pipe – chaining transformations in a functional style\n",
        "def add_centered_col(data):\n",
        "    data['v_centered'] = data['v'] - data['v'].mean()\n",
        "    return data\n",
        "\n",
        "df_piped = (df.pipe(add_centered_col))\n",
        "print(\"After pipe():\")\n",
        "display(df_piped)"
      ]
    },
    {
      "cell_type": "markdown",
      "id": "547c9b41",
      "metadata": {
        "id": "547c9b41",
        "tags": []
      },
      "source": [
        "## Merging, joining, concatenation\n",
        "\n",
        "`merge` with indicator, `on`, `how`, `suffixes`, and `join`/`concat` specifics. Index vs column merges.\n",
        "\n",
        "| Method | Typical Use | Join Key | Output Shape | Common Parameters |\n",
        "|:-------|:-------------|:----------|:--------------|:------------------|\n",
        "| `merge` | SQL-style joins | Columns or indices | Flexible | `on`, `how`, `indicator`, `suffixes` |\n",
        "| `join`  | Index-based merge | Index | Usually same rows | `how`, `lsuffix`, `rsuffix` |\n",
        "| `concat` | Stack or append frames | None (axis alignment) | Depends on axis | `axis`, `ignore_index`, `keys` |"
      ]
    },
    {
      "cell_type": "markdown",
      "id": "82ec6de2-bfa3-4e91-85cf-d40c00e3f799",
      "metadata": {
        "id": "82ec6de2-bfa3-4e91-85cf-d40c00e3f799",
        "tags": []
      },
      "source": [
        "### `concat`: stacking DataFrames\n",
        "`pd.concat()` concatenates DataFrames along a chosen axis:\n",
        "- `axis=0` stacks rows (adds more events).  \n",
        "- `axis=1` adds columns (adds more variables).  \n",
        "You can preserve original indices or ignore them with `ignore_index=True`.\n"
      ]
    },
    {
      "cell_type": "code",
      "execution_count": null,
      "id": "e4dfd1a9",
      "metadata": {
        "id": "e4dfd1a9",
        "outputId": "248c7330-81a4-464b-87c5-e2191c4f5d96",
        "tags": []
      },
      "outputs": [
        {
          "name": "stdout",
          "output_type": "stream",
          "text": [
            "Row-wise concatenation (axis=0):\n"
          ]
        },
        {
          "data": {
            "text/html": [
              "<div>\n",
              "<style scoped>\n",
              "    .dataframe tbody tr th:only-of-type {\n",
              "        vertical-align: middle;\n",
              "    }\n",
              "\n",
              "    .dataframe tbody tr th {\n",
              "        vertical-align: top;\n",
              "    }\n",
              "\n",
              "    .dataframe thead th {\n",
              "        text-align: right;\n",
              "    }\n",
              "</style>\n",
              "<table border=\"1\" class=\"dataframe\">\n",
              "  <thead>\n",
              "    <tr style=\"text-align: right;\">\n",
              "      <th></th>\n",
              "      <th>id</th>\n",
              "      <th>left_val</th>\n",
              "      <th>right_val</th>\n",
              "    </tr>\n",
              "  </thead>\n",
              "  <tbody>\n",
              "    <tr>\n",
              "      <th>0</th>\n",
              "      <td>1</td>\n",
              "      <td>L1</td>\n",
              "      <td>NaN</td>\n",
              "    </tr>\n",
              "    <tr>\n",
              "      <th>1</th>\n",
              "      <td>2</td>\n",
              "      <td>L2</td>\n",
              "      <td>NaN</td>\n",
              "    </tr>\n",
              "    <tr>\n",
              "      <th>2</th>\n",
              "      <td>3</td>\n",
              "      <td>L3</td>\n",
              "      <td>NaN</td>\n",
              "    </tr>\n",
              "    <tr>\n",
              "      <th>3</th>\n",
              "      <td>2</td>\n",
              "      <td>NaN</td>\n",
              "      <td>R2</td>\n",
              "    </tr>\n",
              "    <tr>\n",
              "      <th>4</th>\n",
              "      <td>3</td>\n",
              "      <td>NaN</td>\n",
              "      <td>R3</td>\n",
              "    </tr>\n",
              "    <tr>\n",
              "      <th>5</th>\n",
              "      <td>4</td>\n",
              "      <td>NaN</td>\n",
              "      <td>R4</td>\n",
              "    </tr>\n",
              "  </tbody>\n",
              "</table>\n",
              "</div>"
            ],
            "text/plain": [
              "   id left_val right_val\n",
              "0   1       L1       NaN\n",
              "1   2       L2       NaN\n",
              "2   3       L3       NaN\n",
              "3   2      NaN        R2\n",
              "4   3      NaN        R3\n",
              "5   4      NaN        R4"
            ]
          },
          "metadata": {},
          "output_type": "display_data"
        },
        {
          "name": "stdout",
          "output_type": "stream",
          "text": [
            "Column-wise concatenation (axis=1):\n"
          ]
        },
        {
          "data": {
            "text/html": [
              "<div>\n",
              "<style scoped>\n",
              "    .dataframe tbody tr th:only-of-type {\n",
              "        vertical-align: middle;\n",
              "    }\n",
              "\n",
              "    .dataframe tbody tr th {\n",
              "        vertical-align: top;\n",
              "    }\n",
              "\n",
              "    .dataframe thead th {\n",
              "        text-align: right;\n",
              "    }\n",
              "</style>\n",
              "<table border=\"1\" class=\"dataframe\">\n",
              "  <thead>\n",
              "    <tr style=\"text-align: right;\">\n",
              "      <th></th>\n",
              "      <th>id</th>\n",
              "      <th>left_val</th>\n",
              "      <th>id</th>\n",
              "      <th>right_val</th>\n",
              "    </tr>\n",
              "  </thead>\n",
              "  <tbody>\n",
              "    <tr>\n",
              "      <th>0</th>\n",
              "      <td>1</td>\n",
              "      <td>L1</td>\n",
              "      <td>2</td>\n",
              "      <td>R2</td>\n",
              "    </tr>\n",
              "    <tr>\n",
              "      <th>1</th>\n",
              "      <td>2</td>\n",
              "      <td>L2</td>\n",
              "      <td>3</td>\n",
              "      <td>R3</td>\n",
              "    </tr>\n",
              "    <tr>\n",
              "      <th>2</th>\n",
              "      <td>3</td>\n",
              "      <td>L3</td>\n",
              "      <td>4</td>\n",
              "      <td>R4</td>\n",
              "    </tr>\n",
              "  </tbody>\n",
              "</table>\n",
              "</div>"
            ],
            "text/plain": [
              "   id left_val  id right_val\n",
              "0   1       L1   2        R2\n",
              "1   2       L2   3        R3\n",
              "2   3       L3   4        R4"
            ]
          },
          "metadata": {},
          "output_type": "display_data"
        }
      ],
      "source": [
        "left = pd.DataFrame({'id':[1,2,3], 'left_val':['L1','L2','L3']})\n",
        "right = pd.DataFrame({'id':[2,3,4], 'right_val':['R2','R3','R4']})\n",
        "\n",
        "# Row-wise concatenation (stacking), this simply puts one DataFrame below the other.\n",
        "# If columns differ, pandas aligns them by name, filling missing values with NaN.\n",
        "row_concat = pd.concat([left, right], axis=0, ignore_index=True)\n",
        "print(\"Row-wise concatenation (axis=0):\")\n",
        "display(row_concat)\n",
        "\n",
        "# Column-wise concatenation (side-by-side)\n",
        "# Here we combine columns along axis=1 — useful when DataFrames share a common index.\n",
        "col_concat = pd.concat([left, right], axis=1)\n",
        "print(\"Column-wise concatenation (axis=1):\")\n",
        "display(col_concat)"
      ]
    },
    {
      "cell_type": "markdown",
      "id": "d8e98b53",
      "metadata": {
        "id": "d8e98b53",
        "tags": []
      },
      "source": [
        "## Reshaping: melt, pivot, pivot_table, stack/unstack\n",
        "\n",
        "Use `pivot_table` for aggregation and `melt` to normalize wide tables."
      ]
    },
    {
      "cell_type": "code",
      "execution_count": null,
      "id": "f2d15d63",
      "metadata": {
        "id": "f2d15d63",
        "outputId": "c88a3a9f-4d47-43f4-fbae-e5d6ff2b5548",
        "tags": []
      },
      "outputs": [
        {
          "name": "stdout",
          "output_type": "stream",
          "text": [
            "Pivoted (id as index, years as columns):\n"
          ]
        },
        {
          "data": {
            "text/html": [
              "<div>\n",
              "<style scoped>\n",
              "    .dataframe tbody tr th:only-of-type {\n",
              "        vertical-align: middle;\n",
              "    }\n",
              "\n",
              "    .dataframe tbody tr th {\n",
              "        vertical-align: top;\n",
              "    }\n",
              "\n",
              "    .dataframe thead th {\n",
              "        text-align: right;\n",
              "    }\n",
              "</style>\n",
              "<table border=\"1\" class=\"dataframe\">\n",
              "  <thead>\n",
              "    <tr style=\"text-align: right;\">\n",
              "      <th>year</th>\n",
              "      <th>2020</th>\n",
              "      <th>2021</th>\n",
              "    </tr>\n",
              "    <tr>\n",
              "      <th>id</th>\n",
              "      <th></th>\n",
              "      <th></th>\n",
              "    </tr>\n",
              "  </thead>\n",
              "  <tbody>\n",
              "    <tr>\n",
              "      <th>1</th>\n",
              "      <td>10</td>\n",
              "      <td>15</td>\n",
              "    </tr>\n",
              "    <tr>\n",
              "      <th>2</th>\n",
              "      <td>20</td>\n",
              "      <td>25</td>\n",
              "    </tr>\n",
              "  </tbody>\n",
              "</table>\n",
              "</div>"
            ],
            "text/plain": [
              "year  2020  2021\n",
              "id              \n",
              "1       10    15\n",
              "2       20    25"
            ]
          },
          "metadata": {},
          "output_type": "display_data"
        },
        {
          "name": "stdout",
          "output_type": "stream",
          "text": [
            "Melted (long format again):\n"
          ]
        },
        {
          "data": {
            "text/html": [
              "<div>\n",
              "<style scoped>\n",
              "    .dataframe tbody tr th:only-of-type {\n",
              "        vertical-align: middle;\n",
              "    }\n",
              "\n",
              "    .dataframe tbody tr th {\n",
              "        vertical-align: top;\n",
              "    }\n",
              "\n",
              "    .dataframe thead th {\n",
              "        text-align: right;\n",
              "    }\n",
              "</style>\n",
              "<table border=\"1\" class=\"dataframe\">\n",
              "  <thead>\n",
              "    <tr style=\"text-align: right;\">\n",
              "      <th></th>\n",
              "      <th>id</th>\n",
              "      <th>measurement</th>\n",
              "      <th>measurement_value</th>\n",
              "    </tr>\n",
              "  </thead>\n",
              "  <tbody>\n",
              "    <tr>\n",
              "      <th>0</th>\n",
              "      <td>1</td>\n",
              "      <td>value</td>\n",
              "      <td>10</td>\n",
              "    </tr>\n",
              "    <tr>\n",
              "      <th>1</th>\n",
              "      <td>1</td>\n",
              "      <td>value</td>\n",
              "      <td>15</td>\n",
              "    </tr>\n",
              "    <tr>\n",
              "      <th>2</th>\n",
              "      <td>2</td>\n",
              "      <td>value</td>\n",
              "      <td>20</td>\n",
              "    </tr>\n",
              "    <tr>\n",
              "      <th>3</th>\n",
              "      <td>2</td>\n",
              "      <td>value</td>\n",
              "      <td>25</td>\n",
              "    </tr>\n",
              "  </tbody>\n",
              "</table>\n",
              "</div>"
            ],
            "text/plain": [
              "   id measurement  measurement_value\n",
              "0   1       value                 10\n",
              "1   1       value                 15\n",
              "2   2       value                 20\n",
              "3   2       value                 25"
            ]
          },
          "metadata": {},
          "output_type": "display_data"
        }
      ],
      "source": [
        "# Original DataFrame\n",
        "df = pd.DataFrame({\n",
        "    'id': [1, 1, 2, 2],\n",
        "    'year': [2020, 2021, 2020, 2021],\n",
        "    'value': [10, 15, 20, 25]\n",
        "})\n",
        "\n",
        "# Pivot: reshape long → wide\n",
        "pivoted = df.pivot(index='id', columns='year', values='value')\n",
        "print(\"Pivoted (id as index, years as columns):\")\n",
        "display(pivoted)\n",
        "\n",
        "# Melt: reshape wide → long\n",
        "melted = df.melt(id_vars='id', value_vars=['value'],\n",
        "                 var_name='measurement', value_name='measurement_value')\n",
        "print(\"Melted (long format again):\")\n",
        "display(melted)\n"
      ]
    },
    {
      "cell_type": "markdown",
      "id": "aa67612f",
      "metadata": {
        "id": "aa67612f",
        "tags": []
      },
      "source": [
        "## Reading and writing: CSV, JSON, pickle, parquet, and a note on HDF5\n",
        "\n",
        "Examples for `read_csv`, `to_csv`, `read_json`, `to_json`, `to_pickle`, `read_pickle`, `to_parquet`. HDF5 with `to_hdf` is shown as well."
      ]
    },
    {
      "cell_type": "markdown",
      "id": "efd43320-4d14-4900-957e-f5cc01d32661",
      "metadata": {
        "id": "efd43320-4d14-4900-957e-f5cc01d32661",
        "tags": []
      },
      "source": [
        "### File format comparison: tradeoffs\n",
        "\n",
        "- CSV: universal, verbose, slow to parse\n",
        "- JSON: hierarchical, human-readable, bulkier\n",
        "- Pickle: fast and python-specific (not portable/trust issues)\n",
        "- Parquet/Feather: columnar, fast, compressed — preferred for large analytics\n",
        "- HDF5: good for large arrays and on-disk table access but PyTables dependency\n",
        "\n",
        "Consider serialization speed, compatibility, compression, and whether schema evolution is needed."
      ]
    },
    {
      "cell_type": "code",
      "execution_count": null,
      "id": "1a9d2608",
      "metadata": {
        "id": "1a9d2608",
        "outputId": "a26ecd75-61fc-4679-c080-7858d1341a75",
        "tags": []
      },
      "outputs": [
        {
          "name": "stdout",
          "output_type": "stream",
          "text": [
            "written demo files to /tmp/pandas_io_demo\n",
            "[PosixPath('/tmp/pandas_io_demo/demo.json'), PosixPath('/tmp/pandas_io_demo/demo.pkl'), PosixPath('/tmp/pandas_io_demo/demo.csv')]\n"
          ]
        }
      ],
      "source": [
        "tmp = Path('/tmp/pandas_io_demo')\n",
        "tmp.mkdir(exist_ok=True)\n",
        "# small demo files\n",
        "pd.DataFrame({'a':[1,2,3],'b':['x','y','z']}).to_csv(tmp / 'demo.csv', index=False)\n",
        "pd.DataFrame({'a':[1,2,3],'b':['x','y','z']}).to_json(tmp / 'demo.json', orient='records')\n",
        "pd.DataFrame({'a':[1,2,3],'b':['x','y','z']}).to_pickle(tmp / 'demo.pkl')\n",
        "print('written demo files to', tmp)\n",
        "print(list(tmp.iterdir()))"
      ]
    },
    {
      "cell_type": "markdown",
      "id": "ef989342",
      "metadata": {
        "id": "ef989342",
        "tags": []
      },
      "source": [
        "### HDF5 note\n",
        "`to_hdf` uses PyTables and is useful for on-disk table-like storage. Keep in mind concurrency and compatibility across pandas versions."
      ]
    },
    {
      "cell_type": "code",
      "execution_count": null,
      "id": "8e0c06f7",
      "metadata": {
        "id": "8e0c06f7",
        "outputId": "49008fbf-18bc-4a62-d635-b909ad9e34bf",
        "tags": []
      },
      "outputs": [
        {
          "name": "stdout",
          "output_type": "stream",
          "text": [
            "HDF5 written\n"
          ]
        }
      ],
      "source": [
        "# requires to run pip install tables\n",
        "try:\n",
        "    df = pd.DataFrame({'a':range(5), 'b':list('abcde')})\n",
        "    df.to_hdf(tmp / 'demo.h5', key=\"df\",mode='w')\n",
        "    print('HDF5 written')\n",
        "except Exception as e:\n",
        "    print('HDF5 not available in this environment:', e)"
      ]
    },
    {
      "cell_type": "markdown",
      "id": "b41e231f",
      "metadata": {
        "id": "b41e231f",
        "tags": []
      },
      "source": [
        "### Parquet example (fast columnar storage)"
      ]
    },
    {
      "cell_type": "code",
      "execution_count": null,
      "id": "ae7ed49d",
      "metadata": {
        "id": "ae7ed49d",
        "outputId": "1ae3c8e7-018d-40f4-8a1b-b51584de02bc",
        "tags": []
      },
      "outputs": [
        {
          "name": "stdout",
          "output_type": "stream",
          "text": [
            "parquet created\n"
          ]
        }
      ],
      "source": [
        "#requires to run pip install pyarrow fastparquet\n",
        "try:\n",
        "    df_small = pd.DataFrame({'x': range(10), 'y': np.random.randn(10)})\n",
        "    df_small.to_parquet(tmp / 'demo.parquet')#,engine=\"pyarrow\")\n",
        "    print('parquet created')\n",
        "except Exception as e:\n",
        "    print('parquet not available in this environment:', e)"
      ]
    },
    {
      "cell_type": "markdown",
      "id": "bf1ca76c-8adf-4ac8-9ec6-a5e4dd585d1a",
      "metadata": {
        "id": "bf1ca76c-8adf-4ac8-9ec6-a5e4dd585d1a",
        "tags": []
      },
      "source": [
        "### Reading would be as easy, e.g."
      ]
    },
    {
      "cell_type": "code",
      "execution_count": null,
      "id": "acf591a2-b589-4837-a872-deb92fefc1a3",
      "metadata": {
        "id": "acf591a2-b589-4837-a872-deb92fefc1a3",
        "outputId": "710765ab-9568-403d-c598-494430c81329",
        "tags": []
      },
      "outputs": [
        {
          "name": "stdout",
          "output_type": "stream",
          "text": [
            "Read from pickle:\n"
          ]
        },
        {
          "data": {
            "text/html": [
              "<div>\n",
              "<style scoped>\n",
              "    .dataframe tbody tr th:only-of-type {\n",
              "        vertical-align: middle;\n",
              "    }\n",
              "\n",
              "    .dataframe tbody tr th {\n",
              "        vertical-align: top;\n",
              "    }\n",
              "\n",
              "    .dataframe thead th {\n",
              "        text-align: right;\n",
              "    }\n",
              "</style>\n",
              "<table border=\"1\" class=\"dataframe\">\n",
              "  <thead>\n",
              "    <tr style=\"text-align: right;\">\n",
              "      <th></th>\n",
              "      <th>a</th>\n",
              "      <th>b</th>\n",
              "    </tr>\n",
              "  </thead>\n",
              "  <tbody>\n",
              "    <tr>\n",
              "      <th>0</th>\n",
              "      <td>1</td>\n",
              "      <td>x</td>\n",
              "    </tr>\n",
              "    <tr>\n",
              "      <th>1</th>\n",
              "      <td>2</td>\n",
              "      <td>y</td>\n",
              "    </tr>\n",
              "    <tr>\n",
              "      <th>2</th>\n",
              "      <td>3</td>\n",
              "      <td>z</td>\n",
              "    </tr>\n",
              "  </tbody>\n",
              "</table>\n",
              "</div>"
            ],
            "text/plain": [
              "   a  b\n",
              "0  1  x\n",
              "1  2  y\n",
              "2  3  z"
            ]
          },
          "metadata": {},
          "output_type": "display_data"
        }
      ],
      "source": [
        "df_read = pd.read_pickle(tmp / 'demo.pkl')\n",
        "print(\"Read from pickle:\")\n",
        "display(df_read)"
      ]
    },
    {
      "cell_type": "markdown",
      "id": "c15b296d-308a-4b92-a87d-6b55365fb617",
      "metadata": {
        "id": "c15b296d-308a-4b92-a87d-6b55365fb617",
        "tags": []
      },
      "source": [
        "### ROOT files\n",
        "ROOT is common in high-energy physics. pandas doesn't natively read ROOT; use `uproot` (reads ROOT into arrays which you can wrap into DataFrame).\n",
        "Download [example.root](https://www.dropbox.com/scl/fi/138im0euyaof8ie111bg4/example.root?rlkey=egflvhlk6i58n13bhsh2d54zi&dl=1)"
      ]
    },
    {
      "cell_type": "code",
      "execution_count": null,
      "id": "b9d69f16-100d-4c61-b3fa-4b66d89e8934",
      "metadata": {
        "id": "b9d69f16-100d-4c61-b3fa-4b66d89e8934",
        "outputId": "c8d778af-2831-48f7-bbe3-8696675e0573",
        "tags": []
      },
      "outputs": [
        {
          "data": {
            "text/html": [
              "<div>\n",
              "<style scoped>\n",
              "    .dataframe tbody tr th:only-of-type {\n",
              "        vertical-align: middle;\n",
              "    }\n",
              "\n",
              "    .dataframe tbody tr th {\n",
              "        vertical-align: top;\n",
              "    }\n",
              "\n",
              "    .dataframe thead th {\n",
              "        text-align: right;\n",
              "    }\n",
              "</style>\n",
              "<table border=\"1\" class=\"dataframe\">\n",
              "  <thead>\n",
              "    <tr style=\"text-align: right;\">\n",
              "      <th></th>\n",
              "      <th>event_id</th>\n",
              "      <th>pt</th>\n",
              "      <th>eta</th>\n",
              "      <th>phi</th>\n",
              "      <th>mass</th>\n",
              "      <th>charge</th>\n",
              "      <th>weight</th>\n",
              "      <th>px</th>\n",
              "      <th>py</th>\n",
              "      <th>pz</th>\n",
              "    </tr>\n",
              "  </thead>\n",
              "  <tbody>\n",
              "    <tr>\n",
              "      <th>0</th>\n",
              "      <td>0</td>\n",
              "      <td>56.094341</td>\n",
              "      <td>0.176277</td>\n",
              "      <td>-0.862287</td>\n",
              "      <td>0.142090</td>\n",
              "      <td>1</td>\n",
              "      <td>1.022903</td>\n",
              "      <td>36.500755</td>\n",
              "      <td>-42.594254</td>\n",
              "      <td>9.939434</td>\n",
              "    </tr>\n",
              "    <tr>\n",
              "      <th>1</th>\n",
              "      <td>1</td>\n",
              "      <td>29.200317</td>\n",
              "      <td>0.899123</td>\n",
              "      <td>2.779722</td>\n",
              "      <td>0.073243</td>\n",
              "      <td>-1</td>\n",
              "      <td>0.922179</td>\n",
              "      <td>-27.309191</td>\n",
              "      <td>10.337630</td>\n",
              "      <td>29.937948</td>\n",
              "    </tr>\n",
              "    <tr>\n",
              "      <th>2</th>\n",
              "      <td>2</td>\n",
              "      <td>65.009026</td>\n",
              "      <td>-1.472271</td>\n",
              "      <td>-1.538110</td>\n",
              "      <td>0.218586</td>\n",
              "      <td>0</td>\n",
              "      <td>1.006288</td>\n",
              "      <td>2.124535</td>\n",
              "      <td>-64.974297</td>\n",
              "      <td>-134.234467</td>\n",
              "    </tr>\n",
              "    <tr>\n",
              "      <th>3</th>\n",
              "      <td>3</td>\n",
              "      <td>68.811295</td>\n",
              "      <td>-0.285298</td>\n",
              "      <td>2.104623</td>\n",
              "      <td>0.207743</td>\n",
              "      <td>0</td>\n",
              "      <td>0.991444</td>\n",
              "      <td>-35.013363</td>\n",
              "      <td>59.237309</td>\n",
              "      <td>-19.899143</td>\n",
              "    </tr>\n",
              "    <tr>\n",
              "      <th>4</th>\n",
              "      <td>4</td>\n",
              "      <td>10.979297</td>\n",
              "      <td>0.829153</td>\n",
              "      <td>2.493517</td>\n",
              "      <td>0.094561</td>\n",
              "      <td>-1</td>\n",
              "      <td>0.865894</td>\n",
              "      <td>-8.753213</td>\n",
              "      <td>6.627686</td>\n",
              "      <td>10.183073</td>\n",
              "    </tr>\n",
              "  </tbody>\n",
              "</table>\n",
              "</div>"
            ],
            "text/plain": [
              "   event_id         pt       eta       phi      mass  charge    weight  \\\n",
              "0         0  56.094341  0.176277 -0.862287  0.142090       1  1.022903   \n",
              "1         1  29.200317  0.899123  2.779722  0.073243      -1  0.922179   \n",
              "2         2  65.009026 -1.472271 -1.538110  0.218586       0  1.006288   \n",
              "3         3  68.811295 -0.285298  2.104623  0.207743       0  0.991444   \n",
              "4         4  10.979297  0.829153  2.493517  0.094561      -1  0.865894   \n",
              "\n",
              "          px         py          pz  \n",
              "0  36.500755 -42.594254    9.939434  \n",
              "1 -27.309191  10.337630   29.937948  \n",
              "2   2.124535 -64.974297 -134.234467  \n",
              "3 -35.013363  59.237309  -19.899143  \n",
              "4  -8.753213   6.627686   10.183073  "
            ]
          },
          "execution_count": 21,
          "metadata": {},
          "output_type": "execute_result"
        }
      ],
      "source": [
        "# requires to run install uproot\n",
        "import uproot\n",
        "\n",
        "with uproot.open(\"example.root\") as f:\n",
        "    tree = f[\"events\"]\n",
        "    df = tree.arrays(library=\"pd\")\n",
        "\n",
        "df.head()"
      ]
    },
    {
      "cell_type": "markdown",
      "id": "6973c7bd",
      "metadata": {
        "id": "6973c7bd",
        "tags": []
      },
      "source": [
        "## Visualization\n",
        "\n",
        "For production plots, construct matplotlib figures directly."
      ]
    },
    {
      "cell_type": "code",
      "execution_count": null,
      "id": "21eeed53-2902-48e3-a2c7-5bf56a28bf39",
      "metadata": {
        "id": "21eeed53-2902-48e3-a2c7-5bf56a28bf39",
        "outputId": "2dfce2ad-5263-4421-bac6-95ce75439441",
        "tags": []
      },
      "outputs": [
        {
          "data": {
            "image/png": "[encoded data removed]",
            "text/plain": [
              "<Figure size 864x360 with 3 Axes>"
            ]
          },
          "metadata": {
            "needs_background": "light"
          },
          "output_type": "display_data"
        }
      ],
      "source": [
        "fig, axes = plt.subplots(1, 2, figsize=(12, 5))\n",
        "\n",
        "# ---- (1) Histogram of pT ----\n",
        "axes[0].hist(df[\"pt\"], bins=50, histtype='stepfilled', alpha=0.7, color='steelblue')\n",
        "axes[0].set_xlabel(\"pT [GeV]\")\n",
        "axes[0].set_ylabel(\"Entries\")\n",
        "axes[0].set_title(\"Transverse Momentum Distribution\")\n",
        "axes[0].grid(True, alpha=0.3)\n",
        "\n",
        "# ---- (2) 2D correlation plot: pT vs eta ----\n",
        "h = axes[1].hist2d(df[\"eta\"], df[\"pt\"], bins=(50, 50), cmap=\"viridis\")\n",
        "fig.colorbar(h[3], ax=axes[1], label=\"Counts\")\n",
        "axes[1].set_xlabel(\"η (eta)\")\n",
        "axes[1].set_ylabel(\"pT [GeV]\")\n",
        "axes[1].set_title(\"pT vs η Correlation\")\n",
        "\n",
        "plt.tight_layout()\n",
        "plt.show()"
      ]
    },
    {
      "cell_type": "markdown",
      "id": "0383bdcb-c5ba-479b-870c-fbe380cafbd1",
      "metadata": {
        "id": "0383bdcb-c5ba-479b-870c-fbe380cafbd1",
        "tags": []
      },
      "source": [
        "As an alternative `DataFrame.plot` as a convenience front-end to matplotlib."
      ]
    },
    {
      "cell_type": "code",
      "execution_count": null,
      "id": "4d3dc6c4",
      "metadata": {
        "id": "4d3dc6c4",
        "outputId": "7e0074f9-49ac-4418-e8e2-79f8c86bf1cd",
        "tags": []
      },
      "outputs": [
        {
          "data": {
            "image/png": "[encoded data removed]",
            "text/plain": [
              "<Figure size 432x288 with 1 Axes>"
            ]
          },
          "metadata": {
            "needs_background": "light"
          },
          "output_type": "display_data"
        }
      ],
      "source": [
        "df = pd.DataFrame({'x': np.arange(20), 'y': np.random.randn(20).cumsum(), 'g': np.random.choice(['A','B'],20)})\n",
        "ax = df.pivot_table(index='x', columns='g', values='y', aggfunc='mean').plot(title='Example pivot plot')\n",
        "plt.tight_layout()\n",
        "plt.show()"
      ]
    },
    {
      "cell_type": "markdown",
      "id": "8cfe3012",
      "metadata": {
        "id": "8cfe3012",
        "tags": []
      },
      "source": [
        "## A complete pipeline: cleaning and validating a dataset\n",
        "\n",
        "Steps: load, inspect, coerce types, feature engineering or testing."
      ]
    },
    {
      "cell_type": "markdown",
      "id": "9bf79fbe-90f1-4975-98fe-78e6553eb656",
      "metadata": {
        "id": "9bf79fbe-90f1-4975-98fe-78e6553eb656",
        "tags": []
      },
      "source": [
        "### Convert age to numeric, fill missing data"
      ]
    },
    {
      "cell_type": "code",
      "execution_count": null,
      "id": "b0f3e60a",
      "metadata": {
        "id": "b0f3e60a",
        "outputId": "5301ad67-2d4f-4606-e1b1-ca64b6cec211",
        "tags": []
      },
      "outputs": [
        {
          "data": {
            "text/html": [
              "<div>\n",
              "<style scoped>\n",
              "    .dataframe tbody tr th:only-of-type {\n",
              "        vertical-align: middle;\n",
              "    }\n",
              "\n",
              "    .dataframe tbody tr th {\n",
              "        vertical-align: top;\n",
              "    }\n",
              "\n",
              "    .dataframe thead th {\n",
              "        text-align: right;\n",
              "    }\n",
              "</style>\n",
              "<table border=\"1\" class=\"dataframe\">\n",
              "  <thead>\n",
              "    <tr style=\"text-align: right;\">\n",
              "      <th></th>\n",
              "      <th>age</th>\n",
              "      <th>income</th>\n",
              "    </tr>\n",
              "  </thead>\n",
              "  <tbody>\n",
              "    <tr>\n",
              "      <th>0</th>\n",
              "      <td>25.0</td>\n",
              "      <td>1000.0</td>\n",
              "    </tr>\n",
              "    <tr>\n",
              "      <th>1</th>\n",
              "      <td>30.0</td>\n",
              "      <td>2000.0</td>\n",
              "    </tr>\n",
              "    <tr>\n",
              "      <th>2</th>\n",
              "      <td>NaN</td>\n",
              "      <td>NaN</td>\n",
              "    </tr>\n",
              "    <tr>\n",
              "      <th>3</th>\n",
              "      <td>40.0</td>\n",
              "      <td>3000.0</td>\n",
              "    </tr>\n",
              "  </tbody>\n",
              "</table>\n",
              "</div>"
            ],
            "text/plain": [
              "    age  income\n",
              "0  25.0  1000.0\n",
              "1  30.0  2000.0\n",
              "2   NaN     NaN\n",
              "3  40.0  3000.0"
            ]
          },
          "metadata": {},
          "output_type": "display_data"
        },
        {
          "name": "stdout",
          "output_type": "stream",
          "text": [
            "after fill/validate:\n"
          ]
        },
        {
          "data": {
            "text/html": [
              "<div>\n",
              "<style scoped>\n",
              "    .dataframe tbody tr th:only-of-type {\n",
              "        vertical-align: middle;\n",
              "    }\n",
              "\n",
              "    .dataframe tbody tr th {\n",
              "        vertical-align: top;\n",
              "    }\n",
              "\n",
              "    .dataframe thead th {\n",
              "        text-align: right;\n",
              "    }\n",
              "</style>\n",
              "<table border=\"1\" class=\"dataframe\">\n",
              "  <thead>\n",
              "    <tr style=\"text-align: right;\">\n",
              "      <th></th>\n",
              "      <th>age</th>\n",
              "      <th>income</th>\n",
              "    </tr>\n",
              "  </thead>\n",
              "  <tbody>\n",
              "    <tr>\n",
              "      <th>0</th>\n",
              "      <td>25.0</td>\n",
              "      <td>1000.0</td>\n",
              "    </tr>\n",
              "    <tr>\n",
              "      <th>1</th>\n",
              "      <td>30.0</td>\n",
              "      <td>2000.0</td>\n",
              "    </tr>\n",
              "    <tr>\n",
              "      <th>2</th>\n",
              "      <td>30.0</td>\n",
              "      <td>0.0</td>\n",
              "    </tr>\n",
              "    <tr>\n",
              "      <th>3</th>\n",
              "      <td>40.0</td>\n",
              "      <td>3000.0</td>\n",
              "    </tr>\n",
              "  </tbody>\n",
              "</table>\n",
              "</div>"
            ],
            "text/plain": [
              "    age  income\n",
              "0  25.0  1000.0\n",
              "1  30.0  2000.0\n",
              "2  30.0     0.0\n",
              "3  40.0  3000.0"
            ]
          },
          "execution_count": 24,
          "metadata": {},
          "output_type": "execute_result"
        }
      ],
      "source": [
        "df = pd.DataFrame({'age':['25','30', 'unknown', '40'], 'income':['1000','2000','-','3000']})\n",
        "# coerce\n",
        "df['age'] = pd.to_numeric(df['age'], errors='coerce')\n",
        "df['income'] = pd.to_numeric(df['income'].replace('-', np.nan), errors='coerce')\n",
        "display(df)\n",
        "print('after fill/validate:')\n",
        "df['age'] = df['age'].fillna(df['age'].median())\n",
        "df['income'] = df['income'].fillna(0)\n",
        "df"
      ]
    },
    {
      "cell_type": "markdown",
      "id": "b64dd731",
      "metadata": {
        "id": "b64dd731",
        "tags": []
      },
      "source": [
        "### Rescaling features"
      ]
    },
    {
      "cell_type": "code",
      "execution_count": null,
      "id": "aa66ea10",
      "metadata": {
        "id": "aa66ea10",
        "outputId": "cb84fee6-ab85-48ce-8bbc-d6b84c9fbd24",
        "tags": []
      },
      "outputs": [
        {
          "data": {
            "text/html": [
              "<div>\n",
              "<style scoped>\n",
              "    .dataframe tbody tr th:only-of-type {\n",
              "        vertical-align: middle;\n",
              "    }\n",
              "\n",
              "    .dataframe tbody tr th {\n",
              "        vertical-align: top;\n",
              "    }\n",
              "\n",
              "    .dataframe thead th {\n",
              "        text-align: right;\n",
              "    }\n",
              "</style>\n",
              "<table border=\"1\" class=\"dataframe\">\n",
              "  <thead>\n",
              "    <tr style=\"text-align: right;\">\n",
              "      <th></th>\n",
              "      <th>age</th>\n",
              "      <th>income</th>\n",
              "      <th>age_scaled</th>\n",
              "    </tr>\n",
              "  </thead>\n",
              "  <tbody>\n",
              "    <tr>\n",
              "      <th>0</th>\n",
              "      <td>25.0</td>\n",
              "      <td>1000.0</td>\n",
              "      <td>-1.147079</td>\n",
              "    </tr>\n",
              "    <tr>\n",
              "      <th>1</th>\n",
              "      <td>30.0</td>\n",
              "      <td>2000.0</td>\n",
              "      <td>-0.229416</td>\n",
              "    </tr>\n",
              "    <tr>\n",
              "      <th>2</th>\n",
              "      <td>30.0</td>\n",
              "      <td>0.0</td>\n",
              "      <td>-0.229416</td>\n",
              "    </tr>\n",
              "    <tr>\n",
              "      <th>3</th>\n",
              "      <td>40.0</td>\n",
              "      <td>3000.0</td>\n",
              "      <td>1.605910</td>\n",
              "    </tr>\n",
              "  </tbody>\n",
              "</table>\n",
              "</div>"
            ],
            "text/plain": [
              "    age  income  age_scaled\n",
              "0  25.0  1000.0   -1.147079\n",
              "1  30.0  2000.0   -0.229416\n",
              "2  30.0     0.0   -0.229416\n",
              "3  40.0  3000.0    1.605910"
            ]
          },
          "metadata": {},
          "output_type": "display_data"
        }
      ],
      "source": [
        "from sklearn.preprocessing import StandardScaler\n",
        "\n",
        "def scale_df(df, col,coln):\n",
        "    df = df.copy()\n",
        "    df[coln] = StandardScaler().fit_transform(df[[col]])\n",
        "    return df\n",
        "\n",
        "df = scale_df(df,\"age\",\"age_scaled\")\n",
        "display(df)"
      ]
    },
    {
      "cell_type": "markdown",
      "id": "6e31eb05",
      "metadata": {
        "id": "6e31eb05",
        "tags": []
      },
      "source": [
        "### More feature engineering"
      ]
    },
    {
      "cell_type": "code",
      "execution_count": null,
      "id": "35592e99",
      "metadata": {
        "id": "35592e99",
        "outputId": "fbaea9be-1a46-4052-8244-844d3842a0d1",
        "tags": []
      },
      "outputs": [
        {
          "name": "stdout",
          "output_type": "stream",
          "text": [
            "\n",
            "DataFrame with derived features:\n"
          ]
        },
        {
          "data": {
            "text/html": [
              "<div>\n",
              "<style scoped>\n",
              "    .dataframe tbody tr th:only-of-type {\n",
              "        vertical-align: middle;\n",
              "    }\n",
              "\n",
              "    .dataframe tbody tr th {\n",
              "        vertical-align: top;\n",
              "    }\n",
              "\n",
              "    .dataframe thead th {\n",
              "        text-align: right;\n",
              "    }\n",
              "</style>\n",
              "<table border=\"1\" class=\"dataframe\">\n",
              "  <thead>\n",
              "    <tr style=\"text-align: right;\">\n",
              "      <th></th>\n",
              "      <th>age</th>\n",
              "      <th>income</th>\n",
              "      <th>age_scaled</th>\n",
              "      <th>income_per_age</th>\n",
              "      <th>high_income</th>\n",
              "      <th>age_group</th>\n",
              "    </tr>\n",
              "  </thead>\n",
              "  <tbody>\n",
              "    <tr>\n",
              "      <th>0</th>\n",
              "      <td>25.0</td>\n",
              "      <td>1000.0</td>\n",
              "      <td>-1.147079</td>\n",
              "      <td>40.000000</td>\n",
              "      <td>0</td>\n",
              "      <td>young</td>\n",
              "    </tr>\n",
              "    <tr>\n",
              "      <th>1</th>\n",
              "      <td>30.0</td>\n",
              "      <td>2000.0</td>\n",
              "      <td>-0.229416</td>\n",
              "      <td>66.666667</td>\n",
              "      <td>0</td>\n",
              "      <td>young</td>\n",
              "    </tr>\n",
              "    <tr>\n",
              "      <th>2</th>\n",
              "      <td>30.0</td>\n",
              "      <td>0.0</td>\n",
              "      <td>-0.229416</td>\n",
              "      <td>0.000000</td>\n",
              "      <td>0</td>\n",
              "      <td>young</td>\n",
              "    </tr>\n",
              "    <tr>\n",
              "      <th>3</th>\n",
              "      <td>40.0</td>\n",
              "      <td>3000.0</td>\n",
              "      <td>1.605910</td>\n",
              "      <td>75.000000</td>\n",
              "      <td>1</td>\n",
              "      <td>adult</td>\n",
              "    </tr>\n",
              "  </tbody>\n",
              "</table>\n",
              "</div>"
            ],
            "text/plain": [
              "    age  income  age_scaled  income_per_age  high_income age_group\n",
              "0  25.0  1000.0   -1.147079       40.000000            0     young\n",
              "1  30.0  2000.0   -0.229416       66.666667            0     young\n",
              "2  30.0     0.0   -0.229416        0.000000            0     young\n",
              "3  40.0  3000.0    1.605910       75.000000            1     adult"
            ]
          },
          "metadata": {},
          "output_type": "display_data"
        }
      ],
      "source": [
        "df['income_per_age'] = df['income'] / df['age']\n",
        "df['high_income'] = (df['income'] > 2000).astype(int)\n",
        "df['age_group'] = pd.cut(df['age'], bins=[0, 30, 50], labels=['young', 'adult'])\n",
        "\n",
        "print(\"\\nDataFrame with derived features:\")\n",
        "display(df)"
      ]
    },
    {
      "cell_type": "markdown",
      "id": "42b26192-da5e-4432-bf2d-23639ae796a5",
      "metadata": {
        "id": "42b26192-da5e-4432-bf2d-23639ae796a5",
        "tags": []
      },
      "source": [
        "### Testing DataFrame pipelines\n",
        "\n",
        "pandas provides `pandas.testing.assert_frame_equal` for deterministic tests of transforms."
      ]
    },
    {
      "cell_type": "code",
      "execution_count": null,
      "id": "a4e12ba5",
      "metadata": {
        "id": "a4e12ba5",
        "outputId": "dbb8558e-61fa-4594-9b20-01431bb891ee",
        "tags": []
      },
      "outputs": [
        {
          "name": "stdout",
          "output_type": "stream",
          "text": [
            "dfs are equal\n"
          ]
        }
      ],
      "source": [
        "import pandas.testing as pdt\n",
        "dfc = df.copy()\n",
        "try:\n",
        "    pdt.assert_frame_equal(df,dfc)\n",
        "    print(\"dfs are equal\")\n",
        "except: \"dfs are different\""
      ]
    },
    {
      "cell_type": "markdown",
      "id": "78011816-d55a-414b-a0c2-507232095260",
      "metadata": {
        "id": "78011816-d55a-414b-a0c2-507232095260",
        "tags": []
      },
      "source": [
        "### Visualization"
      ]
    },
    {
      "cell_type": "code",
      "execution_count": null,
      "id": "95ff0bc9-e5f8-48cd-8fbc-bfe5d86cdb45",
      "metadata": {
        "id": "95ff0bc9-e5f8-48cd-8fbc-bfe5d86cdb45",
        "outputId": "8783d4b5-aca9-4c3d-8733-46f4b5965817",
        "tags": []
      },
      "outputs": [
        {
          "data": {
            "image/png": "[encoded data removed]",
            "text/plain": [
              "<Figure size 432x288 with 1 Axes>"
            ]
          },
          "metadata": {
            "needs_background": "light"
          },
          "output_type": "display_data"
        }
      ],
      "source": [
        "plt.figure(figsize=(6,4))\n",
        "plt.scatter(df['age'], df['income'], c=df['high_income'], cmap='coolwarm', s=80)\n",
        "plt.xlabel('Age')\n",
        "plt.ylabel('Income')\n",
        "plt.title('Income vs Age (colored by High Income)')\n",
        "plt.grid(True, alpha=0.3)\n",
        "plt.show()"
      ]
    },
    {
      "cell_type": "markdown",
      "id": "3d34786f-e433-48f4-ba18-31248a8efd6d",
      "metadata": {
        "id": "3d34786f-e433-48f4-ba18-31248a8efd6d",
        "tags": []
      },
      "source": [
        "## Performance tips and scaling\n",
        "\n",
        "- Use vectorized operations\n",
        "- Reduce memory with categorical dtypes\n",
        "- Use `eval`/`query` for large expressions\n",
        "- Consider Dask, Polars or PySpark for > RAM datasets\n",
        "- Use chunked reading (`chunksize`) for large CSVs\n"
      ]
    },
    {
      "cell_type": "markdown",
      "id": "af3800f1",
      "metadata": {
        "id": "af3800f1",
        "tags": []
      },
      "source": [
        "### Exercises\n",
        "\n",
        "1. Train with a messy socio-economic dataset stored in a CSV file ([people_data_large.csv](https://www.dropbox.com/scl/fi/n0s4h0ph8pzhvqomloril/people_data_large.csv?rlkey=amd4dq9bp5vcrlg3ieyyzxxvc&dl=1)\n",
        "):\n",
        "   - Load the dataset with `pandas.read_csv()` and inspect its shape, columns, and first few rows.  \n",
        "   - Clean the data by replacing invalid entries (`\"-\"`, `\"unknown\"`, negative values) with `NaN`, converting types, and imputing or dropping missing values.  \n",
        "   - Encode categorical variables (`city`, `has_car`, etc.) using label encoding and one-hot encoding (`pd.factorize`, `pd.get_dummies`).  \n",
        "   - Create derived features such as `income_per_age`, `is_senior` (age > 60), and `log_income`, and optionally scale or normalize numerical variables.  \n",
        "   - Compute correlations and visualize relationships with histograms, scatter/hexbin plots (`age` vs. `income`), and correlation heatmaps.\n",
        "\n",
        "\n"
      ]
    },
    {
      "cell_type": "code",
      "execution_count": 78,
      "id": "LEd-r-m0FsJc",
      "metadata": {
        "colab": {
          "base_uri": "https://localhost:8080/",
          "height": 1000
        },
        "id": "LEd-r-m0FsJc",
        "outputId": "fa64c128-5506-49c2-e6b2-cd0b79d6420b"
      },
      "outputs": [
        {
          "name": "stdout",
          "output_type": "stream",
          "text": [
            "Original dataset\n",
            "\n",
            "Dataset size:  (5000, 5)\n",
            "Columns:  Index(['name', 'age', 'income', 'city', 'has_car'], dtype='object')\n",
            "First rows:\n"
          ]
        },
        {
          "data": {
            "text/html": [
              "<div>\n",
              "<style scoped>\n",
              "    .dataframe tbody tr th:only-of-type {\n",
              "        vertical-align: middle;\n",
              "    }\n",
              "\n",
              "    .dataframe tbody tr th {\n",
              "        vertical-align: top;\n",
              "    }\n",
              "\n",
              "    .dataframe thead th {\n",
              "        text-align: right;\n",
              "    }\n",
              "</style>\n",
              "<table border=\"1\" class=\"dataframe\">\n",
              "  <thead>\n",
              "    <tr style=\"text-align: right;\">\n",
              "      <th></th>\n",
              "      <th>name</th>\n",
              "      <th>age</th>\n",
              "      <th>income</th>\n",
              "      <th>city</th>\n",
              "      <th>has_car</th>\n",
              "    </tr>\n",
              "  </thead>\n",
              "  <tbody>\n",
              "    <tr>\n",
              "      <th>0</th>\n",
              "      <td>Alice</td>\n",
              "      <td>29</td>\n",
              "      <td>1621.0</td>\n",
              "      <td>Barcelona</td>\n",
              "      <td>unknown</td>\n",
              "    </tr>\n",
              "    <tr>\n",
              "      <th>1</th>\n",
              "      <td>Hank</td>\n",
              "      <td>21</td>\n",
              "      <td>2067.0</td>\n",
              "      <td>Bilbao</td>\n",
              "      <td>unknown</td>\n",
              "    </tr>\n",
              "    <tr>\n",
              "      <th>2</th>\n",
              "      <td>Grace</td>\n",
              "      <td>51</td>\n",
              "      <td>2718.0</td>\n",
              "      <td>Madrid</td>\n",
              "      <td>yes</td>\n",
              "    </tr>\n",
              "    <tr>\n",
              "      <th>3</th>\n",
              "      <td>Eve</td>\n",
              "      <td>54</td>\n",
              "      <td>1997.0</td>\n",
              "      <td>Valencia</td>\n",
              "      <td>no</td>\n",
              "    </tr>\n",
              "    <tr>\n",
              "      <th>4</th>\n",
              "      <td>Eve</td>\n",
              "      <td>58</td>\n",
              "      <td>2277.0</td>\n",
              "      <td>Zaragoza</td>\n",
              "      <td>yes</td>\n",
              "    </tr>\n",
              "  </tbody>\n",
              "</table>\n",
              "</div>"
            ],
            "text/plain": [
              "    name age  income       city  has_car\n",
              "0  Alice  29  1621.0  Barcelona  unknown\n",
              "1   Hank  21  2067.0     Bilbao  unknown\n",
              "2  Grace  51  2718.0     Madrid      yes\n",
              "3    Eve  54  1997.0   Valencia       no\n",
              "4    Eve  58  2277.0   Zaragoza      yes"
            ]
          },
          "metadata": {},
          "output_type": "display_data"
        },
        {
          "name": "stdout",
          "output_type": "stream",
          "text": [
            "Cleaned dataset\n",
            "\n",
            "Dataset size:  (4965, 5)\n",
            "Columns:  Index(['name', 'age', 'income', 'city', 'has_car'], dtype='object')\n",
            "First rows:\n"
          ]
        },
        {
          "data": {
            "text/html": [
              "<div>\n",
              "<style scoped>\n",
              "    .dataframe tbody tr th:only-of-type {\n",
              "        vertical-align: middle;\n",
              "    }\n",
              "\n",
              "    .dataframe tbody tr th {\n",
              "        vertical-align: top;\n",
              "    }\n",
              "\n",
              "    .dataframe thead th {\n",
              "        text-align: right;\n",
              "    }\n",
              "</style>\n",
              "<table border=\"1\" class=\"dataframe\">\n",
              "  <thead>\n",
              "    <tr style=\"text-align: right;\">\n",
              "      <th></th>\n",
              "      <th>name</th>\n",
              "      <th>age</th>\n",
              "      <th>income</th>\n",
              "      <th>city</th>\n",
              "      <th>has_car</th>\n",
              "    </tr>\n",
              "  </thead>\n",
              "  <tbody>\n",
              "    <tr>\n",
              "      <th>0</th>\n",
              "      <td>Alice</td>\n",
              "      <td>29.0</td>\n",
              "      <td>1621.0</td>\n",
              "      <td>Barcelona</td>\n",
              "      <td>NaN</td>\n",
              "    </tr>\n",
              "    <tr>\n",
              "      <th>1</th>\n",
              "      <td>Hank</td>\n",
              "      <td>21.0</td>\n",
              "      <td>2067.0</td>\n",
              "      <td>Bilbao</td>\n",
              "      <td>NaN</td>\n",
              "    </tr>\n",
              "    <tr>\n",
              "      <th>2</th>\n",
              "      <td>Grace</td>\n",
              "      <td>51.0</td>\n",
              "      <td>2718.0</td>\n",
              "      <td>Madrid</td>\n",
              "      <td>yes</td>\n",
              "    </tr>\n",
              "    <tr>\n",
              "      <th>3</th>\n",
              "      <td>Eve</td>\n",
              "      <td>54.0</td>\n",
              "      <td>1997.0</td>\n",
              "      <td>Valencia</td>\n",
              "      <td>no</td>\n",
              "    </tr>\n",
              "    <tr>\n",
              "      <th>4</th>\n",
              "      <td>Eve</td>\n",
              "      <td>58.0</td>\n",
              "      <td>2277.0</td>\n",
              "      <td>Zaragoza</td>\n",
              "      <td>yes</td>\n",
              "    </tr>\n",
              "  </tbody>\n",
              "</table>\n",
              "</div>"
            ],
            "text/plain": [
              "    name   age  income       city has_car\n",
              "0  Alice  29.0  1621.0  Barcelona     NaN\n",
              "1   Hank  21.0  2067.0     Bilbao     NaN\n",
              "2  Grace  51.0  2718.0     Madrid     yes\n",
              "3    Eve  54.0  1997.0   Valencia      no\n",
              "4    Eve  58.0  2277.0   Zaragoza     yes"
            ]
          },
          "metadata": {},
          "output_type": "display_data"
        },
        {
          "name": "stdout",
          "output_type": "stream",
          "text": [
            "Encoded dataset\n",
            "\n"
          ]
        },
        {
          "data": {
            "text/html": [
              "<div>\n",
              "<style scoped>\n",
              "    .dataframe tbody tr th:only-of-type {\n",
              "        vertical-align: middle;\n",
              "    }\n",
              "\n",
              "    .dataframe tbody tr th {\n",
              "        vertical-align: top;\n",
              "    }\n",
              "\n",
              "    .dataframe thead th {\n",
              "        text-align: right;\n",
              "    }\n",
              "</style>\n",
              "<table border=\"1\" class=\"dataframe\">\n",
              "  <thead>\n",
              "    <tr style=\"text-align: right;\">\n",
              "      <th></th>\n",
              "      <th>name</th>\n",
              "      <th>age</th>\n",
              "      <th>income</th>\n",
              "      <th>city</th>\n",
              "      <th>has_car</th>\n",
              "      <th>city_encoded</th>\n",
              "      <th>has_car_encoded</th>\n",
              "    </tr>\n",
              "  </thead>\n",
              "  <tbody>\n",
              "    <tr>\n",
              "      <th>0</th>\n",
              "      <td>Alice</td>\n",
              "      <td>29.0</td>\n",
              "      <td>1621.0</td>\n",
              "      <td>Barcelona</td>\n",
              "      <td>NaN</td>\n",
              "      <td>0</td>\n",
              "      <td>-1</td>\n",
              "    </tr>\n",
              "    <tr>\n",
              "      <th>1</th>\n",
              "      <td>Hank</td>\n",
              "      <td>21.0</td>\n",
              "      <td>2067.0</td>\n",
              "      <td>Bilbao</td>\n",
              "      <td>NaN</td>\n",
              "      <td>1</td>\n",
              "      <td>-1</td>\n",
              "    </tr>\n",
              "    <tr>\n",
              "      <th>2</th>\n",
              "      <td>Grace</td>\n",
              "      <td>51.0</td>\n",
              "      <td>2718.0</td>\n",
              "      <td>Madrid</td>\n",
              "      <td>yes</td>\n",
              "      <td>2</td>\n",
              "      <td>0</td>\n",
              "    </tr>\n",
              "    <tr>\n",
              "      <th>3</th>\n",
              "      <td>Eve</td>\n",
              "      <td>54.0</td>\n",
              "      <td>1997.0</td>\n",
              "      <td>Valencia</td>\n",
              "      <td>no</td>\n",
              "      <td>3</td>\n",
              "      <td>1</td>\n",
              "    </tr>\n",
              "    <tr>\n",
              "      <th>4</th>\n",
              "      <td>Eve</td>\n",
              "      <td>58.0</td>\n",
              "      <td>2277.0</td>\n",
              "      <td>Zaragoza</td>\n",
              "      <td>yes</td>\n",
              "      <td>4</td>\n",
              "      <td>0</td>\n",
              "    </tr>\n",
              "  </tbody>\n",
              "</table>\n",
              "</div>"
            ],
            "text/plain": [
              "    name   age  income       city has_car  city_encoded  has_car_encoded\n",
              "0  Alice  29.0  1621.0  Barcelona     NaN             0               -1\n",
              "1   Hank  21.0  2067.0     Bilbao     NaN             1               -1\n",
              "2  Grace  51.0  2718.0     Madrid     yes             2                0\n",
              "3    Eve  54.0  1997.0   Valencia      no             3                1\n",
              "4    Eve  58.0  2277.0   Zaragoza     yes             4                0"
            ]
          },
          "metadata": {},
          "output_type": "display_data"
        },
        {
          "name": "stdout",
          "output_type": "stream",
          "text": [
            "Dummies dataset\n",
            "\n"
          ]
        },
        {
          "data": {
            "text/html": [
              "<div>\n",
              "<style scoped>\n",
              "    .dataframe tbody tr th:only-of-type {\n",
              "        vertical-align: middle;\n",
              "    }\n",
              "\n",
              "    .dataframe tbody tr th {\n",
              "        vertical-align: top;\n",
              "    }\n",
              "\n",
              "    .dataframe thead th {\n",
              "        text-align: right;\n",
              "    }\n",
              "</style>\n",
              "<table border=\"1\" class=\"dataframe\">\n",
              "  <thead>\n",
              "    <tr style=\"text-align: right;\">\n",
              "      <th></th>\n",
              "      <th>name</th>\n",
              "      <th>age</th>\n",
              "      <th>income</th>\n",
              "      <th>city</th>\n",
              "      <th>has_car</th>\n",
              "      <th>city_encoded</th>\n",
              "      <th>has_car_encoded</th>\n",
              "      <th>city_Barcelona</th>\n",
              "      <th>city_Bilbao</th>\n",
              "      <th>city_Madrid</th>\n",
              "      <th>city_Seville</th>\n",
              "      <th>city_Valencia</th>\n",
              "      <th>city_Zaragoza</th>\n",
              "      <th>has_car_no</th>\n",
              "      <th>has_car_yes</th>\n",
              "    </tr>\n",
              "  </thead>\n",
              "  <tbody>\n",
              "    <tr>\n",
              "      <th>0</th>\n",
              "      <td>Alice</td>\n",
              "      <td>29.0</td>\n",
              "      <td>1621.0</td>\n",
              "      <td>Barcelona</td>\n",
              "      <td>NaN</td>\n",
              "      <td>0</td>\n",
              "      <td>-1</td>\n",
              "      <td>True</td>\n",
              "      <td>False</td>\n",
              "      <td>False</td>\n",
              "      <td>False</td>\n",
              "      <td>False</td>\n",
              "      <td>False</td>\n",
              "      <td>False</td>\n",
              "      <td>False</td>\n",
              "    </tr>\n",
              "    <tr>\n",
              "      <th>1</th>\n",
              "      <td>Hank</td>\n",
              "      <td>21.0</td>\n",
              "      <td>2067.0</td>\n",
              "      <td>Bilbao</td>\n",
              "      <td>NaN</td>\n",
              "      <td>1</td>\n",
              "      <td>-1</td>\n",
              "      <td>False</td>\n",
              "      <td>True</td>\n",
              "      <td>False</td>\n",
              "      <td>False</td>\n",
              "      <td>False</td>\n",
              "      <td>False</td>\n",
              "      <td>False</td>\n",
              "      <td>False</td>\n",
              "    </tr>\n",
              "    <tr>\n",
              "      <th>2</th>\n",
              "      <td>Grace</td>\n",
              "      <td>51.0</td>\n",
              "      <td>2718.0</td>\n",
              "      <td>Madrid</td>\n",
              "      <td>yes</td>\n",
              "      <td>2</td>\n",
              "      <td>0</td>\n",
              "      <td>False</td>\n",
              "      <td>False</td>\n",
              "      <td>True</td>\n",
              "      <td>False</td>\n",
              "      <td>False</td>\n",
              "      <td>False</td>\n",
              "      <td>False</td>\n",
              "      <td>True</td>\n",
              "    </tr>\n",
              "    <tr>\n",
              "      <th>3</th>\n",
              "      <td>Eve</td>\n",
              "      <td>54.0</td>\n",
              "      <td>1997.0</td>\n",
              "      <td>Valencia</td>\n",
              "      <td>no</td>\n",
              "      <td>3</td>\n",
              "      <td>1</td>\n",
              "      <td>False</td>\n",
              "      <td>False</td>\n",
              "      <td>False</td>\n",
              "      <td>False</td>\n",
              "      <td>True</td>\n",
              "      <td>False</td>\n",
              "      <td>True</td>\n",
              "      <td>False</td>\n",
              "    </tr>\n",
              "    <tr>\n",
              "      <th>4</th>\n",
              "      <td>Eve</td>\n",
              "      <td>58.0</td>\n",
              "      <td>2277.0</td>\n",
              "      <td>Zaragoza</td>\n",
              "      <td>yes</td>\n",
              "      <td>4</td>\n",
              "      <td>0</td>\n",
              "      <td>False</td>\n",
              "      <td>False</td>\n",
              "      <td>False</td>\n",
              "      <td>False</td>\n",
              "      <td>False</td>\n",
              "      <td>True</td>\n",
              "      <td>False</td>\n",
              "      <td>True</td>\n",
              "    </tr>\n",
              "  </tbody>\n",
              "</table>\n",
              "</div>"
            ],
            "text/plain": [
              "    name   age  income       city has_car  city_encoded  has_car_encoded  \\\n",
              "0  Alice  29.0  1621.0  Barcelona     NaN             0               -1   \n",
              "1   Hank  21.0  2067.0     Bilbao     NaN             1               -1   \n",
              "2  Grace  51.0  2718.0     Madrid     yes             2                0   \n",
              "3    Eve  54.0  1997.0   Valencia      no             3                1   \n",
              "4    Eve  58.0  2277.0   Zaragoza     yes             4                0   \n",
              "\n",
              "   city_Barcelona  city_Bilbao  city_Madrid  city_Seville  city_Valencia  \\\n",
              "0            True        False        False         False          False   \n",
              "1           False         True        False         False          False   \n",
              "2           False        False         True         False          False   \n",
              "3           False        False        False         False           True   \n",
              "4           False        False        False         False          False   \n",
              "\n",
              "   city_Zaragoza  has_car_no  has_car_yes  \n",
              "0          False       False        False  \n",
              "1          False       False        False  \n",
              "2          False       False         True  \n",
              "3          False        True        False  \n",
              "4           True       False         True  "
            ]
          },
          "metadata": {},
          "output_type": "display_data"
        },
        {
          "name": "stdout",
          "output_type": "stream",
          "text": [
            "\n",
            "DataFrame with derived features:\n"
          ]
        },
        {
          "data": {
            "text/html": [
              "<div>\n",
              "<style scoped>\n",
              "    .dataframe tbody tr th:only-of-type {\n",
              "        vertical-align: middle;\n",
              "    }\n",
              "\n",
              "    .dataframe tbody tr th {\n",
              "        vertical-align: top;\n",
              "    }\n",
              "\n",
              "    .dataframe thead th {\n",
              "        text-align: right;\n",
              "    }\n",
              "</style>\n",
              "<table border=\"1\" class=\"dataframe\">\n",
              "  <thead>\n",
              "    <tr style=\"text-align: right;\">\n",
              "      <th></th>\n",
              "      <th>name</th>\n",
              "      <th>age</th>\n",
              "      <th>income</th>\n",
              "      <th>city</th>\n",
              "      <th>has_car</th>\n",
              "      <th>city_encoded</th>\n",
              "      <th>has_car_encoded</th>\n",
              "      <th>income_per_age</th>\n",
              "      <th>is_senior</th>\n",
              "      <th>log_income</th>\n",
              "    </tr>\n",
              "  </thead>\n",
              "  <tbody>\n",
              "    <tr>\n",
              "      <th>0</th>\n",
              "      <td>Alice</td>\n",
              "      <td>29.0</td>\n",
              "      <td>1621.0</td>\n",
              "      <td>Barcelona</td>\n",
              "      <td>NaN</td>\n",
              "      <td>0</td>\n",
              "      <td>-1</td>\n",
              "      <td>55.896552</td>\n",
              "      <td>False</td>\n",
              "      <td>7.391415</td>\n",
              "    </tr>\n",
              "    <tr>\n",
              "      <th>1</th>\n",
              "      <td>Hank</td>\n",
              "      <td>21.0</td>\n",
              "      <td>2067.0</td>\n",
              "      <td>Bilbao</td>\n",
              "      <td>NaN</td>\n",
              "      <td>1</td>\n",
              "      <td>-1</td>\n",
              "      <td>98.428571</td>\n",
              "      <td>False</td>\n",
              "      <td>7.634337</td>\n",
              "    </tr>\n",
              "    <tr>\n",
              "      <th>2</th>\n",
              "      <td>Grace</td>\n",
              "      <td>51.0</td>\n",
              "      <td>2718.0</td>\n",
              "      <td>Madrid</td>\n",
              "      <td>yes</td>\n",
              "      <td>2</td>\n",
              "      <td>0</td>\n",
              "      <td>53.294118</td>\n",
              "      <td>False</td>\n",
              "      <td>7.908019</td>\n",
              "    </tr>\n",
              "    <tr>\n",
              "      <th>3</th>\n",
              "      <td>Eve</td>\n",
              "      <td>54.0</td>\n",
              "      <td>1997.0</td>\n",
              "      <td>Valencia</td>\n",
              "      <td>no</td>\n",
              "      <td>3</td>\n",
              "      <td>1</td>\n",
              "      <td>36.981481</td>\n",
              "      <td>False</td>\n",
              "      <td>7.599902</td>\n",
              "    </tr>\n",
              "    <tr>\n",
              "      <th>4</th>\n",
              "      <td>Eve</td>\n",
              "      <td>58.0</td>\n",
              "      <td>2277.0</td>\n",
              "      <td>Zaragoza</td>\n",
              "      <td>yes</td>\n",
              "      <td>4</td>\n",
              "      <td>0</td>\n",
              "      <td>39.258621</td>\n",
              "      <td>False</td>\n",
              "      <td>7.731053</td>\n",
              "    </tr>\n",
              "    <tr>\n",
              "      <th>...</th>\n",
              "      <td>...</td>\n",
              "      <td>...</td>\n",
              "      <td>...</td>\n",
              "      <td>...</td>\n",
              "      <td>...</td>\n",
              "      <td>...</td>\n",
              "      <td>...</td>\n",
              "      <td>...</td>\n",
              "      <td>...</td>\n",
              "      <td>...</td>\n",
              "    </tr>\n",
              "    <tr>\n",
              "      <th>4995</th>\n",
              "      <td>Charlie</td>\n",
              "      <td>43.0</td>\n",
              "      <td>3160.0</td>\n",
              "      <td>Barcelona</td>\n",
              "      <td>no</td>\n",
              "      <td>0</td>\n",
              "      <td>1</td>\n",
              "      <td>73.488372</td>\n",
              "      <td>False</td>\n",
              "      <td>8.058644</td>\n",
              "    </tr>\n",
              "    <tr>\n",
              "      <th>4996</th>\n",
              "      <td>Hank</td>\n",
              "      <td>69.0</td>\n",
              "      <td>1066.0</td>\n",
              "      <td>Valencia</td>\n",
              "      <td>no</td>\n",
              "      <td>3</td>\n",
              "      <td>1</td>\n",
              "      <td>15.449275</td>\n",
              "      <td>True</td>\n",
              "      <td>6.972606</td>\n",
              "    </tr>\n",
              "    <tr>\n",
              "      <th>4997</th>\n",
              "      <td>Ivy</td>\n",
              "      <td>37.0</td>\n",
              "      <td>1666.0</td>\n",
              "      <td>Bilbao</td>\n",
              "      <td>yes</td>\n",
              "      <td>1</td>\n",
              "      <td>0</td>\n",
              "      <td>45.027027</td>\n",
              "      <td>False</td>\n",
              "      <td>7.418781</td>\n",
              "    </tr>\n",
              "    <tr>\n",
              "      <th>4998</th>\n",
              "      <td>Grace</td>\n",
              "      <td>48.0</td>\n",
              "      <td>849.0</td>\n",
              "      <td>Barcelona</td>\n",
              "      <td>NaN</td>\n",
              "      <td>0</td>\n",
              "      <td>-1</td>\n",
              "      <td>17.687500</td>\n",
              "      <td>False</td>\n",
              "      <td>6.745236</td>\n",
              "    </tr>\n",
              "    <tr>\n",
              "      <th>4999</th>\n",
              "      <td>Eve</td>\n",
              "      <td>50.0</td>\n",
              "      <td>1782.0</td>\n",
              "      <td>Valencia</td>\n",
              "      <td>yes</td>\n",
              "      <td>3</td>\n",
              "      <td>0</td>\n",
              "      <td>35.640000</td>\n",
              "      <td>False</td>\n",
              "      <td>7.486053</td>\n",
              "    </tr>\n",
              "  </tbody>\n",
              "</table>\n",
              "<p>4965 rows × 10 columns</p>\n",
              "</div>"
            ],
            "text/plain": [
              "         name   age  income       city has_car  city_encoded  has_car_encoded  \\\n",
              "0       Alice  29.0  1621.0  Barcelona     NaN             0               -1   \n",
              "1        Hank  21.0  2067.0     Bilbao     NaN             1               -1   \n",
              "2       Grace  51.0  2718.0     Madrid     yes             2                0   \n",
              "3         Eve  54.0  1997.0   Valencia      no             3                1   \n",
              "4         Eve  58.0  2277.0   Zaragoza     yes             4                0   \n",
              "...       ...   ...     ...        ...     ...           ...              ...   \n",
              "4995  Charlie  43.0  3160.0  Barcelona      no             0                1   \n",
              "4996     Hank  69.0  1066.0   Valencia      no             3                1   \n",
              "4997      Ivy  37.0  1666.0     Bilbao     yes             1                0   \n",
              "4998    Grace  48.0   849.0  Barcelona     NaN             0               -1   \n",
              "4999      Eve  50.0  1782.0   Valencia     yes             3                0   \n",
              "\n",
              "      income_per_age  is_senior  log_income  \n",
              "0          55.896552      False    7.391415  \n",
              "1          98.428571      False    7.634337  \n",
              "2          53.294118      False    7.908019  \n",
              "3          36.981481      False    7.599902  \n",
              "4          39.258621      False    7.731053  \n",
              "...              ...        ...         ...  \n",
              "4995       73.488372      False    8.058644  \n",
              "4996       15.449275       True    6.972606  \n",
              "4997       45.027027      False    7.418781  \n",
              "4998       17.687500      False    6.745236  \n",
              "4999       35.640000      False    7.486053  \n",
              "\n",
              "[4965 rows x 10 columns]"
            ]
          },
          "metadata": {},
          "output_type": "display_data"
        },
        {
          "name": "stdout",
          "output_type": "stream",
          "text": [
            "\n",
            "Correlation matrix:\n"
          ]
        },
        {
          "data": {
            "text/html": [
              "<div>\n",
              "<style scoped>\n",
              "    .dataframe tbody tr th:only-of-type {\n",
              "        vertical-align: middle;\n",
              "    }\n",
              "\n",
              "    .dataframe tbody tr th {\n",
              "        vertical-align: top;\n",
              "    }\n",
              "\n",
              "    .dataframe thead th {\n",
              "        text-align: right;\n",
              "    }\n",
              "</style>\n",
              "<table border=\"1\" class=\"dataframe\">\n",
              "  <thead>\n",
              "    <tr style=\"text-align: right;\">\n",
              "      <th></th>\n",
              "      <th>age</th>\n",
              "      <th>income</th>\n",
              "      <th>city_encoded</th>\n",
              "      <th>has_car_encoded</th>\n",
              "    </tr>\n",
              "  </thead>\n",
              "  <tbody>\n",
              "    <tr>\n",
              "      <th>age</th>\n",
              "      <td>1.000000</td>\n",
              "      <td>0.021274</td>\n",
              "      <td>0.003650</td>\n",
              "      <td>-0.007300</td>\n",
              "    </tr>\n",
              "    <tr>\n",
              "      <th>income</th>\n",
              "      <td>0.021274</td>\n",
              "      <td>1.000000</td>\n",
              "      <td>0.002653</td>\n",
              "      <td>0.024051</td>\n",
              "    </tr>\n",
              "    <tr>\n",
              "      <th>city_encoded</th>\n",
              "      <td>0.003650</td>\n",
              "      <td>0.002653</td>\n",
              "      <td>1.000000</td>\n",
              "      <td>-0.016549</td>\n",
              "    </tr>\n",
              "    <tr>\n",
              "      <th>has_car_encoded</th>\n",
              "      <td>-0.007300</td>\n",
              "      <td>0.024051</td>\n",
              "      <td>-0.016549</td>\n",
              "      <td>1.000000</td>\n",
              "    </tr>\n",
              "  </tbody>\n",
              "</table>\n",
              "</div>"
            ],
            "text/plain": [
              "                      age    income  city_encoded  has_car_encoded\n",
              "age              1.000000  0.021274      0.003650        -0.007300\n",
              "income           0.021274  1.000000      0.002653         0.024051\n",
              "city_encoded     0.003650  0.002653      1.000000        -0.016549\n",
              "has_car_encoded -0.007300  0.024051     -0.016549         1.000000"
            ]
          },
          "metadata": {},
          "output_type": "display_data"
        },
        {
          "data": {
            "image/png": "[encoded data removed]",
            "text/plain": [
              "<Figure size 640x480 with 2 Axes>"
            ]
          },
          "metadata": {},
          "output_type": "display_data"
        },
        {
          "data": {
            "image/png": "[encoded data removed]",
            "text/plain": [
              "<Figure size 1000x400 with 2 Axes>"
            ]
          },
          "metadata": {},
          "output_type": "display_data"
        },
        {
          "data": {
            "image/png": "[encoded data removed]",
            "text/plain": [
              "<Figure size 640x480 with 1 Axes>"
            ]
          },
          "metadata": {},
          "output_type": "display_data"
        },
        {
          "data": {
            "image/png": "[encoded data removed]",
            "text/plain": [
              "<Figure size 640x480 with 2 Axes>"
            ]
          },
          "metadata": {},
          "output_type": "display_data"
        }
      ],
      "source": [
        "import numpy as np\n",
        "import pandas as pd\n",
        "import matplotlib.pyplot as plt\n",
        "\n",
        "df = pd.read_csv('people_data_large.csv')\n",
        "\n",
        "print('Original dataset\\n')\n",
        "\n",
        "print('Dataset size: ', df.shape)\n",
        "print('Columns: ', df.columns)\n",
        "print('First rows:')\n",
        "display(df.head())\n",
        "\n",
        "# replace invalid entries\n",
        "\n",
        "df.replace('-', np.nan, inplace=True)\n",
        "df.replace('unknown', np.nan, inplace=True)\n",
        "\n",
        "df['age'] = pd.to_numeric(df['age'], errors='coerce')\n",
        "df['income'] = pd.to_numeric(df['income'], errors='coerce')\n",
        "\n",
        "df['age'] = df['age'].fillna(df['age'].median())\n",
        "df['income'] = df['income'].fillna((df['income'].median()))\n",
        "\n",
        "df = df[df['age'] >= 0]\n",
        "df = df[df['income'] >= 0]\n",
        "\n",
        "\n",
        "\n",
        "print('Cleaned dataset\\n')\n",
        "\n",
        "print('Dataset size: ', df.shape)\n",
        "print('Columns: ', df.columns)\n",
        "print('First rows:')\n",
        "\n",
        "display(df.head())\n",
        "\n",
        "# Encode categorical variables (city and has_car)\n",
        "\n",
        "df['city_encoded'] = pd.factorize(df['city'])[0]\n",
        "df['has_car_encoded'] = pd.factorize(df['has_car'])[0]\n",
        "\n",
        "print('Encoded dataset\\n')\n",
        "\n",
        "display(df.head())\n",
        "\n",
        "# dummies\n",
        "\n",
        "df_dummies = df.copy()\n",
        "\n",
        "df_dummies_city = pd.get_dummies(df_dummies['city'], prefix='city')\n",
        "df_dummies_has_car = pd.get_dummies(df_dummies['has_car'], prefix='has_car')\n",
        "\n",
        "df_dummies = pd.concat([df_dummies, df_dummies_city, df_dummies_has_car], axis = 1)\n",
        "\n",
        "print('Dummies dataset\\n')\n",
        "\n",
        "display(df_dummies.head())\n",
        "\n",
        "# Derived features\n",
        "\n",
        "df['income_per_age'] = df['income'] / df['age']\n",
        "df['is_senior'] = df['age'] > 60\n",
        "\n",
        "df['log_income'] = np.log(1 + df['income']) # +1 to avoid log(0)\n",
        "\n",
        "print(\"\\nDataFrame with derived features:\")\n",
        "display(df)\n",
        "\n",
        "# Compute correlations and visualize relationships\n",
        "corr_matrix = df[['age', 'income', 'city_encoded', 'has_car_encoded']].corr()\n",
        "print(\"\\nCorrelation matrix:\")\n",
        "display(corr_matrix)\n",
        "\n",
        "plt.hist2d(df['age'], df['income'], bins=30)\n",
        "plt.colorbar(label='Counts')\n",
        "plt.xlabel('Age')\n",
        "plt.ylabel('Income')\n",
        "plt.title('Correlation between Age and Income')\n",
        "plt.show()\n",
        "\n",
        "fig = plt.figure(figsize=(10,4))\n",
        "ax1 = fig.add_subplot(1,2,1); ax2 = fig.add_subplot(1,2,2)\n",
        "\n",
        "ax1.hist(df['age'], bins=30, alpha=0.7, label='Age')\n",
        "ax1.set_title('Age Distribution')\n",
        "ax1.set_xlabel('Age')\n",
        "ax1.set_ylabel('Frequency')\n",
        "\n",
        "ax2.hist(df['income'], bins=30, alpha=0.7, label='Income')\n",
        "ax2.set_title('Income Distribution')\n",
        "ax2.set_xlabel('Income')\n",
        "ax2.set_ylabel('Frequency')\n",
        "\n",
        "fig.tight_layout()\n",
        "plt.show()\n",
        "\n",
        "plt.figure()\n",
        "plt.scatter(df['age'], df['income'])\n",
        "plt.xlabel('Age')\n",
        "plt.ylabel('Income')\n",
        "plt.title('Income vs Age')\n",
        "plt.show()\n",
        "\n",
        "#correlation heatmap\n",
        "\n",
        "plt.imshow(corr_matrix, vmin=-1, vmax=1)\n",
        "plt.colorbar(label='Correlation Coefficient')\n",
        "plt.title('Correlation Heatmap')\n",
        "plt.xticks(ticks=np.arange(len(corr_matrix.columns)), labels=corr_matrix.columns, rotation=45)\n",
        "plt.yticks(ticks=np.arange(len(corr_matrix.index)), labels=corr_matrix.index)\n",
        "plt.tight_layout()\n",
        "plt.show()\n"
      ]
    },
    {
      "cell_type": "markdown",
      "id": "DS5GAtDoFpjK",
      "metadata": {
        "id": "DS5GAtDoFpjK"
      },
      "source": [
        "\n",
        "2. Data concatenation and merging: generate and merge multiple synthetic CSV files:\n",
        "\n",
        "   - Create three small DataFrames (`people_part1.csv`, `people_part2.csv`, `people_part3.csv`) with overlapping but not identical columns (e.g. `age`, `income`, `city`, `education`, `has_car`).  \n",
        "   - Save each DataFrame to disk with `to_csv()`, introducing small differences between them (missing columns, additional rows, or extra features).  \n",
        "   - Load them back using `pd.read_csv()` and inspect column alignment and data consistency.  \n",
        "   - Concatenate them vertically with `pd.concat([...], ignore_index=True)` and handle missing columns or conflicting types.  \n",
        "   - Clean the merged dataset by filling or dropping `NaN`s and standardizing column names and types.  \n"
      ]
    },
    {
      "cell_type": "code",
      "execution_count": 29,
      "id": "0e36f767",
      "metadata": {},
      "outputs": [
        {
          "name": "stdout",
          "output_type": "stream",
          "text": [
            "The columns in the datasets are: {'education', 'income', 'city', 'has_car', 'age'}\n",
            "Dataset 2 is missing columns: {'has_car', 'income'}\n",
            "Dataset 3 is missing columns: {'education'}\n",
            "Concatenated DataFrame:\n"
          ]
        },
        {
          "data": {
            "text/html": [
              "<div>\n",
              "<style scoped>\n",
              "    .dataframe tbody tr th:only-of-type {\n",
              "        vertical-align: middle;\n",
              "    }\n",
              "\n",
              "    .dataframe tbody tr th {\n",
              "        vertical-align: top;\n",
              "    }\n",
              "\n",
              "    .dataframe thead th {\n",
              "        text-align: right;\n",
              "    }\n",
              "</style>\n",
              "<table border=\"1\" class=\"dataframe\">\n",
              "  <thead>\n",
              "    <tr style=\"text-align: right;\">\n",
              "      <th></th>\n",
              "      <th>age</th>\n",
              "      <th>income</th>\n",
              "      <th>city</th>\n",
              "      <th>education</th>\n",
              "      <th>has_car</th>\n",
              "    </tr>\n",
              "  </thead>\n",
              "  <tbody>\n",
              "    <tr>\n",
              "      <th>0</th>\n",
              "      <td>25</td>\n",
              "      <td>1500.0</td>\n",
              "      <td>A Coruña</td>\n",
              "      <td>High School</td>\n",
              "      <td>yes</td>\n",
              "    </tr>\n",
              "    <tr>\n",
              "      <th>1</th>\n",
              "      <td>30</td>\n",
              "      <td>2000.0</td>\n",
              "      <td>Santiago</td>\n",
              "      <td>Bachelor</td>\n",
              "      <td>no</td>\n",
              "    </tr>\n",
              "    <tr>\n",
              "      <th>2</th>\n",
              "      <td>35</td>\n",
              "      <td>NaN</td>\n",
              "      <td>Barcelona</td>\n",
              "      <td>Bachelor</td>\n",
              "      <td>NaN</td>\n",
              "    </tr>\n",
              "    <tr>\n",
              "      <th>3</th>\n",
              "      <td>40</td>\n",
              "      <td>NaN</td>\n",
              "      <td>Madrid</td>\n",
              "      <td>Master</td>\n",
              "      <td>NaN</td>\n",
              "    </tr>\n",
              "    <tr>\n",
              "      <th>4</th>\n",
              "      <td>45</td>\n",
              "      <td>NaN</td>\n",
              "      <td>Valencia</td>\n",
              "      <td>PhD</td>\n",
              "      <td>NaN</td>\n",
              "    </tr>\n",
              "    <tr>\n",
              "      <th>5</th>\n",
              "      <td>32</td>\n",
              "      <td>2500.0</td>\n",
              "      <td>Ourense</td>\n",
              "      <td>NaN</td>\n",
              "      <td>True</td>\n",
              "    </tr>\n",
              "    <tr>\n",
              "      <th>6</th>\n",
              "      <td>28</td>\n",
              "      <td>1500.0</td>\n",
              "      <td>Vigo</td>\n",
              "      <td>NaN</td>\n",
              "      <td>False</td>\n",
              "    </tr>\n",
              "    <tr>\n",
              "      <th>7</th>\n",
              "      <td>50</td>\n",
              "      <td>6000.0</td>\n",
              "      <td>Pontevedra</td>\n",
              "      <td>NaN</td>\n",
              "      <td>True</td>\n",
              "    </tr>\n",
              "    <tr>\n",
              "      <th>8</th>\n",
              "      <td>60</td>\n",
              "      <td>7000.0</td>\n",
              "      <td>Lugo</td>\n",
              "      <td>NaN</td>\n",
              "      <td>False</td>\n",
              "    </tr>\n",
              "  </tbody>\n",
              "</table>\n",
              "</div>"
            ],
            "text/plain": [
              "   age  income        city    education has_car\n",
              "0   25  1500.0    A Coruña  High School     yes\n",
              "1   30  2000.0    Santiago     Bachelor      no\n",
              "2   35     NaN   Barcelona     Bachelor     NaN\n",
              "3   40     NaN      Madrid       Master     NaN\n",
              "4   45     NaN    Valencia          PhD     NaN\n",
              "5   32  2500.0     Ourense          NaN    True\n",
              "6   28  1500.0        Vigo          NaN   False\n",
              "7   50  6000.0  Pontevedra          NaN    True\n",
              "8   60  7000.0        Lugo          NaN   False"
            ]
          },
          "metadata": {},
          "output_type": "display_data"
        },
        {
          "name": "stdout",
          "output_type": "stream",
          "text": [
            "\n",
            "DataFrame after resolving conflicting data types:\n"
          ]
        },
        {
          "data": {
            "text/html": [
              "<div>\n",
              "<style scoped>\n",
              "    .dataframe tbody tr th:only-of-type {\n",
              "        vertical-align: middle;\n",
              "    }\n",
              "\n",
              "    .dataframe tbody tr th {\n",
              "        vertical-align: top;\n",
              "    }\n",
              "\n",
              "    .dataframe thead th {\n",
              "        text-align: right;\n",
              "    }\n",
              "</style>\n",
              "<table border=\"1\" class=\"dataframe\">\n",
              "  <thead>\n",
              "    <tr style=\"text-align: right;\">\n",
              "      <th></th>\n",
              "      <th>age</th>\n",
              "      <th>income</th>\n",
              "      <th>city</th>\n",
              "      <th>education</th>\n",
              "      <th>has_car</th>\n",
              "    </tr>\n",
              "  </thead>\n",
              "  <tbody>\n",
              "    <tr>\n",
              "      <th>0</th>\n",
              "      <td>25</td>\n",
              "      <td>1500.0</td>\n",
              "      <td>A Coruña</td>\n",
              "      <td>High School</td>\n",
              "      <td>True</td>\n",
              "    </tr>\n",
              "    <tr>\n",
              "      <th>1</th>\n",
              "      <td>30</td>\n",
              "      <td>2000.0</td>\n",
              "      <td>Santiago</td>\n",
              "      <td>Bachelor</td>\n",
              "      <td>False</td>\n",
              "    </tr>\n",
              "    <tr>\n",
              "      <th>2</th>\n",
              "      <td>35</td>\n",
              "      <td>NaN</td>\n",
              "      <td>Barcelona</td>\n",
              "      <td>Bachelor</td>\n",
              "      <td>NaN</td>\n",
              "    </tr>\n",
              "    <tr>\n",
              "      <th>3</th>\n",
              "      <td>40</td>\n",
              "      <td>NaN</td>\n",
              "      <td>Madrid</td>\n",
              "      <td>Master</td>\n",
              "      <td>NaN</td>\n",
              "    </tr>\n",
              "    <tr>\n",
              "      <th>4</th>\n",
              "      <td>45</td>\n",
              "      <td>NaN</td>\n",
              "      <td>Valencia</td>\n",
              "      <td>PhD</td>\n",
              "      <td>NaN</td>\n",
              "    </tr>\n",
              "    <tr>\n",
              "      <th>5</th>\n",
              "      <td>32</td>\n",
              "      <td>2500.0</td>\n",
              "      <td>Ourense</td>\n",
              "      <td>NaN</td>\n",
              "      <td>True</td>\n",
              "    </tr>\n",
              "    <tr>\n",
              "      <th>6</th>\n",
              "      <td>28</td>\n",
              "      <td>1500.0</td>\n",
              "      <td>Vigo</td>\n",
              "      <td>NaN</td>\n",
              "      <td>False</td>\n",
              "    </tr>\n",
              "    <tr>\n",
              "      <th>7</th>\n",
              "      <td>50</td>\n",
              "      <td>6000.0</td>\n",
              "      <td>Pontevedra</td>\n",
              "      <td>NaN</td>\n",
              "      <td>True</td>\n",
              "    </tr>\n",
              "    <tr>\n",
              "      <th>8</th>\n",
              "      <td>60</td>\n",
              "      <td>7000.0</td>\n",
              "      <td>Lugo</td>\n",
              "      <td>NaN</td>\n",
              "      <td>False</td>\n",
              "    </tr>\n",
              "  </tbody>\n",
              "</table>\n",
              "</div>"
            ],
            "text/plain": [
              "   age  income        city    education has_car\n",
              "0   25  1500.0    A Coruña  High School    True\n",
              "1   30  2000.0    Santiago     Bachelor   False\n",
              "2   35     NaN   Barcelona     Bachelor     NaN\n",
              "3   40     NaN      Madrid       Master     NaN\n",
              "4   45     NaN    Valencia          PhD     NaN\n",
              "5   32  2500.0     Ourense          NaN    True\n",
              "6   28  1500.0        Vigo          NaN   False\n",
              "7   50  6000.0  Pontevedra          NaN    True\n",
              "8   60  7000.0        Lugo          NaN   False"
            ]
          },
          "metadata": {},
          "output_type": "display_data"
        },
        {
          "name": "stdout",
          "output_type": "stream",
          "text": [
            "\n",
            "DataFrame after handling missing values:\n"
          ]
        },
        {
          "data": {
            "text/html": [
              "<div>\n",
              "<style scoped>\n",
              "    .dataframe tbody tr th:only-of-type {\n",
              "        vertical-align: middle;\n",
              "    }\n",
              "\n",
              "    .dataframe tbody tr th {\n",
              "        vertical-align: top;\n",
              "    }\n",
              "\n",
              "    .dataframe thead th {\n",
              "        text-align: right;\n",
              "    }\n",
              "</style>\n",
              "<table border=\"1\" class=\"dataframe\">\n",
              "  <thead>\n",
              "    <tr style=\"text-align: right;\">\n",
              "      <th></th>\n",
              "      <th>age</th>\n",
              "      <th>income</th>\n",
              "      <th>city</th>\n",
              "      <th>education</th>\n",
              "      <th>has_car</th>\n",
              "    </tr>\n",
              "  </thead>\n",
              "  <tbody>\n",
              "    <tr>\n",
              "      <th>0</th>\n",
              "      <td>25</td>\n",
              "      <td>1500.0</td>\n",
              "      <td>A Coruña</td>\n",
              "      <td>High School</td>\n",
              "      <td>True</td>\n",
              "    </tr>\n",
              "    <tr>\n",
              "      <th>1</th>\n",
              "      <td>30</td>\n",
              "      <td>2000.0</td>\n",
              "      <td>Santiago</td>\n",
              "      <td>Bachelor</td>\n",
              "      <td>False</td>\n",
              "    </tr>\n",
              "    <tr>\n",
              "      <th>5</th>\n",
              "      <td>32</td>\n",
              "      <td>2500.0</td>\n",
              "      <td>Ourense</td>\n",
              "      <td>High School</td>\n",
              "      <td>True</td>\n",
              "    </tr>\n",
              "    <tr>\n",
              "      <th>6</th>\n",
              "      <td>28</td>\n",
              "      <td>1500.0</td>\n",
              "      <td>Vigo</td>\n",
              "      <td>High School</td>\n",
              "      <td>False</td>\n",
              "    </tr>\n",
              "    <tr>\n",
              "      <th>7</th>\n",
              "      <td>50</td>\n",
              "      <td>6000.0</td>\n",
              "      <td>Pontevedra</td>\n",
              "      <td>High School</td>\n",
              "      <td>True</td>\n",
              "    </tr>\n",
              "    <tr>\n",
              "      <th>8</th>\n",
              "      <td>60</td>\n",
              "      <td>7000.0</td>\n",
              "      <td>Lugo</td>\n",
              "      <td>High School</td>\n",
              "      <td>False</td>\n",
              "    </tr>\n",
              "  </tbody>\n",
              "</table>\n",
              "</div>"
            ],
            "text/plain": [
              "   age  income        city    education has_car\n",
              "0   25  1500.0    A Coruña  High School    True\n",
              "1   30  2000.0    Santiago     Bachelor   False\n",
              "5   32  2500.0     Ourense  High School    True\n",
              "6   28  1500.0        Vigo  High School   False\n",
              "7   50  6000.0  Pontevedra  High School    True\n",
              "8   60  7000.0        Lugo  High School   False"
            ]
          },
          "metadata": {},
          "output_type": "display_data"
        }
      ],
      "source": [
        "import numpy as np\n",
        "import matplotlib.pyplot as plt\n",
        "import pandas as pd\n",
        "\n",
        "people_part1 = pd.DataFrame({\n",
        "    'age': [25, 30],\n",
        "    'income': [1500, 2000],\n",
        "    'city': ['A Coruña', 'Santiago'],\n",
        "    'education': ['High School', 'Bachelor'],\n",
        "    'has_car': ['yes', 'no']\n",
        "    })\n",
        "\n",
        "people_part2 = pd.DataFrame({\n",
        "    'age': [35, 40, 45],\n",
        "    'city': ['Barcelona', 'Madrid', 'Valencia'],\n",
        "    'education': ['Bachelor', 'Master', 'PhD']\n",
        "    })\n",
        "\n",
        "people_part3 = pd.DataFrame({\n",
        "    'age': [32, 28, 50, 60],\n",
        "    'income': [2500, 1500, 6000, 7000],\n",
        "    'city': ['Ourense', 'Vigo', 'Pontevedra', 'Lugo'],\n",
        "    'has_car': [True, False, True, False]\n",
        "    })\n",
        "\n",
        "\n",
        "people_part1.to_csv('people_part1.csv', index=False)\n",
        "people_part2.to_csv('people_part2.csv', index=False)\n",
        "people_part3.to_csv('people_part3.csv', index=False)\n",
        "\n",
        "\n",
        "# reading and checking\n",
        "\n",
        "df1 = pd.read_csv('people_part1.csv')\n",
        "df2 = pd.read_csv('people_part2.csv')\n",
        "df3 = pd.read_csv('people_part3.csv')\n",
        "\n",
        "# inspect column alignment and data consistency\n",
        "\n",
        "def check_columns(dfs):\n",
        "\n",
        "    cols = [set(df.columns) for df in dfs] \n",
        "    all_cols = set().union(*cols)\n",
        "    print('The columns in the datasets are:', all_cols)\n",
        "\n",
        "    for i, df in enumerate(dfs):\n",
        "\n",
        "        missing = all_cols - set(df.columns) # set a - set b gives the elements in a that are not in b!\n",
        "\n",
        "        if len(missing) > 0:\n",
        "            print(f'Dataset {i+1} is missing columns: {missing}')\n",
        "        \n",
        "check_columns([df1, df2, df3])\n",
        "\n",
        "df = pd.concat([df1, df2, df3], ignore_index=True)\n",
        "\n",
        "print(\"Concatenated DataFrame:\")\n",
        "display(df)\n",
        "\n",
        "# Handle conflicting data types\n",
        "\n",
        "df['has_car'] = df['has_car'].replace({'yes': True, 'no': False})\n",
        "\n",
        "print(\"\\nDataFrame after resolving conflicting data types:\")\n",
        "display(df)\n",
        "\n",
        "# Handle missing values\n",
        "\n",
        "df['income'] = df['income'].fillna(df['income'].median()) # fill missing income with median\n",
        "df['education'] = df['education'].fillna('High School') # assume the person has at least high school\n",
        "df = df.dropna(subset=['has_car']) # drop rows where has_car is missing\n",
        "\n",
        "print(\"\\nDataFrame after handling missing values:\")\n",
        "display(df)"
      ]
    },
    {
      "cell_type": "markdown",
      "id": "D4rcLVvdFrOa",
      "metadata": {
        "id": "D4rcLVvdFrOa"
      },
      "source": [
        "\n",
        "\n",
        "3. Practice feature engineering using a dataset read from a ROOT file with `uproot`:\n",
        "\n",
        "    - Read the ROOT file ([example.root](https://www.dropbox.com/scl/fi/138im0euyaof8ie111bg4/example.root?rlkey=egflvhlk6i58n13bhsh2d54zi&dl=1)\n",
        ") into a pandas DataFrame and inspect its structure.  \n",
        "    - Compute derived physics features, such as total momentum `p`, transverse mass `mt`, and energy `E`, from the existing kinematic variables.  \n",
        "    - Aggregate data per event using `groupby(\"event_id\")`, computing summaries like total and mean `pT`, total charge, and summed energy.  \n",
        "    - Engineer ML-friendly features: normalized components (`px/p`, `py/p`, `pz/p`), transformations (`log(pT)`, `|η|`), and composite metrics (e.g. isolation-like variables).  \n",
        "    - Visualize your results using histograms and 2D correlations to check distributions and relationships between engineered quantities."
      ]
    },
    {
      "cell_type": "code",
      "execution_count": 74,
      "id": "118abfe9",
      "metadata": {},
      "outputs": [
        {
          "name": "stdout",
          "output_type": "stream",
          "text": [
            "New quantities added:\n",
            "\n"
          ]
        },
        {
          "data": {
            "text/html": [
              "<div>\n",
              "<style scoped>\n",
              "    .dataframe tbody tr th:only-of-type {\n",
              "        vertical-align: middle;\n",
              "    }\n",
              "\n",
              "    .dataframe tbody tr th {\n",
              "        vertical-align: top;\n",
              "    }\n",
              "\n",
              "    .dataframe thead th {\n",
              "        text-align: right;\n",
              "    }\n",
              "</style>\n",
              "<table border=\"1\" class=\"dataframe\">\n",
              "  <thead>\n",
              "    <tr style=\"text-align: right;\">\n",
              "      <th></th>\n",
              "      <th>event_id</th>\n",
              "      <th>pt</th>\n",
              "      <th>eta</th>\n",
              "      <th>phi</th>\n",
              "      <th>mass</th>\n",
              "      <th>charge</th>\n",
              "      <th>weight</th>\n",
              "      <th>px</th>\n",
              "      <th>py</th>\n",
              "      <th>pz</th>\n",
              "      <th>p</th>\n",
              "      <th>mt</th>\n",
              "      <th>E</th>\n",
              "    </tr>\n",
              "  </thead>\n",
              "  <tbody>\n",
              "    <tr>\n",
              "      <th>0</th>\n",
              "      <td>0</td>\n",
              "      <td>56.094341</td>\n",
              "      <td>0.176277</td>\n",
              "      <td>-0.862287</td>\n",
              "      <td>0.142090</td>\n",
              "      <td>1</td>\n",
              "      <td>1.022903</td>\n",
              "      <td>36.500755</td>\n",
              "      <td>-42.594254</td>\n",
              "      <td>9.939434</td>\n",
              "      <td>56.968132</td>\n",
              "      <td>56.094524</td>\n",
              "      <td>56.968311</td>\n",
              "    </tr>\n",
              "    <tr>\n",
              "      <th>1</th>\n",
              "      <td>1</td>\n",
              "      <td>29.200317</td>\n",
              "      <td>0.899123</td>\n",
              "      <td>2.779722</td>\n",
              "      <td>0.073243</td>\n",
              "      <td>-1</td>\n",
              "      <td>0.922179</td>\n",
              "      <td>-27.309191</td>\n",
              "      <td>10.337630</td>\n",
              "      <td>29.937948</td>\n",
              "      <td>41.820320</td>\n",
              "      <td>29.200409</td>\n",
              "      <td>41.820385</td>\n",
              "    </tr>\n",
              "    <tr>\n",
              "      <th>2</th>\n",
              "      <td>2</td>\n",
              "      <td>65.009026</td>\n",
              "      <td>-1.472271</td>\n",
              "      <td>-1.538110</td>\n",
              "      <td>0.218586</td>\n",
              "      <td>0</td>\n",
              "      <td>1.006288</td>\n",
              "      <td>2.124535</td>\n",
              "      <td>-64.974297</td>\n",
              "      <td>-134.234467</td>\n",
              "      <td>149.147797</td>\n",
              "      <td>65.009392</td>\n",
              "      <td>149.147949</td>\n",
              "    </tr>\n",
              "    <tr>\n",
              "      <th>3</th>\n",
              "      <td>3</td>\n",
              "      <td>68.811295</td>\n",
              "      <td>-0.285298</td>\n",
              "      <td>2.104623</td>\n",
              "      <td>0.207743</td>\n",
              "      <td>0</td>\n",
              "      <td>0.991444</td>\n",
              "      <td>-35.013363</td>\n",
              "      <td>59.237309</td>\n",
              "      <td>-19.899143</td>\n",
              "      <td>71.630791</td>\n",
              "      <td>68.811607</td>\n",
              "      <td>71.631088</td>\n",
              "    </tr>\n",
              "    <tr>\n",
              "      <th>4</th>\n",
              "      <td>4</td>\n",
              "      <td>10.979297</td>\n",
              "      <td>0.829153</td>\n",
              "      <td>2.493517</td>\n",
              "      <td>0.094561</td>\n",
              "      <td>-1</td>\n",
              "      <td>0.865894</td>\n",
              "      <td>-8.753213</td>\n",
              "      <td>6.627686</td>\n",
              "      <td>10.183073</td>\n",
              "      <td>14.974643</td>\n",
              "      <td>10.979704</td>\n",
              "      <td>14.974941</td>\n",
              "    </tr>\n",
              "  </tbody>\n",
              "</table>\n",
              "</div>"
            ],
            "text/plain": [
              "   event_id         pt       eta       phi      mass  charge    weight  \\\n",
              "0         0  56.094341  0.176277 -0.862287  0.142090       1  1.022903   \n",
              "1         1  29.200317  0.899123  2.779722  0.073243      -1  0.922179   \n",
              "2         2  65.009026 -1.472271 -1.538110  0.218586       0  1.006288   \n",
              "3         3  68.811295 -0.285298  2.104623  0.207743       0  0.991444   \n",
              "4         4  10.979297  0.829153  2.493517  0.094561      -1  0.865894   \n",
              "\n",
              "          px         py          pz           p         mt           E  \n",
              "0  36.500755 -42.594254    9.939434   56.968132  56.094524   56.968311  \n",
              "1 -27.309191  10.337630   29.937948   41.820320  29.200409   41.820385  \n",
              "2   2.124535 -64.974297 -134.234467  149.147797  65.009392  149.147949  \n",
              "3 -35.013363  59.237309  -19.899143   71.630791  68.811607   71.631088  \n",
              "4  -8.753213   6.627686   10.183073   14.974643  10.979704   14.974941  "
            ]
          },
          "metadata": {},
          "output_type": "display_data"
        },
        {
          "name": "stdout",
          "output_type": "stream",
          "text": [
            "Aggregated DataFrame by event_id:\n"
          ]
        },
        {
          "data": {
            "text/html": [
              "<div>\n",
              "<style scoped>\n",
              "    .dataframe tbody tr th:only-of-type {\n",
              "        vertical-align: middle;\n",
              "    }\n",
              "\n",
              "    .dataframe tbody tr th {\n",
              "        vertical-align: top;\n",
              "    }\n",
              "\n",
              "    .dataframe thead th {\n",
              "        text-align: right;\n",
              "    }\n",
              "</style>\n",
              "<table border=\"1\" class=\"dataframe\">\n",
              "  <thead>\n",
              "    <tr style=\"text-align: right;\">\n",
              "      <th></th>\n",
              "      <th>total_pt</th>\n",
              "      <th>mean_pt</th>\n",
              "      <th>total_charge</th>\n",
              "      <th>total_energy</th>\n",
              "    </tr>\n",
              "    <tr>\n",
              "      <th>event_id</th>\n",
              "      <th></th>\n",
              "      <th></th>\n",
              "      <th></th>\n",
              "      <th></th>\n",
              "    </tr>\n",
              "  </thead>\n",
              "  <tbody>\n",
              "    <tr>\n",
              "      <th>0</th>\n",
              "      <td>56.094341</td>\n",
              "      <td>56.094341</td>\n",
              "      <td>1</td>\n",
              "      <td>56.968311</td>\n",
              "    </tr>\n",
              "    <tr>\n",
              "      <th>1</th>\n",
              "      <td>29.200317</td>\n",
              "      <td>29.200317</td>\n",
              "      <td>-1</td>\n",
              "      <td>41.820385</td>\n",
              "    </tr>\n",
              "    <tr>\n",
              "      <th>2</th>\n",
              "      <td>65.009026</td>\n",
              "      <td>65.009026</td>\n",
              "      <td>0</td>\n",
              "      <td>149.147949</td>\n",
              "    </tr>\n",
              "    <tr>\n",
              "      <th>3</th>\n",
              "      <td>68.811295</td>\n",
              "      <td>68.811295</td>\n",
              "      <td>0</td>\n",
              "      <td>71.631088</td>\n",
              "    </tr>\n",
              "    <tr>\n",
              "      <th>4</th>\n",
              "      <td>10.979297</td>\n",
              "      <td>10.979297</td>\n",
              "      <td>-1</td>\n",
              "      <td>14.974941</td>\n",
              "    </tr>\n",
              "  </tbody>\n",
              "</table>\n",
              "</div>"
            ],
            "text/plain": [
              "           total_pt    mean_pt  total_charge  total_energy\n",
              "event_id                                                  \n",
              "0         56.094341  56.094341             1     56.968311\n",
              "1         29.200317  29.200317            -1     41.820385\n",
              "2         65.009026  65.009026             0    149.147949\n",
              "3         68.811295  68.811295             0     71.631088\n",
              "4         10.979297  10.979297            -1     14.974941"
            ]
          },
          "metadata": {},
          "output_type": "display_data"
        },
        {
          "data": {
            "image/png": "[encoded data removed]",
            "text/plain": [
              "<Figure size 600x400 with 2 Axes>"
            ]
          },
          "metadata": {},
          "output_type": "display_data"
        },
        {
          "data": {
            "image/png": "[encoded data removed]",
            "text/plain": [
              "<Figure size 600x400 with 1 Axes>"
            ]
          },
          "metadata": {},
          "output_type": "display_data"
        },
        {
          "data": {
            "image/png": "[encoded data removed]",
            "text/plain": [
              "<Figure size 600x400 with 1 Axes>"
            ]
          },
          "metadata": {},
          "output_type": "display_data"
        },
        {
          "data": {
            "image/png": "[encoded data removed]",
            "text/plain": [
              "<Figure size 600x400 with 2 Axes>"
            ]
          },
          "metadata": {},
          "output_type": "display_data"
        }
      ],
      "source": [
        "import numpy as np\n",
        "import matplotlib.pyplot as plt\n",
        "import pandas as pd\n",
        "import uproot\n",
        "\n",
        "with uproot.open(\"example.root\") as f:\n",
        "\n",
        "    tree = f[\"events\"]\n",
        "    df = tree.arrays(library=\"pd\")\n",
        "\n",
        "\n",
        "# derived physics\n",
        "\n",
        "df['p'] = np.sqrt(df['px']**2 + df['py']**2 + df['pz']**2)\n",
        "df['mt'] = np.sqrt(df['mass']**2 + df['pt']**2)\n",
        "df['E'] = np.sqrt(df['p']**2 + df['mass']**2)\n",
        "\n",
        "print('New quantities added:\\n')\n",
        "display(df.head())\n",
        "\n",
        "# groupby\n",
        "\n",
        "aggregate = df.groupby('event_id').agg(\n",
        "    total_pt=('pt', 'sum'),\n",
        "    mean_pt = ('pt', 'mean'),\n",
        "    total_charge= ('charge', 'sum'),\n",
        "    total_energy= ('E', 'sum')\n",
        ")\n",
        "\n",
        "print(\"Aggregated DataFrame by event_id:\")\n",
        "display(aggregate.head())\n",
        "\n",
        "# ML-friendly\n",
        "\n",
        "df['px/p'] = df['px'] / df['p']\n",
        "df['py/p'] = df['py'] / df['p']\n",
        "df['pz/p'] = df['pz'] / df['p']\n",
        "\n",
        "df['log_pt'] = np.log(df['pt'])\n",
        "df['abs_eta'] = np.abs(df['eta'])\n",
        "\n",
        "# plotting\n",
        "\n",
        "plt.figure(figsize=(6,4))\n",
        "\n",
        "plt.hist2d(df['px/p'], df['py/p'], bins=50)\n",
        "plt.colorbar(label='Counts')\n",
        "plt.xlabel('px/p')\n",
        "plt.ylabel('py/p')\n",
        "plt.title('Correlation of px/p vs py/p')\n",
        "plt.show()\n",
        "\n",
        "plt.figure(figsize=(6,4))\n",
        "plt.hist(df['log_pt'], bins=50, alpha=0.7)\n",
        "plt.xlabel('log(pt)')\n",
        "plt.ylabel('arbitrary units')\n",
        "plt.title('Distribution of log(pt)')\n",
        "plt.show()\n",
        "\n",
        "plt.figure(figsize=(6,4))\n",
        "\n",
        "plt.hist(df['abs_eta'], bins=50, alpha=0.7)\n",
        "plt.xlabel('|eta|')\n",
        "plt.ylabel('arbitrary units')\n",
        "plt.title('Distribution of |eta|')\n",
        "plt.show()\n",
        "\n",
        "plt.figure(figsize=(6,4))\n",
        "plt.hist2d(df['abs_eta'], df['log_pt'], bins=50)\n",
        "plt.colorbar(label='Counts')\n",
        "plt.xlabel('|eta|')\n",
        "plt.ylabel('log(pt)')\n",
        "plt.title('Correlation of |eta| vs log(pt)')\n",
        "plt.show()"
      ]
    },
    {
      "cell_type": "markdown",
      "id": "4509ba27",
      "metadata": {
        "id": "4509ba27"
      },
      "source": [
        "### ++ Exercise\n",
        "\n",
        "You are given a large synthetic dataset, [transactions_large.csv](\n",
        "https://www.dropbox.com/scl/fi/978fvanm97etvopuep5wd/transactions_large.csv?rlkey=vazbdqpjjatwg8bz0f6bc1xhp&dl=1), containing ~10 million financial transactions with the following columns:\n",
        "\n",
        "       - `user_id` (int): unique user identifier  \n",
        "       - `timestamp` (datetime): simulated transaction time  \n",
        "       - `region` (str): user region (`Europe`, `Asia`, `America`, `Africa`, `Oceania`)  \n",
        "       - `category` (str): purchase category (`electronics`, `clothing`, `groceries`, `sports`, `entertainment`)  \n",
        "       - `amount` (float): transaction amount in euros  \n",
        "       - `is_fraud` (bool): simulated fraud flag (~2% of cases)\n",
        "   - Load the dataset using a scalable data engine:\n",
        "       - `Dask`: `import dask.dataframe as dd; df = dd.read_csv(\"transactions_large.csv\")`\n",
        "       - or `Polars`: `import polars as pl; df = pl.read_csv(\"transactions_large.csv\")`\n",
        "       - or `PySpark`: `spark.read.csv(\"transactions_large.csv\", header=True, inferSchema=True)`\n",
        "   - Compute and visualize:\n",
        "       - total number of transactions and total amount per region  \n",
        "       - average and median amount per category  \n",
        "       - percentage of fraudulent transactions overall and per region  \n",
        "   - Filter the data to select:\n",
        "       - transactions above €1000  \n",
        "       - fraudulent transactions in `Europe` or `America`  \n",
        "       - activity in the last simulated month  \n",
        "   - Visualize the filtered results using `matplotlib` or `seaborn`.  \n",
        "   - Compare the time and memory usage of these operations when executed with pandas vs. your chosen backend (`Dask`, `Polars`, or `PySpark`).\n",
        "\n",
        "\n"
      ]
    },
    {
      "cell_type": "code",
      "execution_count": 4,
      "id": "fbcd76e5",
      "metadata": {},
      "outputs": [
        {
          "data": {
            "text/html": [
              "<div><style>\n",
              ".dataframe > thead > tr,\n",
              ".dataframe > tbody > tr {\n",
              "  text-align: right;\n",
              "  white-space: pre-wrap;\n",
              "}\n",
              "</style>\n",
              "<small>shape: (5, 6)</small><table border=\"1\" class=\"dataframe\"><thead><tr><th>user_id</th><th>timestamp</th><th>region</th><th>category</th><th>amount</th><th>is_fraud</th></tr><tr><td>i64</td><td>str</td><td>str</td><td>str</td><td>f64</td><td>bool</td></tr></thead><tbody><tr><td>221832</td><td>&quot;2023-11-01 12:29:00&quot;</td><td>&quot;Asia&quot;</td><td>&quot;sports&quot;</td><td>344.77</td><td>false</td></tr><tr><td>257592</td><td>&quot;2023-11-25 06:57:00&quot;</td><td>&quot;Africa&quot;</td><td>&quot;clothing&quot;</td><td>103.74</td><td>false</td></tr><tr><td>284486</td><td>&quot;2023-02-27 09:42:00&quot;</td><td>&quot;Europe&quot;</td><td>&quot;groceries&quot;</td><td>162.38</td><td>false</td></tr><tr><td>431836</td><td>&quot;2023-06-23 12:43:00&quot;</td><td>&quot;Europe&quot;</td><td>&quot;sports&quot;</td><td>834.74</td><td>false</td></tr><tr><td>458356</td><td>&quot;2023-04-11 07:20:00&quot;</td><td>&quot;Asia&quot;</td><td>&quot;sports&quot;</td><td>307.08</td><td>false</td></tr></tbody></table></div>"
            ],
            "text/plain": [
              "shape: (5, 6)\n",
              "┌─────────┬─────────────────────┬────────┬───────────┬────────┬──────────┐\n",
              "│ user_id ┆ timestamp           ┆ region ┆ category  ┆ amount ┆ is_fraud │\n",
              "│ ---     ┆ ---                 ┆ ---    ┆ ---       ┆ ---    ┆ ---      │\n",
              "│ i64     ┆ str                 ┆ str    ┆ str       ┆ f64    ┆ bool     │\n",
              "╞═════════╪═════════════════════╪════════╪═══════════╪════════╪══════════╡\n",
              "│ 221832  ┆ 2023-11-01 12:29:00 ┆ Asia   ┆ sports    ┆ 344.77 ┆ false    │\n",
              "│ 257592  ┆ 2023-11-25 06:57:00 ┆ Africa ┆ clothing  ┆ 103.74 ┆ false    │\n",
              "│ 284486  ┆ 2023-02-27 09:42:00 ┆ Europe ┆ groceries ┆ 162.38 ┆ false    │\n",
              "│ 431836  ┆ 2023-06-23 12:43:00 ┆ Europe ┆ sports    ┆ 834.74 ┆ false    │\n",
              "│ 458356  ┆ 2023-04-11 07:20:00 ┆ Asia   ┆ sports    ┆ 307.08 ┆ false    │\n",
              "└─────────┴─────────────────────┴────────┴───────────┴────────┴──────────┘"
            ]
          },
          "metadata": {},
          "output_type": "display_data"
        },
        {
          "name": "stdout",
          "output_type": "stream",
          "text": [
            "Polars reading: Time taken = 0.43 seconds, Memory used = 501.75 MB\n",
            "Pandas reading: Time taken = 7.41 seconds, Memory used = 1980.50 MB\n"
          ]
        },
        {
          "data": {
            "text/html": [
              "<div><style>\n",
              ".dataframe > thead > tr,\n",
              ".dataframe > tbody > tr {\n",
              "  text-align: right;\n",
              "  white-space: pre-wrap;\n",
              "}\n",
              "</style>\n",
              "<small>shape: (5, 3)</small><table border=\"1\" class=\"dataframe\"><thead><tr><th>region</th><th>transaction_count</th><th>total_amount</th></tr><tr><td>str</td><td>u32</td><td>f64</td></tr></thead><tbody><tr><td>&quot;Oceania&quot;</td><td>500576</td><td>2.0044e8</td></tr><tr><td>&quot;Europe&quot;</td><td>3497798</td><td>1.3991e9</td></tr><tr><td>&quot;Asia&quot;</td><td>2499595</td><td>9.9998e8</td></tr><tr><td>&quot;Africa&quot;</td><td>999548</td><td>3.9990e8</td></tr><tr><td>&quot;America&quot;</td><td>2502483</td><td>1.0011e9</td></tr></tbody></table></div>"
            ],
            "text/plain": [
              "shape: (5, 3)\n",
              "┌─────────┬───────────────────┬──────────────┐\n",
              "│ region  ┆ transaction_count ┆ total_amount │\n",
              "│ ---     ┆ ---               ┆ ---          │\n",
              "│ str     ┆ u32               ┆ f64          │\n",
              "╞═════════╪═══════════════════╪══════════════╡\n",
              "│ Oceania ┆ 500576            ┆ 2.0044e8     │\n",
              "│ Europe  ┆ 3497798           ┆ 1.3991e9     │\n",
              "│ Asia    ┆ 2499595           ┆ 9.9998e8     │\n",
              "│ Africa  ┆ 999548            ┆ 3.9990e8     │\n",
              "│ America ┆ 2502483           ┆ 1.0011e9     │\n",
              "└─────────┴───────────────────┴──────────────┘"
            ]
          },
          "metadata": {},
          "output_type": "display_data"
        },
        {
          "data": {
            "text/html": [
              "<div><style>\n",
              ".dataframe > thead > tr,\n",
              ".dataframe > tbody > tr {\n",
              "  text-align: right;\n",
              "  white-space: pre-wrap;\n",
              "}\n",
              "</style>\n",
              "<small>shape: (5, 3)</small><table border=\"1\" class=\"dataframe\"><thead><tr><th>category</th><th>average_amount</th><th>median_amount</th></tr><tr><td>str</td><td>f64</td><td>f64</td></tr></thead><tbody><tr><td>&quot;groceries&quot;</td><td>399.993794</td><td>335.59</td></tr><tr><td>&quot;electronics&quot;</td><td>399.957989</td><td>335.41</td></tr><tr><td>&quot;clothing&quot;</td><td>400.191921</td><td>335.89</td></tr><tr><td>&quot;sports&quot;</td><td>399.979196</td><td>335.72</td></tr><tr><td>&quot;entertainment&quot;</td><td>400.302499</td><td>336.14</td></tr></tbody></table></div>"
            ],
            "text/plain": [
              "shape: (5, 3)\n",
              "┌───────────────┬────────────────┬───────────────┐\n",
              "│ category      ┆ average_amount ┆ median_amount │\n",
              "│ ---           ┆ ---            ┆ ---           │\n",
              "│ str           ┆ f64            ┆ f64           │\n",
              "╞═══════════════╪════════════════╪═══════════════╡\n",
              "│ groceries     ┆ 399.993794     ┆ 335.59        │\n",
              "│ electronics   ┆ 399.957989     ┆ 335.41        │\n",
              "│ clothing      ┆ 400.191921     ┆ 335.89        │\n",
              "│ sports        ┆ 399.979196     ┆ 335.72        │\n",
              "│ entertainment ┆ 400.302499     ┆ 336.14        │\n",
              "└───────────────┴────────────────┴───────────────┘"
            ]
          },
          "metadata": {},
          "output_type": "display_data"
        },
        {
          "name": "stdout",
          "output_type": "stream",
          "text": [
            "Overall fraudulent percentage: 2.00%\n"
          ]
        },
        {
          "data": {
            "text/html": [
              "<div><style>\n",
              ".dataframe > thead > tr,\n",
              ".dataframe > tbody > tr {\n",
              "  text-align: right;\n",
              "  white-space: pre-wrap;\n",
              "}\n",
              "</style>\n",
              "<small>shape: (5, 2)</small><table border=\"1\" class=\"dataframe\"><thead><tr><th>region</th><th>fraudulent_percentage</th></tr><tr><td>str</td><td>f64</td></tr></thead><tbody><tr><td>&quot;Europe&quot;</td><td>1.987479</td></tr><tr><td>&quot;Africa&quot;</td><td>1.989399</td></tr><tr><td>&quot;Asia&quot;</td><td>2.002644</td></tr><tr><td>&quot;Oceania&quot;</td><td>2.013081</td></tr><tr><td>&quot;America&quot;</td><td>2.009284</td></tr></tbody></table></div>"
            ],
            "text/plain": [
              "shape: (5, 2)\n",
              "┌─────────┬───────────────────────┐\n",
              "│ region  ┆ fraudulent_percentage │\n",
              "│ ---     ┆ ---                   │\n",
              "│ str     ┆ f64                   │\n",
              "╞═════════╪═══════════════════════╡\n",
              "│ Europe  ┆ 1.987479              │\n",
              "│ Africa  ┆ 1.989399              │\n",
              "│ Asia    ┆ 2.002644              │\n",
              "│ Oceania ┆ 2.013081              │\n",
              "│ America ┆ 2.009284              │\n",
              "└─────────┴───────────────────────┘"
            ]
          },
          "metadata": {},
          "output_type": "display_data"
        },
        {
          "name": "stdout",
          "output_type": "stream",
          "text": [
            "Polars aggregation: Time taken = 0.97 seconds\n",
            "Pandas aggregation: Time taken = 1.99 seconds\n",
            "max date:  2023-12-31 23:59:00 min date:  2023-01-01 00:00:00\n",
            "Transactions above 1000:\n"
          ]
        },
        {
          "data": {
            "text/html": [
              "<div><style>\n",
              ".dataframe > thead > tr,\n",
              ".dataframe > tbody > tr {\n",
              "  text-align: right;\n",
              "  white-space: pre-wrap;\n",
              "}\n",
              "</style>\n",
              "<small>shape: (5, 6)</small><table border=\"1\" class=\"dataframe\"><thead><tr><th>user_id</th><th>timestamp</th><th>region</th><th>category</th><th>amount</th><th>is_fraud</th></tr><tr><td>i64</td><td>str</td><td>str</td><td>str</td><td>f64</td><td>bool</td></tr></thead><tbody><tr><td>249342</td><td>&quot;2023-05-16 13:14:00&quot;</td><td>&quot;Europe&quot;</td><td>&quot;electronics&quot;</td><td>1017.04</td><td>false</td></tr><tr><td>206576</td><td>&quot;2023-04-23 15:29:00&quot;</td><td>&quot;Asia&quot;</td><td>&quot;clothing&quot;</td><td>1104.17</td><td>false</td></tr><tr><td>439714</td><td>&quot;2023-12-01 20:57:00&quot;</td><td>&quot;Europe&quot;</td><td>&quot;clothing&quot;</td><td>1158.97</td><td>false</td></tr><tr><td>261316</td><td>&quot;2023-07-16 04:13:00&quot;</td><td>&quot;Europe&quot;</td><td>&quot;electronics&quot;</td><td>1312.11</td><td>false</td></tr><tr><td>10510</td><td>&quot;2023-05-14 08:58:00&quot;</td><td>&quot;Europe&quot;</td><td>&quot;groceries&quot;</td><td>1030.12</td><td>false</td></tr></tbody></table></div>"
            ],
            "text/plain": [
              "shape: (5, 6)\n",
              "┌─────────┬─────────────────────┬────────┬─────────────┬─────────┬──────────┐\n",
              "│ user_id ┆ timestamp           ┆ region ┆ category    ┆ amount  ┆ is_fraud │\n",
              "│ ---     ┆ ---                 ┆ ---    ┆ ---         ┆ ---     ┆ ---      │\n",
              "│ i64     ┆ str                 ┆ str    ┆ str         ┆ f64     ┆ bool     │\n",
              "╞═════════╪═════════════════════╪════════╪═════════════╪═════════╪══════════╡\n",
              "│ 249342  ┆ 2023-05-16 13:14:00 ┆ Europe ┆ electronics ┆ 1017.04 ┆ false    │\n",
              "│ 206576  ┆ 2023-04-23 15:29:00 ┆ Asia   ┆ clothing    ┆ 1104.17 ┆ false    │\n",
              "│ 439714  ┆ 2023-12-01 20:57:00 ┆ Europe ┆ clothing    ┆ 1158.97 ┆ false    │\n",
              "│ 261316  ┆ 2023-07-16 04:13:00 ┆ Europe ┆ electronics ┆ 1312.11 ┆ false    │\n",
              "│ 10510   ┆ 2023-05-14 08:58:00 ┆ Europe ┆ groceries   ┆ 1030.12 ┆ false    │\n",
              "└─────────┴─────────────────────┴────────┴─────────────┴─────────┴──────────┘"
            ]
          },
          "metadata": {},
          "output_type": "display_data"
        },
        {
          "name": "stdout",
          "output_type": "stream",
          "text": [
            "Fraudulent transactions in Europe or America:\n"
          ]
        },
        {
          "data": {
            "text/html": [
              "<div><style>\n",
              ".dataframe > thead > tr,\n",
              ".dataframe > tbody > tr {\n",
              "  text-align: right;\n",
              "  white-space: pre-wrap;\n",
              "}\n",
              "</style>\n",
              "<small>shape: (5, 6)</small><table border=\"1\" class=\"dataframe\"><thead><tr><th>user_id</th><th>timestamp</th><th>region</th><th>category</th><th>amount</th><th>is_fraud</th></tr><tr><td>i64</td><td>str</td><td>str</td><td>str</td><td>f64</td><td>bool</td></tr></thead><tbody><tr><td>52332</td><td>&quot;2023-05-19 21:34:00&quot;</td><td>&quot;America&quot;</td><td>&quot;electronics&quot;</td><td>486.77</td><td>true</td></tr><tr><td>187439</td><td>&quot;2023-05-10 09:54:00&quot;</td><td>&quot;Europe&quot;</td><td>&quot;entertainment&quot;</td><td>351.6</td><td>true</td></tr><tr><td>4232</td><td>&quot;2023-07-16 15:04:00&quot;</td><td>&quot;Europe&quot;</td><td>&quot;electronics&quot;</td><td>554.78</td><td>true</td></tr><tr><td>211832</td><td>&quot;2023-03-18 06:36:00&quot;</td><td>&quot;Europe&quot;</td><td>&quot;electronics&quot;</td><td>369.5</td><td>true</td></tr><tr><td>102556</td><td>&quot;2023-12-06 08:14:00&quot;</td><td>&quot;America&quot;</td><td>&quot;sports&quot;</td><td>1815.56</td><td>true</td></tr></tbody></table></div>"
            ],
            "text/plain": [
              "shape: (5, 6)\n",
              "┌─────────┬─────────────────────┬─────────┬───────────────┬─────────┬──────────┐\n",
              "│ user_id ┆ timestamp           ┆ region  ┆ category      ┆ amount  ┆ is_fraud │\n",
              "│ ---     ┆ ---                 ┆ ---     ┆ ---           ┆ ---     ┆ ---      │\n",
              "│ i64     ┆ str                 ┆ str     ┆ str           ┆ f64     ┆ bool     │\n",
              "╞═════════╪═════════════════════╪═════════╪═══════════════╪═════════╪══════════╡\n",
              "│ 52332   ┆ 2023-05-19 21:34:00 ┆ America ┆ electronics   ┆ 486.77  ┆ true     │\n",
              "│ 187439  ┆ 2023-05-10 09:54:00 ┆ Europe  ┆ entertainment ┆ 351.6   ┆ true     │\n",
              "│ 4232    ┆ 2023-07-16 15:04:00 ┆ Europe  ┆ electronics   ┆ 554.78  ┆ true     │\n",
              "│ 211832  ┆ 2023-03-18 06:36:00 ┆ Europe  ┆ electronics   ┆ 369.5   ┆ true     │\n",
              "│ 102556  ┆ 2023-12-06 08:14:00 ┆ America ┆ sports        ┆ 1815.56 ┆ true     │\n",
              "└─────────┴─────────────────────┴─────────┴───────────────┴─────────┴──────────┘"
            ]
          },
          "metadata": {},
          "output_type": "display_data"
        },
        {
          "name": "stdout",
          "output_type": "stream",
          "text": [
            "December transactions:\n"
          ]
        },
        {
          "data": {
            "text/html": [
              "<div><style>\n",
              ".dataframe > thead > tr,\n",
              ".dataframe > tbody > tr {\n",
              "  text-align: right;\n",
              "  white-space: pre-wrap;\n",
              "}\n",
              "</style>\n",
              "<small>shape: (849_288, 6)</small><table border=\"1\" class=\"dataframe\"><thead><tr><th>user_id</th><th>timestamp</th><th>region</th><th>category</th><th>amount</th><th>is_fraud</th></tr><tr><td>i64</td><td>str</td><td>str</td><td>str</td><td>f64</td><td>bool</td></tr></thead><tbody><tr><td>101205</td><td>&quot;2023-12-18 14:18:00&quot;</td><td>&quot;Asia&quot;</td><td>&quot;groceries&quot;</td><td>146.76</td><td>false</td></tr><tr><td>317141</td><td>&quot;2023-12-10 09:50:00&quot;</td><td>&quot;America&quot;</td><td>&quot;sports&quot;</td><td>60.25</td><td>false</td></tr><tr><td>201434</td><td>&quot;2023-12-09 07:31:00&quot;</td><td>&quot;Africa&quot;</td><td>&quot;groceries&quot;</td><td>312.57</td><td>false</td></tr><tr><td>314463</td><td>&quot;2023-12-16 13:31:00&quot;</td><td>&quot;Oceania&quot;</td><td>&quot;groceries&quot;</td><td>408.96</td><td>false</td></tr><tr><td>439714</td><td>&quot;2023-12-01 20:57:00&quot;</td><td>&quot;Europe&quot;</td><td>&quot;clothing&quot;</td><td>1158.97</td><td>false</td></tr><tr><td>&hellip;</td><td>&hellip;</td><td>&hellip;</td><td>&hellip;</td><td>&hellip;</td><td>&hellip;</td></tr><tr><td>113125</td><td>&quot;2023-12-12 07:21:00&quot;</td><td>&quot;Europe&quot;</td><td>&quot;groceries&quot;</td><td>662.4</td><td>false</td></tr><tr><td>352503</td><td>&quot;2023-12-21 01:39:00&quot;</td><td>&quot;America&quot;</td><td>&quot;groceries&quot;</td><td>347.32</td><td>false</td></tr><tr><td>195279</td><td>&quot;2023-12-25 13:47:00&quot;</td><td>&quot;America&quot;</td><td>&quot;groceries&quot;</td><td>717.65</td><td>false</td></tr><tr><td>174394</td><td>&quot;2023-12-02 23:22:00&quot;</td><td>&quot;Europe&quot;</td><td>&quot;sports&quot;</td><td>544.72</td><td>false</td></tr><tr><td>204600</td><td>&quot;2023-12-03 08:40:00&quot;</td><td>&quot;America&quot;</td><td>&quot;groceries&quot;</td><td>409.93</td><td>false</td></tr></tbody></table></div>"
            ],
            "text/plain": [
              "shape: (849_288, 6)\n",
              "┌─────────┬─────────────────────┬─────────┬───────────┬─────────┬──────────┐\n",
              "│ user_id ┆ timestamp           ┆ region  ┆ category  ┆ amount  ┆ is_fraud │\n",
              "│ ---     ┆ ---                 ┆ ---     ┆ ---       ┆ ---     ┆ ---      │\n",
              "│ i64     ┆ str                 ┆ str     ┆ str       ┆ f64     ┆ bool     │\n",
              "╞═════════╪═════════════════════╪═════════╪═══════════╪═════════╪══════════╡\n",
              "│ 101205  ┆ 2023-12-18 14:18:00 ┆ Asia    ┆ groceries ┆ 146.76  ┆ false    │\n",
              "│ 317141  ┆ 2023-12-10 09:50:00 ┆ America ┆ sports    ┆ 60.25   ┆ false    │\n",
              "│ 201434  ┆ 2023-12-09 07:31:00 ┆ Africa  ┆ groceries ┆ 312.57  ┆ false    │\n",
              "│ 314463  ┆ 2023-12-16 13:31:00 ┆ Oceania ┆ groceries ┆ 408.96  ┆ false    │\n",
              "│ 439714  ┆ 2023-12-01 20:57:00 ┆ Europe  ┆ clothing  ┆ 1158.97 ┆ false    │\n",
              "│ …       ┆ …                   ┆ …       ┆ …         ┆ …       ┆ …        │\n",
              "│ 113125  ┆ 2023-12-12 07:21:00 ┆ Europe  ┆ groceries ┆ 662.4   ┆ false    │\n",
              "│ 352503  ┆ 2023-12-21 01:39:00 ┆ America ┆ groceries ┆ 347.32  ┆ false    │\n",
              "│ 195279  ┆ 2023-12-25 13:47:00 ┆ America ┆ groceries ┆ 717.65  ┆ false    │\n",
              "│ 174394  ┆ 2023-12-02 23:22:00 ┆ Europe  ┆ sports    ┆ 544.72  ┆ false    │\n",
              "│ 204600  ┆ 2023-12-03 08:40:00 ┆ America ┆ groceries ┆ 409.93  ┆ false    │\n",
              "└─────────┴─────────────────────┴─────────┴───────────┴─────────┴──────────┘"
            ]
          },
          "metadata": {},
          "output_type": "display_data"
        },
        {
          "name": "stdout",
          "output_type": "stream",
          "text": [
            "Polars filtering: Time taken = 0.08 seconds\n",
            "Pandas filtering: Time taken = 2.04 seconds\n"
          ]
        },
        {
          "data": {
            "image/png": "[encoded data removed]",
            "text/plain": [
              "<Figure size 640x480 with 1 Axes>"
            ]
          },
          "metadata": {},
          "output_type": "display_data"
        },
        {
          "name": "stdout",
          "output_type": "stream",
          "text": [
            "fraud_in_america: 50282\n"
          ]
        },
        {
          "data": {
            "image/png": "[encoded data removed]",
            "text/plain": [
              "<Figure size 640x480 with 1 Axes>"
            ]
          },
          "metadata": {},
          "output_type": "display_data"
        },
        {
          "data": {
            "image/png": "[encoded data removed]",
            "text/plain": [
              "<Figure size 640x480 with 1 Axes>"
            ]
          },
          "metadata": {},
          "output_type": "display_data"
        }
      ],
      "source": [
        "import polars as pl\n",
        "import pandas as pd\n",
        "import time\n",
        "import matplotlib.pyplot as plt\n",
        "\n",
        "# ==== reading ==== #\n",
        "\n",
        "# polars\n",
        "start = time.time()\n",
        "df_pl = pl.read_csv('transactions_large.csv')\n",
        "polars_time = time.time() - start\n",
        "\n",
        "polars_memory = df_pl.estimated_size() / 1e6  # in MB\n",
        "\n",
        "display(df_pl.head())\n",
        "\n",
        "# pandas\n",
        "start = time.time()\n",
        "df_pd = pd.read_csv('transactions_large.csv')\n",
        "pandas_time = time.time() - start\n",
        "\n",
        "pandas_memory = df_pd.memory_usage(deep=True).sum() / 1e6  # in MB\n",
        "\n",
        "print(f'Polars reading: Time taken = {polars_time:.2f} seconds, Memory used = {polars_memory:.2f} MB')\n",
        "print(f'Pandas reading: Time taken = {pandas_time:.2f} seconds, Memory used = {pandas_memory:.2f} MB')\n",
        "\n",
        "# ==== aggregation ==== #\n",
        "\n",
        "# polars\n",
        "\n",
        "start = time.time()\n",
        "\n",
        "totals_per_region = (df_pl.group_by('region').agg(\n",
        "    [pl.col('amount').count().alias('transaction_count'),\n",
        "    pl.col('amount').sum().alias('total_amount')])\n",
        "    )\n",
        "\n",
        "centrals_per_category = (df_pl.group_by('category').agg(\n",
        "    [pl.col('amount').mean().alias('average_amount'),\n",
        "    pl.col('amount').median().alias('median_amount')])\n",
        "    )\n",
        "\n",
        "fraudulent_percentage_overall = df_pl['is_fraud'].sum()/ df_pl['is_fraud'].count() * 100\n",
        "fraudulent_percentage_per_region = (df_pl.group_by('region').agg(\n",
        "    [(pl.col('is_fraud').sum() / pl.col('is_fraud').count() * 100).alias('fraudulent_percentage')])\n",
        "    )\n",
        "\n",
        "polars_agg_time = time.time() - start\n",
        "\n",
        "display(totals_per_region)\n",
        "display(centrals_per_category)\n",
        "print(f'Overall fraudulent percentage: {fraudulent_percentage_overall:.2f}%')\n",
        "display(fraudulent_percentage_per_region)\n",
        "\n",
        "# pandas\n",
        "\n",
        "start = time.time()\n",
        "\n",
        "totals_per_region_pd = df_pd.groupby('region').agg(\n",
        "    transaction_count=('amount', 'count'),\n",
        "    total_amount=('amount', 'sum')\n",
        "    )\n",
        "\n",
        "centrals_per_category_pd = df_pd.groupby('category').agg(\n",
        "    average_amount=('amount', 'mean'),\n",
        "    median_amount=('amount', 'median')\n",
        "    )\n",
        "\n",
        "fraudulent_percentage_overall_pd = df_pd['is_fraud'].sum() / df_pd['is_fraud'].count() * 100\n",
        "fraudulent_percentage_per_region_pd = df_pd.groupby('region').agg(\n",
        "    fraudulent_percentage=('is_fraud', lambda x: x.sum() / x.count() * 100)\n",
        "    )\n",
        "\n",
        "pandas_agg_time = time.time() - start\n",
        "\n",
        "\n",
        "print(f'Polars aggregation: Time taken = {polars_agg_time:.2f} seconds')\n",
        "print(f'Pandas aggregation: Time taken = {pandas_agg_time:.2f} seconds')\n",
        "\n",
        "# ==== filter data ==== #\n",
        "\n",
        "# first obtain the last month date\n",
        "\n",
        "max_date = df_pl['timestamp'].max()\n",
        "min_date = df_pl['timestamp'].min()\n",
        "print('max date: ', max_date, 'min date: ', min_date)\n",
        "\n",
        "'''\n",
        "By this prints we observe that this data is from 2023-01-01 to 2023-12-31,\n",
        "so the last month is December 2023\n",
        "\n",
        "Apparently, polars can read the date strings directly!\n",
        "'''\n",
        "\n",
        "# polars\n",
        "\n",
        "start = time.time()\n",
        "\n",
        "above_1000 = df_pl.filter(pl.col('amount') > 1000)\n",
        "\n",
        "fraudulent_transactions_europeoramerica = df_pl.filter((pl.col('is_fraud') == True) & (pl.col('region').is_in(['Europe', 'America'])))\n",
        "\n",
        "december_transactions = df_pl.filter((pl.col('timestamp') >= '2023-12-01'))\n",
        "\n",
        "polars_filter_time = time.time() - start\n",
        "\n",
        "print('Transactions above 1000:')\n",
        "display(above_1000.head())\n",
        "\n",
        "print('Fraudulent transactions in Europe or America:')\n",
        "display(fraudulent_transactions_europeoramerica.head())\n",
        "\n",
        "print('December transactions:')\n",
        "display(december_transactions)\n",
        "\n",
        "# pandas\n",
        "\n",
        "start = time.time()\n",
        "\n",
        "above_1000_pd = df_pd[df_pd['amount'] > 1000]\n",
        "\n",
        "fraudulent_transactions_europeoramerica_pd = df_pd[(df_pd['is_fraud'] == True) & (df_pd['region'].isin(['Europe', 'America']))]\n",
        "\n",
        "december_transactions_pd = df_pd[pd.to_datetime(df_pd['timestamp']) >= pd.to_datetime('2023-12-01')]\n",
        "\n",
        "pandas_filter_time = time.time() - start\n",
        "\n",
        "\n",
        "\n",
        "\n",
        "print(f'Polars filtering: Time taken = {polars_filter_time:.2f} seconds')\n",
        "print(f'Pandas filtering: Time taken = {pandas_filter_time:.2f} seconds')\n",
        "\n",
        "\n",
        "# ==== plotting ==== #\n",
        "\n",
        "# plot above 1000\n",
        "\n",
        "plt.figure()\n",
        "\n",
        "plt.hist(above_1000['amount'], bins=50, alpha=0.7)\n",
        "plt.xlabel('Amount')\n",
        "plt.ylabel('Number of transactions')\n",
        "plt.title('Transactions with Amount > 1000')\n",
        "plt.show()\n",
        "\n",
        "# fraudulent in europe or america\n",
        "\n",
        "## total counts in each region\n",
        "\n",
        "fraud_in_america = fraudulent_transactions_europeoramerica.filter(pl.col('region') == 'America')['region'].count()\n",
        "fraud_in_europe = fraudulent_transactions_europeoramerica.filter(pl.col('region') == 'Europe')['region'].count()\n",
        "\n",
        "print('fraud_in_america:', fraud_in_america)\n",
        "\n",
        "plt.figure()\n",
        "\n",
        "plt.bar(['America', 'Europe'], [fraud_in_america, fraud_in_europe], color=['blue', 'red'])\n",
        "plt.ylabel('Number of frauds')\n",
        "\n",
        "# activity in december\n",
        "\n",
        "total_activity = df_pl['amount'].count()\n",
        "december_activity = december_transactions['amount'].count()\n",
        "\n",
        "plt.figure()\n",
        "plt.bar(['Total', 'December'], [total_activity, december_activity], color=['blue', 'red'])\n",
        "plt.ylabel('Activity')\n",
        "plt.show()"
      ]
    }
  ],
  "metadata": {
    "celltoolbar": "Slideshow",
    "colab": {
      "provenance": []
    },
    "kernelspec": {
      "display_name": "base",
      "language": "python",
      "name": "python3"
    },
    "language_info": {
      "codemirror_mode": {
        "name": "ipython",
        "version": 3
      },
      "file_extension": ".py",
      "mimetype": "text/x-python",
      "name": "python",
      "nbconvert_exporter": "python",
      "pygments_lexer": "ipython3",
      "version": "3.13.5"
    }
  },
  "nbformat": 4,
  "nbformat_minor": 5
}
