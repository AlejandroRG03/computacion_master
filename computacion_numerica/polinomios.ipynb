{
 "cells": [
  {
   "cell_type": "code",
   "execution_count": 14,
   "id": "9b0741ba",
   "metadata": {},
   "outputs": [
    {
     "name": "stdout",
     "output_type": "stream",
     "text": [
      "Polinomio p\n",
      "    3     2\n",
      "1 x + 2 x + 3 x - 4\n",
      "Polinomio pol\n",
      "    3     2\n",
      "1 z - 6 z + 11 z - 6\n",
      "-6.0\n",
      "[ 1. -6. 11. -6.]\n",
      "[  1.  36. 121.  36.]\n",
      "Raices de pol \n",
      " [3. 2. 1.]\n"
     ]
    }
   ],
   "source": [
    "import numpy as np\n",
    "\n",
    "\n",
    "p = np.poly1d([1,2,3,-4])\n",
    "pol = np.poly1d([1,2,3], True, variable = 'z') # Construye el polinomio de raices 1 2 3\n",
    "\n",
    "print('Polinomio p\\n', p)\n",
    "print('Polinomio pol\\n', pol)\n",
    "\n",
    "print(pol[0]) # coeficiente de potencia 0\n",
    "\n",
    "print(np.asarray(pol)) # array de coeficientes del polinomio\n",
    "print(np.square(pol)) # array de coeficientes al cuadrado\n",
    "\n",
    "print('Raices de pol \\n', pol.r) # raices del polinomio\n",
    "\n",
    "d = pol.deriv(); d = np.polyder(pol) # dos formas de derivar el polinomio\n",
    "## np.polyder(pol, m) indica el orden de la derivada (m)\n",
    "\n",
    "dd = np.polyder(pol, 2) # etc"
   ]
  },
  {
   "cell_type": "markdown",
   "id": "ba3f364c",
   "metadata": {},
   "source": [
    "# Ejercicios de polinomios"
   ]
  },
  {
   "cell_type": "code",
   "execution_count": 18,
   "id": "8cb5f756",
   "metadata": {},
   "outputs": [
    {
     "name": "stdout",
     "output_type": "stream",
     "text": [
      "   3     2\n",
      "1 x - 4 x + 5 x - 8\n"
     ]
    }
   ],
   "source": [
    "# Ejercicio 1\n",
    "\n",
    "import numpy as np\n",
    "\n",
    "p1 = np.poly1d([1,-5,10,-12])\n",
    "p2 = np.poly1d([1,-5,4])\n",
    "\n",
    "p = p1 + p2\n",
    "\n",
    "print(p)"
   ]
  },
  {
   "cell_type": "code",
   "execution_count": 19,
   "id": "a5e75009",
   "metadata": {},
   "outputs": [
    {
     "name": "stdout",
     "output_type": "stream",
     "text": [
      "    2\n",
      "-1 x + 5 x - 20\n"
     ]
    }
   ],
   "source": [
    "# Ejercicio 2\n",
    "\n",
    "import numpy as np\n",
    "\n",
    "p1 = np.poly1d([1,-5,10,-12])\n",
    "p2 = np.poly1d([1,-4,5,8])\n",
    "\n",
    "p = p1 - p2\n",
    "\n",
    "print(p)"
   ]
  },
  {
   "cell_type": "code",
   "execution_count": 20,
   "id": "b11b0f11",
   "metadata": {},
   "outputs": [
    {
     "name": "stdout",
     "output_type": "stream",
     "text": [
      "   5      4      3      2\n",
      "1 x - 10 x + 39 x - 82 x + 100 x - 48\n"
     ]
    }
   ],
   "source": [
    "# Ejercicio 3\n",
    "\n",
    "import numpy as np\n",
    "\n",
    "p1 = np.poly1d([1,-5,10,-12])\n",
    "p2 = np.poly1d([1,-5,4])\n",
    "\n",
    "p = p1 * p2\n",
    "\n",
    "print(p)"
   ]
  },
  {
   "cell_type": "code",
   "execution_count": 21,
   "id": "1110cc01",
   "metadata": {},
   "outputs": [
    {
     "name": "stdout",
     "output_type": "stream",
     "text": [
      "(poly1d([1., 0., 2.]), poly1d([ 1., -1.]))\n"
     ]
    }
   ],
   "source": [
    "# Ejercicio 4\n",
    "\n",
    "import numpy as np\n",
    "\n",
    "p1 = np.poly1d([1,-1,3,-1,1])\n",
    "p2 = np.poly1d([1,-1,1])\n",
    "\n",
    "p = p1/p2\n",
    "\n",
    "print(p)"
   ]
  },
  {
   "cell_type": "code",
   "execution_count": null,
   "id": "4da282df",
   "metadata": {},
   "outputs": [
    {
     "name": "stdout",
     "output_type": "stream",
     "text": [
      "-9\n"
     ]
    }
   ],
   "source": [
    "# Ejercicio 5\n",
    "\n",
    "import numpy as np\n",
    "\n",
    "p = np.poly1d([3,-3,-2])\n",
    "\n",
    "dp = np.polyder(p)\n",
    "\n",
    "x0 = -1\n",
    "\n",
    "print(dp(x0))"
   ]
  },
  {
   "cell_type": "code",
   "execution_count": null,
   "id": "f004c5ba",
   "metadata": {},
   "outputs": [
    {
     "name": "stdout",
     "output_type": "stream",
     "text": [
      "   3       2\n",
      "1 x - 1.5 x - 2 x + 5\n"
     ]
    },
    {
     "data": {
      "text/plain": [
       "'$x=2$'"
      ]
     },
     "metadata": {},
     "output_type": "display_data"
    }
   ],
   "source": [
    "# Ejercicio 6\n",
    "\n",
    "import numpy as np\n",
    "\n",
    "p = np.poly1d([3,-3,-2])\n",
    "\n",
    "I = np.polyint(p,k=5)\n",
    "\n",
    "print(I)\n"
   ]
  }
 ],
 "metadata": {
  "kernelspec": {
   "display_name": "base",
   "language": "python",
   "name": "python3"
  },
  "language_info": {
   "codemirror_mode": {
    "name": "ipython",
    "version": 3
   },
   "file_extension": ".py",
   "mimetype": "text/x-python",
   "name": "python",
   "nbconvert_exporter": "python",
   "pygments_lexer": "ipython3",
   "version": "3.12.4"
  }
 },
 "nbformat": 4,
 "nbformat_minor": 5
}
