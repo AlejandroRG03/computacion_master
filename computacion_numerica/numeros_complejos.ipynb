{
 "cells": [
  {
   "cell_type": "markdown",
   "id": "ecf784c4",
   "metadata": {},
   "source": [
    "# Numeros complejos"
   ]
  },
  {
   "cell_type": "code",
   "execution_count": 2,
   "id": "5447f128",
   "metadata": {},
   "outputs": [
    {
     "name": "stdout",
     "output_type": "stream",
     "text": [
      "suma:  (5+4j)\n",
      "multiplicación (1+13j)\n",
      "división:  (0.4117647058823529+0.6470588235294118j)\n",
      "conjugado de a:  (1-3j)\n",
      "b =  (4+1j)\n",
      "Re(b) = 4.0\n",
      "Im(b) =  1.0\n"
     ]
    }
   ],
   "source": [
    "a = 1 + 3j\n",
    "b = 4 + 1j\n",
    "\n",
    "print('suma: ', a+b)\n",
    "print('multiplicación', a*b)\n",
    "print('división: ', a/b)\n",
    "print('conjugado de a: ', a.conjugate() )\n",
    "\n",
    "print('b = ',b )\n",
    "print('Re(b) =', b.real)\n",
    "print('Im(b) = ', b.imag)"
   ]
  }
 ],
 "metadata": {
  "kernelspec": {
   "display_name": "base",
   "language": "python",
   "name": "python3"
  },
  "language_info": {
   "codemirror_mode": {
    "name": "ipython",
    "version": 3
   },
   "file_extension": ".py",
   "mimetype": "text/x-python",
   "name": "python",
   "nbconvert_exporter": "python",
   "pygments_lexer": "ipython3",
   "version": "3.12.4"
  }
 },
 "nbformat": 4,
 "nbformat_minor": 5
}
