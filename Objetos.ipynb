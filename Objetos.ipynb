{
 "cells": [
  {
   "cell_type": "markdown",
   "id": "1627abb1",
   "metadata": {},
   "source": [
    "# Programación orientada a objetos en Python"
   ]
  },
  {
   "cell_type": "markdown",
   "id": "1b871eb2",
   "metadata": {},
   "source": [
    "Una clase engloba una serie de objetos que vienen con una serie de funciones y atributos ya definidos"
   ]
  },
  {
   "cell_type": "code",
   "execution_count": 6,
   "id": "c1aabaa6",
   "metadata": {},
   "outputs": [
    {
     "name": "stdout",
     "output_type": "stream",
     "text": [
      "1 0 1\n",
      "1.4142135623730951\n"
     ]
    }
   ],
   "source": [
    "import numpy as np\n",
    "\n",
    "class Vector3D:\n",
    "    \n",
    "    def __init__(self, x, y, z):\n",
    "\n",
    "        self.x = x; self.y = y; self.z = z\n",
    "    \n",
    "    def abs(self):\n",
    "        return np.sqrt(self.x**2 + self.y**2 + self.z**2)\n",
    "\n",
    "v1 = Vector3D(1,0,1)\n",
    "\n",
    "print(v1.x, v1.y, v1.z)\n",
    "print(v1.abs())\n"
   ]
  },
  {
   "cell_type": "code",
   "execution_count": 7,
   "id": "620cac08",
   "metadata": {},
   "outputs": [
    {
     "data": {
      "text/plain": [
       "<__main__.Vector3D at 0x1df7b928f80>"
      ]
     },
     "execution_count": 7,
     "metadata": {},
     "output_type": "execute_result"
    }
   ],
   "source": [
    "v1"
   ]
  },
  {
   "cell_type": "markdown",
   "id": "bf212baf",
   "metadata": {},
   "source": [
    "## Herencia"
   ]
  },
  {
   "cell_type": "markdown",
   "id": "b0df2460",
   "metadata": {},
   "source": [
    "La herencia le permite a una clase reutilizar el código de otra clase."
   ]
  },
  {
   "cell_type": "code",
   "execution_count": 1,
   "id": "0d0a55b7",
   "metadata": {},
   "outputs": [
    {
     "name": "stdout",
     "output_type": "stream",
     "text": [
      "Guau\n",
      "Miau\n",
      "Sonido\n"
     ]
    }
   ],
   "source": [
    "class Animal:\n",
    "\n",
    "    def speak(self):\n",
    "        print(\"Sonido\")\n",
    "\n",
    "class Dog(Animal):\n",
    "\n",
    "    def speak(self):\n",
    "        print(\"Guau\")\n",
    "\n",
    "class Cat(Animal):\n",
    "\n",
    "    def speak(self):\n",
    "        print(\"Miau\")\n",
    "\n",
    "animales = [Dog(), Cat(), Animal()]\n",
    "\n",
    "for animal in animales:\n",
    "    animal.speak()"
   ]
  },
  {
   "cell_type": "markdown",
   "id": "ac65e203",
   "metadata": {},
   "source": [
    "## Polimorfismo"
   ]
  },
  {
   "cell_type": "markdown",
   "id": "353bfb2a",
   "metadata": {},
   "source": [
    "El polimorfismo permite a diferentes clases ser usadas de forma intercambiable con una interfaz común"
   ]
  },
  {
   "cell_type": "code",
   "execution_count": 6,
   "id": "f4d931a3",
   "metadata": {},
   "outputs": [
    {
     "name": "stdout",
     "output_type": "stream",
     "text": [
      "78.53981633974483\n",
      "12\n",
      "4\n"
     ]
    }
   ],
   "source": [
    "import numpy as np\n",
    "\n",
    "class Shape:\n",
    "\n",
    "    def area(self):\n",
    "        pass\n",
    "\n",
    "class Circle(Shape):\n",
    "\n",
    "    def __init__(self,radius):\n",
    "        self.radius = radius\n",
    "\n",
    "    def area(self):\n",
    "        return np.pi * self.radius**2\n",
    "\n",
    "class Rectangle(Shape):\n",
    "\n",
    "    def __init__(self,width, height):\n",
    "        self.width = width\n",
    "        self.height = height\n",
    "\n",
    "    def area(self):\n",
    "        return self.width * self.height\n",
    "\n",
    "# Podemos heredar un cuadrado como un caso del rectángulo\n",
    "\n",
    "class Square(Rectangle):\n",
    "\n",
    "    def __init__(self, width): #self hereda width y height de Rectangle\n",
    "        \n",
    "        self.width = width \n",
    "        self.height = width\n",
    "\n",
    "\n",
    "shapes = [Circle(5), Rectangle(3,4), Square(2)]\n",
    "for s in shapes:\n",
    "    print(s.area())"
   ]
  }
 ],
 "metadata": {
  "kernelspec": {
   "display_name": "base",
   "language": "python",
   "name": "python3"
  },
  "language_info": {
   "codemirror_mode": {
    "name": "ipython",
    "version": 3
   },
   "file_extension": ".py",
   "mimetype": "text/x-python",
   "name": "python",
   "nbconvert_exporter": "python",
   "pygments_lexer": "ipython3",
   "version": "3.12.4"
  }
 },
 "nbformat": 4,
 "nbformat_minor": 5
}
